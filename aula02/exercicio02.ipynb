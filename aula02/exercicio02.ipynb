{
 "cells": [
  {
   "cell_type": "markdown",
   "id": "edc6ac77-251a-401b-949e-a1446cd91908",
   "metadata": {},
   "source": [
    "#Exercício 02:"
   ]
  },
  {
   "cell_type": "markdown",
   "id": "fbd89a36-ec4b-4db2-bd4e-39df3a6e8bd6",
   "metadata": {},
   "source": [
    "***Crie um programa em Python que utilize um laço de repetição para contar de 1 a 5. O programa deve exibir cada número da contagem, um por vez, na tela.***\n",
    "\n",
    "***Inicie a contagem em 1 e continue até alcançar o número 5.***\n",
    "\n",
    "***Para cada número, o programa deve exibir a mensagem \"Contagem: X\", onde X é o número atual da contagem:***"
   ]
  },
  {
   "cell_type": "code",
   "execution_count": 1,
   "id": "09ab05ba-81f2-42c6-b372-3d29b82a8dde",
   "metadata": {},
   "outputs": [
    {
     "name": "stdout",
     "output_type": "stream",
     "text": [
      "Contagem: 1\n",
      "Contagem: 2\n",
      "Contagem: 3\n",
      "Contagem: 4\n",
      "Contagem: 5\n"
     ]
    }
   ],
   "source": [
    "# Laço de repetição para contar de 1 a 5\n",
    "for i in range(1, 6):\n",
    "    print(f\"Contagem: {i}\")"
   ]
  }
 ],
 "metadata": {
  "kernelspec": {
   "display_name": "Python 3 (ipykernel)",
   "language": "python",
   "name": "python3"
  },
  "language_info": {
   "codemirror_mode": {
    "name": "ipython",
    "version": 3
   },
   "file_extension": ".py",
   "mimetype": "text/x-python",
   "name": "python",
   "nbconvert_exporter": "python",
   "pygments_lexer": "ipython3",
   "version": "3.12.4"
  }
 },
 "nbformat": 4,
 "nbformat_minor": 5
}
