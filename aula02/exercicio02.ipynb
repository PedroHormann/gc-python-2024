{
 "cells": [
  {
   "cell_type": "markdown",
   "id": "b4e57b90-c8db-4029-a291-8d1f683df4ec",
   "metadata": {},
   "source": [
    "#Exercícios - Aula 01:"
   ]
  },
  {
   "cell_type": "markdown",
   "id": "3ea875fc-099b-49de-adf0-e0ca18eabf05",
   "metadata": {},
   "source": [
    "***Crie um programa em Python que solicite ao usuário que insira a sua idade. Com base na idade fornecida, o programa deve verificar se o usuário é menor de idade, maior de idade ou se está completando 18 anos.\n",
    "\n",
    " Se a idade for menor que 18 anos, o programa deve exibir \"Menor de idade!\".\n",
    "\n",
    " Se a idade for exatamente 18 anos, o programa deve exibir \"Feliz aniversário!\".\n",
    "\n",
    "Se a idade for maior que 18 anos, o programa deve exibir \"Maior de idade!\":***"
   ]
  },
  {
   "cell_type": "code",
   "execution_count": 4,
   "id": "0dca08e0-ad64-4d4a-b163-d54542cad4d7",
   "metadata": {},
   "outputs": [
    {
     "name": "stdin",
     "output_type": "stream",
     "text": [
      "Por favor, insira a sua idade:  0\n"
     ]
    },
    {
     "name": "stdout",
     "output_type": "stream",
     "text": [
      "Idade inválida! Por favor, insira uma idade maior ou igual a 1.\n"
     ]
    },
    {
     "name": "stdin",
     "output_type": "stream",
     "text": [
      "Por favor, insira a sua idade:  18\n"
     ]
    },
    {
     "name": "stdout",
     "output_type": "stream",
     "text": [
      "Feliz aniversário!\n"
     ]
    }
   ],
   "source": [
    "# Solicita ao usuário que insira a idade\n",
    "idade = int(input(\"Por favor, insira a sua idade: \"))\n",
    "\n",
    "# Verifica se a idade é válida\n",
    "while idade < 1:\n",
    "    print(\"Idade inválida! Por favor, insira uma idade maior ou igual a 1.\")\n",
    "    idade = int(input(\"Por favor, insira a sua idade: \"))\n",
    "\n",
    "# Verifica a idade e exibe a mensagem correspondente\n",
    "if idade < 18:\n",
    "    print(\"Menor de idade!\")\n",
    "elif idade == 18:\n",
    "    print(\"Feliz aniversário!\")\n",
    "else:\n",
    "    print(\"Maior de idade!\")"
   ]
  },
  {
   "cell_type": "markdown",
   "id": "67e5b651-c7c7-437e-956b-526b7cec9895",
   "metadata": {},
   "source": [
    "***Crie um programa em Python que utilize um laço de repetição para contar de 1 a 5. O programa deve exibir cada número da contagem, um por vez, na tela.\n",
    "\n",
    "Inicie a contagem em 1 e continue até alcançar o número 5.\n",
    "\n",
    "Para cada número, o programa deve exibir a mensagem \"Contagem: X\", onde X é o número atual da contagem:***"
   ]
  },
  {
   "cell_type": "code",
   "execution_count": 5,
   "id": "386afdd4-0674-4d9b-a8d9-4eaa063de3b6",
   "metadata": {},
   "outputs": [
    {
     "name": "stdout",
     "output_type": "stream",
     "text": [
      "Contagem: 1\n",
      "Contagem: 2\n",
      "Contagem: 3\n",
      "Contagem: 4\n",
      "Contagem: 5\n"
     ]
    }
   ],
   "source": [
    "# Laço de repetição para contar de 1 a 5\n",
    "for i in range(1, 6):\n",
    "    print(f\"Contagem: {i}\")"
   ]
  },
  {
   "cell_type": "markdown",
   "id": "e3fa70b0-eb0f-45fc-92e7-550d0543e7ad",
   "metadata": {},
   "source": [
    "***Crie um programa em Python que peça ao usuário para inserir o nome de três amigos. O programa deve armazenar esses nomes em uma lista e, em seguida, exibir uma mensagem personalizada para cada amigo, indicando que ele é seu amigo.\n",
    "\n",
    "O programa deve solicitar o nome de três amigos, um por vez.\n",
    "\n",
    "Após coletar os nomes, o programa deve exibir uma mensagem para cada nome na lista, como \"Nome_do_Amigo é meu amigo\".***"
   ]
  },
  {
   "cell_type": "code",
   "execution_count": 10,
   "id": "689e4cde-dcd7-4ad7-b74a-16048d34d388",
   "metadata": {},
   "outputs": [
    {
     "name": "stdin",
     "output_type": "stream",
     "text": [
      "Seu amigo(a) é amigo ou amiga? (digite 'amigo' ou 'amiga'):  amg\n"
     ]
    },
    {
     "name": "stdout",
     "output_type": "stream",
     "text": [
      "Resposta inválida! Por favor, digite 'amigo' ou 'amiga'.\n"
     ]
    },
    {
     "name": "stdin",
     "output_type": "stream",
     "text": [
      "Seu amigo(a) é amigo ou amiga? (digite 'amigo' ou 'amiga'):  AMIGO\n",
      "Digite o nome do amigo:  JUNIOR\n",
      "Seu amigo(a) é amigo ou amiga? (digite 'amigo' ou 'amiga'):  AmIgA\n",
      "Digite o nome do amiga:  AnA\n",
      "Seu amigo(a) é amigo ou amiga? (digite 'amigo' ou 'amiga'):               amigo\n",
      "Digite o nome do amigo:                                                    marcos\n"
     ]
    },
    {
     "name": "stdout",
     "output_type": "stream",
     "text": [
      "Junior é meu amigo.\n",
      "Ana é minha amiga.\n",
      "Marcos é meu amigo.\n"
     ]
    }
   ],
   "source": [
    "# Lista para armazenar os nomes dos amigos\n",
    "amigos = []\n",
    "\n",
    "# Solicita o nome de três amigos\n",
    "for i in range(3):\n",
    "    while True:\n",
    "        genero = input(\"Seu amigo(a) é amigo ou amiga? (digite 'amigo' ou 'amiga'): \").strip().lower()\n",
    "        if genero in ['amigo', 'amiga']:\n",
    "            break  # Sai do loop se a resposta for válida\n",
    "        else:\n",
    "            print(\"Resposta inválida! Por favor, digite 'amigo' ou 'amiga'.\")\n",
    "\n",
    "    nome = input(f\"Digite o nome do {genero}: \").strip()  # Remove espaços antes e depois do nome\n",
    "    amigos.append((nome, genero))\n",
    "\n",
    "# Exibe uma mensagem personalizada para cada amigo\n",
    "for amigo, genero in amigos:\n",
    "    amigo_formatado = amigo.capitalize()  # Coloca a primeira letra em maiúscula\n",
    "    print(f\"{amigo_formatado} é {'minha amiga' if genero == 'amiga' else 'meu amigo'}.\")"
   ]
  }
 ],
 "metadata": {
  "kernelspec": {
   "display_name": "Python 3 (ipykernel)",
   "language": "python",
   "name": "python3"
  },
  "language_info": {
   "codemirror_mode": {
    "name": "ipython",
    "version": 3
   },
   "file_extension": ".py",
   "mimetype": "text/x-python",
   "name": "python",
   "nbconvert_exporter": "python",
   "pygments_lexer": "ipython3",
   "version": "3.12.4"
  }
 },
 "nbformat": 4,
 "nbformat_minor": 5
}
