{
 "cells": [
  {
   "cell_type": "markdown",
   "id": "b4e57b90-c8db-4029-a291-8d1f683df4ec",
   "metadata": {},
   "source": [
    "#Exercício 01:"
   ]
  },
  {
   "cell_type": "markdown",
   "id": "3ea875fc-099b-49de-adf0-e0ca18eabf05",
   "metadata": {},
   "source": [
    "***Crie um programa em Python que solicite ao usuário que insira a sua idade. Com base na idade fornecida, o programa deve verificar se o usuário é menor de idade, maior de idade ou se está completando 18 anos.***\n",
    "\n",
    "***Se a idade for menor que 18 anos, o programa deve exibir \"Menor de idade!\".***\n",
    "\n",
    "***Se a idade for exatamente 18 anos, o programa deve exibir \"Feliz aniversário!\".***\n",
    "\n",
    "***Se a idade for maior que 18 anos, o programa deve exibir \"Maior de idade!\":***"
   ]
  },
  {
   "cell_type": "code",
   "execution_count": 4,
   "id": "0dca08e0-ad64-4d4a-b163-d54542cad4d7",
   "metadata": {},
   "outputs": [
    {
     "name": "stdin",
     "output_type": "stream",
     "text": [
      "Por favor, insira a sua idade:  0\n"
     ]
    },
    {
     "name": "stdout",
     "output_type": "stream",
     "text": [
      "Idade inválida! Por favor, insira uma idade maior ou igual a 1.\n"
     ]
    },
    {
     "name": "stdin",
     "output_type": "stream",
     "text": [
      "Por favor, insira a sua idade:  18\n"
     ]
    },
    {
     "name": "stdout",
     "output_type": "stream",
     "text": [
      "Feliz aniversário!\n"
     ]
    }
   ],
   "source": [
    "# Solicita ao usuário que insira a idade\n",
    "idade = int(input(\"Por favor, insira a sua idade: \"))\n",
    "\n",
    "# Verifica se a idade é válida\n",
    "while idade < 1:\n",
    "    print(\"Idade inválida! Por favor, insira uma idade maior ou igual a 1.\")\n",
    "    idade = int(input(\"Por favor, insira a sua idade: \"))\n",
    "\n",
    "# Verifica a idade e exibe a mensagem correspondente\n",
    "if idade < 18:\n",
    "    print(\"Menor de idade!\")\n",
    "elif idade == 18:\n",
    "    print(\"Feliz aniversário!\")\n",
    "else:\n",
    "    print(\"Maior de idade!\")"
   ]
  }
 ],
 "metadata": {
  "kernelspec": {
   "display_name": "Python 3 (ipykernel)",
   "language": "python",
   "name": "python3"
  },
  "language_info": {
   "codemirror_mode": {
    "name": "ipython",
    "version": 3
   },
   "file_extension": ".py",
   "mimetype": "text/x-python",
   "name": "python",
   "nbconvert_exporter": "python",
   "pygments_lexer": "ipython3",
   "version": "3.12.4"
  }
 },
 "nbformat": 4,
 "nbformat_minor": 5
}
