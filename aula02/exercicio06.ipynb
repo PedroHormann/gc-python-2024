{
 "cells": [
  {
   "cell_type": "markdown",
   "id": "2154ecf0-4a73-4974-8109-883046d4b4a4",
   "metadata": {},
   "source": [
    "#Exercício 03:"
   ]
  },
  {
   "cell_type": "markdown",
   "id": "015d037a-c7ea-42f1-a2f6-54a49ec36612",
   "metadata": {},
   "source": [
    "***Crie um programa em Python que peça ao usuário para inserir o nome de três amigos. O programa deve armazenar esses nomes em uma lista e, em seguida, exibir uma mensagem personalizada para cada amigo, indicando que ele é seu amigo.***\n",
    "\n",
    "***O programa deve solicitar o nome de três amigos, um por vez.***\n",
    "\n",
    "***Após coletar os nomes, o programa deve exibir uma mensagem para cada nome na lista, como \"Nome_do_Amigo é meu amigo\".***"
   ]
  },
  {
   "cell_type": "code",
   "execution_count": 1,
   "id": "5ddc6772-5469-4661-b156-fce2a0d1c3f9",
   "metadata": {},
   "outputs": [
    {
     "name": "stdin",
     "output_type": "stream",
     "text": [
      "Seu amigo(a) é amigo ou amiga? (digite 'amigo' ou 'amiga'):  amg\n"
     ]
    },
    {
     "name": "stdout",
     "output_type": "stream",
     "text": [
      "Resposta inválida! Por favor, digite 'amigo' ou 'amiga'.\n"
     ]
    },
    {
     "name": "stdin",
     "output_type": "stream",
     "text": [
      "Seu amigo(a) é amigo ou amiga? (digite 'amigo' ou 'amiga'):  AMIGO\n",
      "Digite o nome do amigo:  JUNIOR\n",
      "Seu amigo(a) é amigo ou amiga? (digite 'amigo' ou 'amiga'):  AmIgA\n",
      "Digite o nome do amiga:  aNA\n",
      "Seu amigo(a) é amigo ou amiga? (digite 'amigo' ou 'amiga'):                           amigo\n",
      "Digite o nome do amigo:                                           marcos\n"
     ]
    },
    {
     "name": "stdout",
     "output_type": "stream",
     "text": [
      "Junior é meu amigo.\n",
      "Ana é minha amiga.\n",
      "Marcos é meu amigo.\n"
     ]
    }
   ],
   "source": [
    "# Lista para armazenar os nomes dos amigos\n",
    "amigos = []\n",
    "\n",
    "# Solicita o nome de três amigos\n",
    "for i in range(3):\n",
    "    while True:\n",
    "        genero = input(\"Seu amigo(a) é amigo ou amiga? (digite 'amigo' ou 'amiga'): \").strip().lower()\n",
    "        if genero in ['amigo', 'amiga']:\n",
    "            break  # Sai do loop se a resposta for válida\n",
    "        else:\n",
    "            print(\"Resposta inválida! Por favor, digite 'amigo' ou 'amiga'.\")\n",
    "\n",
    "    nome = input(f\"Digite o nome do {genero}: \").strip()  # Remove espaços antes e depois do nome\n",
    "    amigos.append((nome, genero))\n",
    "\n",
    "# Exibe uma mensagem personalizada para cada amigo\n",
    "for amigo, genero in amigos:\n",
    "    amigo_formatado = amigo.capitalize()  # Coloca a primeira letra em maiúscula\n",
    "    print(f\"{amigo_formatado} é {'minha amiga' if genero == 'amiga' else 'meu amigo'}.\")"
   ]
  }
 ],
 "metadata": {
  "kernelspec": {
   "display_name": "Python 3 (ipykernel)",
   "language": "python",
   "name": "python3"
  },
  "language_info": {
   "codemirror_mode": {
    "name": "ipython",
    "version": 3
   },
   "file_extension": ".py",
   "mimetype": "text/x-python",
   "name": "python",
   "nbconvert_exporter": "python",
   "pygments_lexer": "ipython3",
   "version": "3.12.4"
  }
 },
 "nbformat": 4,
 "nbformat_minor": 5
}
