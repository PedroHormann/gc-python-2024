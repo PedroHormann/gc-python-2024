{
 "cells": [
  {
   "cell_type": "markdown",
   "id": "1964e67e-449b-48b8-b9e5-3e2de1c3376b",
   "metadata": {},
   "source": [
    "# Exercício 21"
   ]
  },
  {
   "cell_type": "markdown",
   "id": "ea493831-9bca-47ae-89e7-a1fd88dd0639",
   "metadata": {},
   "source": [
    "### Análise dos dados da COVID-19"
   ]
  },
  {
   "cell_type": "markdown",
   "id": "9001e078-61cf-47d0-8b48-9753c31e86c1",
   "metadata": {},
   "source": [
    "JHU CSSE COVID-19 https://github.com/owid/covid-19-data/tree/master/public/data \\\n",
    "dataset wcota https://github.com/wcota/covid19br \\\n",
    "\\\n",
    "Você deverá realizar uma análise exploratória e responder as seguintes perguntas utilizando Python."
   ]
  },
  {
   "cell_type": "markdown",
   "id": "ae5d958d-469a-4eeb-8132-ca1c69e6f548",
   "metadata": {},
   "source": [
    "---"
   ]
  },
  {
   "cell_type": "markdown",
   "id": "4961964e-1460-4661-8c29-b60c790c3d61",
   "metadata": {},
   "source": [
    "#### Perguntas:"
   ]
  },
  {
   "cell_type": "markdown",
   "id": "0cdbcdc8-66aa-49e0-88e2-7e4b2235a942",
   "metadata": {},
   "source": [
    "***Como foi a evolução mundial da COVID-19?***"
   ]
  },
  {
   "cell_type": "code",
   "execution_count": null,
   "id": "60f8f490-e99f-48f1-bf1e-8b28ece3cda1",
   "metadata": {},
   "outputs": [],
   "source": []
  },
  {
   "cell_type": "markdown",
   "id": "d02bbd4d-156a-4de5-b03b-09fac9c8ce48",
   "metadata": {},
   "source": [
    "***Quais são os 5 países com mais casos e mortes acumulados?***"
   ]
  },
  {
   "cell_type": "code",
   "execution_count": null,
   "id": "bf182ac9-4f5a-4f5d-aad1-ea8a7a31d598",
   "metadata": {},
   "outputs": [],
   "source": []
  },
  {
   "cell_type": "markdown",
   "id": "916c47e9-9065-4033-bb61-5bef1c2b3742",
   "metadata": {},
   "source": [
    "***Quais são os 5 países mais avançados em relação à vacinação da população?***"
   ]
  },
  {
   "cell_type": "code",
   "execution_count": null,
   "id": "c2c211e8-9b2b-464b-b15a-0ce632e58dd3",
   "metadata": {},
   "outputs": [],
   "source": []
  },
  {
   "cell_type": "markdown",
   "id": "9328abf9-a112-43f1-b58e-56f499b2f671",
   "metadata": {},
   "source": [
    "***Como está a evolução de casos e mortes no Brasil em comparação com o mundo?***"
   ]
  },
  {
   "cell_type": "code",
   "execution_count": null,
   "id": "55d3f6c8-45c7-4d97-b26b-f718812d162a",
   "metadata": {},
   "outputs": [],
   "source": []
  },
  {
   "cell_type": "markdown",
   "id": "1edfe5f5-e2d4-4978-bb7e-bc9b210e82ef",
   "metadata": {},
   "source": [
    "***Quais são os 5 estados brasileiros com mais casos e mortes acumuladas?***"
   ]
  },
  {
   "cell_type": "code",
   "execution_count": null,
   "id": "08bbd31f-be81-417d-a87d-933671135f82",
   "metadata": {},
   "outputs": [],
   "source": []
  },
  {
   "cell_type": "markdown",
   "id": "db204a9c-5a6d-4da2-a159-4d696811ca29",
   "metadata": {},
   "source": [
    "#### Exploração de diferentes tipos de gráficos:"
   ]
  },
  {
   "cell_type": "markdown",
   "id": "428a2964-ca87-4382-819d-13fa5b27e787",
   "metadata": {},
   "source": [
    "***Justifique a utilização de cada gráfico.***"
   ]
  },
  {
   "cell_type": "code",
   "execution_count": null,
   "id": "e769ca72-43a2-48ee-8201-2de751fd8efe",
   "metadata": {},
   "outputs": [],
   "source": []
  },
  {
   "cell_type": "markdown",
   "id": "150b7c79-6348-481d-b24f-17f702566ca9",
   "metadata": {},
   "source": [
    "***Pelo menos duas perguntas devem testar diferentes tipos de gráficos para a mesma análise (por exemplo, comparar gráficos de linha com gráficos de barras). Explicar como a escolha do tipo de gráfico influencia a interpretação dos dados e se há algum tipo de visualização que seja mais adequado para responder à pergunta proposta.***"
   ]
  },
  {
   "cell_type": "code",
   "execution_count": null,
   "id": "10d9dcc8-d928-48a1-822b-49918a047411",
   "metadata": {},
   "outputs": [],
   "source": []
  }
 ],
 "metadata": {
  "kernelspec": {
   "display_name": "Python 3 (ipykernel)",
   "language": "python",
   "name": "python3"
  },
  "language_info": {
   "codemirror_mode": {
    "name": "ipython",
    "version": 3
   },
   "file_extension": ".py",
   "mimetype": "text/x-python",
   "name": "python",
   "nbconvert_exporter": "python",
   "pygments_lexer": "ipython3",
   "version": "3.12.4"
  }
 },
 "nbformat": 4,
 "nbformat_minor": 5
}
