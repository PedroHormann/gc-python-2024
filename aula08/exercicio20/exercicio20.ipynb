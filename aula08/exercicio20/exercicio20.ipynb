{
 "cells": [
  {
   "cell_type": "markdown",
   "id": "b6b2f88a-4c80-4b9a-9fd6-8e05cdee1d07",
   "metadata": {},
   "source": [
    "# Exercício 20"
   ]
  },
  {
   "cell_type": "markdown",
   "id": "5d805fe1-5ec0-41a5-9b11-61700ec14811",
   "metadata": {},
   "source": [
    "### Análise de Consumo de Energia e Emissões de CO2"
   ]
  },
  {
   "cell_type": "markdown",
   "id": "7d6029dd-0d74-4651-81b7-d0d8e3e109ee",
   "metadata": {},
   "source": [
    "https://www.kaggle.com/datasets/pralabhpoudel/world-energy-consumption\n",
    "Faça um join entre os dados de consumo de energia e emissões de CO2 por país/continente."
   ]
  },
  {
   "cell_type": "markdown",
   "id": "9dcb604e-3e17-463e-b537-36950e093bc3",
   "metadata": {},
   "source": [
    "---"
   ]
  },
  {
   "cell_type": "markdown",
   "id": "a58464c6-f1dc-40c5-b2c7-e3ccc454ffd1",
   "metadata": {},
   "source": [
    "***Crie um Boxplot que compare o consumo de energias renováveis e fósseis por continente.***"
   ]
  },
  {
   "cell_type": "code",
   "execution_count": null,
   "id": "8e1e9e24-8e88-41c8-a94a-aa2f40cfadb5",
   "metadata": {},
   "outputs": [],
   "source": []
  },
  {
   "cell_type": "markdown",
   "id": "9e5de707-91c4-4f12-a02f-00d8bebbd426",
   "metadata": {},
   "source": [
    "***Use gráficos de linha para mostrar a evolução do consumo de energias renováveis e fósseis e as emissões de CO2 ao longo do tempo.***"
   ]
  },
  {
   "cell_type": "code",
   "execution_count": null,
   "id": "2060a2bd-57cb-459f-a1eb-59a595e6c03d",
   "metadata": {},
   "outputs": [],
   "source": []
  },
  {
   "cell_type": "markdown",
   "id": "b17ba067-796e-455f-9ba1-459af12b8e0c",
   "metadata": {},
   "source": [
    "***Visualize a contribuição dos setores (indústria, transporte, etc.) para as emissões de CO2 por continente.***"
   ]
  },
  {
   "cell_type": "code",
   "execution_count": null,
   "id": "5afb5054-2e0a-46a8-b78e-647d198904a9",
   "metadata": {},
   "outputs": [],
   "source": []
  },
  {
   "cell_type": "markdown",
   "id": "4c7f08ba-5297-4605-a7d8-f774bf684898",
   "metadata": {},
   "source": [
    "***Crie gráficos de dispersão para analisar a correlação entre o consumo de energia fóssil e as emissões de CO2 por continente, incluindo uma linha de regressão.***"
   ]
  },
  {
   "cell_type": "code",
   "execution_count": null,
   "id": "3b8165a5-1f48-4567-92ea-f0e932fd5579",
   "metadata": {},
   "outputs": [],
   "source": []
  },
  {
   "cell_type": "markdown",
   "id": "b21f0e26-d46a-489a-b7f2-38f7b5601edc",
   "metadata": {},
   "source": [
    "***Crie gráficos interativos que permitam visualizar como o consumo energético impacta as emissões ao longo do tempo em diferentes regiões.***"
   ]
  },
  {
   "cell_type": "code",
   "execution_count": null,
   "id": "d908fca7-58cf-4523-867a-dedb3c26b461",
   "metadata": {},
   "outputs": [],
   "source": []
  },
  {
   "cell_type": "markdown",
   "id": "df5cbde7-6db3-4312-b663-46405e33fd55",
   "metadata": {},
   "source": [
    "***Explique como o consumo de energia está relacionado às emissões de CO2, destacando diferenças regionais e setoriais.***"
   ]
  },
  {
   "cell_type": "code",
   "execution_count": null,
   "id": "be485140-8601-4f18-9c11-4ae5aceb4b3b",
   "metadata": {},
   "outputs": [],
   "source": []
  }
 ],
 "metadata": {
  "kernelspec": {
   "display_name": "Python 3 (ipykernel)",
   "language": "python",
   "name": "python3"
  },
  "language_info": {
   "codemirror_mode": {
    "name": "ipython",
    "version": 3
   },
   "file_extension": ".py",
   "mimetype": "text/x-python",
   "name": "python",
   "nbconvert_exporter": "python",
   "pygments_lexer": "ipython3",
   "version": "3.12.4"
  }
 },
 "nbformat": 4,
 "nbformat_minor": 5
}
