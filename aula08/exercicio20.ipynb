{
 "cells": [
  {
   "cell_type": "code",
   "execution_count": null,
   "id": "6b93bd12-4183-4eee-85c8-622a87186a56",
   "metadata": {},
   "outputs": [],
   "source": []
  }
 ],
 "metadata": {
  "kernelspec": {
   "display_name": "",
   "name": ""
  },
  "language_info": {
   "name": ""
  }
 },
 "nbformat": 4,
 "nbformat_minor": 5
}
