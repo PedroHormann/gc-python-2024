{
 "cells": [
  {
   "cell_type": "markdown",
   "id": "841108a6-2aa6-415e-af19-c6e50192c350",
   "metadata": {},
   "source": [
    "# Exercício 18 (MINI BOSS): Análise de Desempenho Escolar"
   ]
  },
  {
   "cell_type": "markdown",
   "id": "0600d64a-f318-4abc-9e13-25c293288de6",
   "metadata": {},
   "source": [
    "Você é um cientista de dados contratado por uma escola para analisar o desempenho de três turmas (Turma A, Turma B, Turma C) em duas disciplinas: Matemática e Ciências. \n",
    "\n",
    "O objetivo é gerar um relatório completo utilizando as medidas estatísticas estudadas para entender o desempenho geral dos alunos e descobrir padrões importantes."
   ]
  },
  {
   "cell_type": "markdown",
   "id": "98c2edce-641b-4039-8bf2-3d20a00c0a1e",
   "metadata": {},
   "source": [
    "---"
   ]
  },
  {
   "cell_type": "markdown",
   "id": "c2fe3c31-4345-4b59-876a-f2a6d83ca07c",
   "metadata": {},
   "source": [
    "## Tarefas:"
   ]
  },
  {
   "cell_type": "code",
   "execution_count": 3,
   "id": "14e05e83-049b-4225-8efc-ed1514e5fcf9",
   "metadata": {},
   "outputs": [],
   "source": [
    "import pandas as pd"
   ]
  },
  {
   "cell_type": "markdown",
   "id": "01cce3b5-5238-4747-9c8d-7695a944a31a",
   "metadata": {},
   "source": [
    "***Carregar o dataset que contém as notas dos alunos das três turmas. O arquivo chama 18_analise_avancada.csv.***"
   ]
  },
  {
   "cell_type": "code",
   "execution_count": 4,
   "id": "4a65a20a-413d-43a0-a229-f4cf90428083",
   "metadata": {},
   "outputs": [],
   "source": [
    "df = pd.read_csv('18_analise_avancada.csv')"
   ]
  },
  {
   "cell_type": "markdown",
   "id": "225024b3-b3f0-4f2c-b45f-e8868244f43e",
   "metadata": {},
   "source": [
    "***Calcular as seguintes medidas estatísticas para cada turma (A, B e C) em Matemática e Ciências:***"
   ]
  },
  {
   "cell_type": "markdown",
   "id": "ebe731b2-622c-49ea-948c-29cb4a199197",
   "metadata": {},
   "source": [
    "***a. Média***"
   ]
  },
  {
   "cell_type": "code",
   "execution_count": null,
   "id": "025a09f2-ae17-4fa0-8f1d-dfc72e04b803",
   "metadata": {},
   "outputs": [],
   "source": []
  },
  {
   "cell_type": "markdown",
   "id": "37d61b03-c8bf-49f6-9d0c-9375e983d3b4",
   "metadata": {},
   "source": [
    "***b. Mediana***"
   ]
  },
  {
   "cell_type": "code",
   "execution_count": null,
   "id": "1c14cd17-d2c2-48b4-9cff-6f19c7a74083",
   "metadata": {},
   "outputs": [],
   "source": []
  },
  {
   "cell_type": "markdown",
   "id": "2775ae26-4e44-4aaf-a0c6-838454c2e6ed",
   "metadata": {},
   "source": [
    "***c. Moda***"
   ]
  },
  {
   "cell_type": "code",
   "execution_count": null,
   "id": "7b94ca4c-161c-4885-98a4-d7b04e0d8dad",
   "metadata": {},
   "outputs": [],
   "source": []
  },
  {
   "cell_type": "markdown",
   "id": "ebedecc7-696b-4ed0-b47e-3b27a7b5cefd",
   "metadata": {},
   "source": [
    "***d. Amplitude (diferença entre a maior e a menor nota)***"
   ]
  },
  {
   "cell_type": "code",
   "execution_count": null,
   "id": "c02a399c-0a13-4f22-bf05-221509d7e1e1",
   "metadata": {},
   "outputs": [],
   "source": []
  },
  {
   "cell_type": "markdown",
   "id": "c7d80093-c6c6-4946-99d0-f96ae77589b8",
   "metadata": {},
   "source": [
    "***e. Variância***"
   ]
  },
  {
   "cell_type": "code",
   "execution_count": null,
   "id": "582a1674-e979-4922-9cad-470725b9cbac",
   "metadata": {},
   "outputs": [],
   "source": []
  },
  {
   "cell_type": "markdown",
   "id": "9a68a520-5a47-4172-bcb2-b5386afc30e3",
   "metadata": {},
   "source": [
    "***f. Desvio Padrão***"
   ]
  },
  {
   "cell_type": "code",
   "execution_count": null,
   "id": "19396b67-bed1-4d56-a8d9-7cff5417164b",
   "metadata": {},
   "outputs": [],
   "source": []
  },
  {
   "cell_type": "markdown",
   "id": "b86785cd-922a-4ccd-a36c-65ae8300eaa9",
   "metadata": {},
   "source": [
    "***g. Covariância e Correlação entre Matemática e Ciências***"
   ]
  },
  {
   "cell_type": "code",
   "execution_count": null,
   "id": "05e1f6e5-f21a-41b9-84dc-8140dcea2f13",
   "metadata": {},
   "outputs": [],
   "source": []
  },
  {
   "cell_type": "markdown",
   "id": "59753587-758e-4d11-a121-9b51c9b9391c",
   "metadata": {},
   "source": [
    "## Conclusões:"
   ]
  },
  {
   "cell_type": "markdown",
   "id": "323ec31d-93ec-404f-8d2e-daf7e82ac29a",
   "metadata": {},
   "source": [
    "***Com base nas medidas acima, qual turma teve o melhor desempenho geral em Matemática e Ciências?***"
   ]
  },
  {
   "cell_type": "code",
   "execution_count": null,
   "id": "5f2c57ec-f377-49cf-af09-515014d7cf24",
   "metadata": {},
   "outputs": [],
   "source": []
  },
  {
   "cell_type": "markdown",
   "id": "d18713f5-44e4-4a1e-9b01-5ca4077ed1f7",
   "metadata": {},
   "source": [
    "***Qual turma tem as notas mais consistentes em termos de desvio padrão?***"
   ]
  },
  {
   "cell_type": "code",
   "execution_count": null,
   "id": "6627d244-036b-4690-9e2c-88c448b53fe3",
   "metadata": {},
   "outputs": [],
   "source": []
  },
  {
   "cell_type": "markdown",
   "id": "b6bf3c85-a8b5-4e18-9c7d-4b7504d63836",
   "metadata": {},
   "source": [
    "***Existe uma correlação entre o desempenho em Matemática e Ciências para cada turma? Essa correlação é positiva ou negativa?***"
   ]
  },
  {
   "cell_type": "code",
   "execution_count": null,
   "id": "ce8215d5-1f75-4efd-9dcc-0c9447df6446",
   "metadata": {},
   "outputs": [],
   "source": []
  },
  {
   "cell_type": "markdown",
   "id": "eee0d5a9-f2d8-4348-a1bf-a13212b66339",
   "metadata": {},
   "source": [
    "***Qual turma apresenta a maior amplitude de notas? O que isso nos diz sobre a desigualdade de desempenho dentro da turma?***"
   ]
  },
  {
   "cell_type": "code",
   "execution_count": null,
   "id": "382406e4-959c-4bc7-857c-f8bb071f71f8",
   "metadata": {},
   "outputs": [],
   "source": []
  }
 ],
 "metadata": {
  "kernelspec": {
   "display_name": "Python 3 (ipykernel)",
   "language": "python",
   "name": "python3"
  },
  "language_info": {
   "codemirror_mode": {
    "name": "ipython",
    "version": 3
   },
   "file_extension": ".py",
   "mimetype": "text/x-python",
   "name": "python",
   "nbconvert_exporter": "python",
   "pygments_lexer": "ipython3",
   "version": "3.12.4"
  }
 },
 "nbformat": 4,
 "nbformat_minor": 5
}
