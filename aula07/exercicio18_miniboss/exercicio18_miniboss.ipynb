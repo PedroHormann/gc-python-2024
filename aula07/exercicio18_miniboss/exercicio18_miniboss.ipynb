{
 "cells": [
  {
   "cell_type": "markdown",
   "id": "841108a6-2aa6-415e-af19-c6e50192c350",
   "metadata": {},
   "source": [
    "# Exercício 18 (MINI BOSS): Análise de Desempenho Escolar"
   ]
  },
  {
   "cell_type": "markdown",
   "id": "0600d64a-f318-4abc-9e13-25c293288de6",
   "metadata": {},
   "source": [
    "Você é um cientista de dados contratado por uma escola para analisar o desempenho de três turmas (Turma A, Turma B, Turma C) em duas disciplinas: Matemática e Ciências. \n",
    "\n",
    "O objetivo é gerar um relatório completo utilizando as medidas estatísticas estudadas para entender o desempenho geral dos alunos e descobrir padrões importantes."
   ]
  },
  {
   "cell_type": "markdown",
   "id": "98c2edce-641b-4039-8bf2-3d20a00c0a1e",
   "metadata": {},
   "source": [
    "---"
   ]
  },
  {
   "cell_type": "markdown",
   "id": "c2fe3c31-4345-4b59-876a-f2a6d83ca07c",
   "metadata": {},
   "source": [
    "## Tarefas:"
   ]
  },
  {
   "cell_type": "code",
   "execution_count": 2,
   "id": "14e05e83-049b-4225-8efc-ed1514e5fcf9",
   "metadata": {},
   "outputs": [],
   "source": [
    "import pandas as pd"
   ]
  },
  {
   "cell_type": "markdown",
   "id": "01cce3b5-5238-4747-9c8d-7695a944a31a",
   "metadata": {},
   "source": [
    "***Carregar o dataset que contém as notas dos alunos das três turmas. O arquivo chama 18_analise_avancada.csv.***"
   ]
  },
  {
   "cell_type": "code",
   "execution_count": 3,
   "id": "4a65a20a-413d-43a0-a229-f4cf90428083",
   "metadata": {},
   "outputs": [],
   "source": [
    "df = pd.read_csv('18_analise_avancada.csv')"
   ]
  },
  {
   "cell_type": "markdown",
   "id": "225024b3-b3f0-4f2c-b45f-e8868244f43e",
   "metadata": {},
   "source": [
    "***Calcular as seguintes medidas estatísticas para cada turma (A, B e C) em Matemática e Ciências:***"
   ]
  },
  {
   "cell_type": "markdown",
   "id": "ebe731b2-622c-49ea-948c-29cb4a199197",
   "metadata": {},
   "source": [
    "***a. Média***"
   ]
  },
  {
   "cell_type": "code",
   "execution_count": 4,
   "id": "025a09f2-ae17-4fa0-8f1d-dfc72e04b803",
   "metadata": {},
   "outputs": [
    {
     "name": "stdout",
     "output_type": "stream",
     "text": [
      "Média (Matemática) - Turma A: 69.51515151515152, Turma B: 70.88888888888889, Turma C: 68.74193548387096\n",
      "Média (Ciências) - Turma A: 70.39393939393939, Turma B: 71.55555555555556, Turma C: 67.58064516129032\n"
     ]
    }
   ],
   "source": [
    "media_matematica_a = df[df['Turma'] == 'A']['Matemática'].mean()\n",
    "media_matematica_b = df[df['Turma'] == 'B']['Matemática'].mean()\n",
    "media_matematica_c = df[df['Turma'] == 'C']['Matemática'].mean()\n",
    "\n",
    "media_ciencias_a = df[df['Turma'] == 'A']['Ciências'].mean()\n",
    "media_ciencias_b = df[df['Turma'] == 'B']['Ciências'].mean()\n",
    "media_ciencias_c = df[df['Turma'] == 'C']['Ciências'].mean()\n",
    "\n",
    "print(f\"Média (Matemática) - Turma A: {media_matematica_a}, Turma B: {media_matematica_b}, Turma C: {media_matematica_c}\")\n",
    "print(f\"Média (Ciências) - Turma A: {media_ciencias_a}, Turma B: {media_ciencias_b}, Turma C: {media_ciencias_c}\")\n"
   ]
  },
  {
   "cell_type": "markdown",
   "id": "37d61b03-c8bf-49f6-9d0c-9375e983d3b4",
   "metadata": {},
   "source": [
    "***b. Mediana***"
   ]
  },
  {
   "cell_type": "code",
   "execution_count": 5,
   "id": "1c14cd17-d2c2-48b4-9cff-6f19c7a74083",
   "metadata": {},
   "outputs": [
    {
     "name": "stdout",
     "output_type": "stream",
     "text": [
      "Mediana (Matemática) - Turma A: 68.0, Turma B: 71.0, Turma C: 74.0\n",
      "Mediana (Ciências) - Turma A: 72.0, Turma B: 72.0, Turma C: 67.0\n"
     ]
    }
   ],
   "source": [
    "mediana_matematica_a = df[df['Turma'] == 'A']['Matemática'].median()\n",
    "mediana_matematica_b = df[df['Turma'] == 'B']['Matemática'].median()\n",
    "mediana_matematica_c = df[df['Turma'] == 'C']['Matemática'].median()\n",
    "\n",
    "mediana_ciencias_a = df[df['Turma'] == 'A']['Ciências'].median()\n",
    "mediana_ciencias_b = df[df['Turma'] == 'B']['Ciências'].median()\n",
    "mediana_ciencias_c = df[df['Turma'] == 'C']['Ciências'].median()\n",
    "\n",
    "print(f\"Mediana (Matemática) - Turma A: {mediana_matematica_a}, Turma B: {mediana_matematica_b}, Turma C: {mediana_matematica_c}\")\n",
    "print(f\"Mediana (Ciências) - Turma A: {mediana_ciencias_a}, Turma B: {mediana_ciencias_b}, Turma C: {mediana_ciencias_c}\")\n"
   ]
  },
  {
   "cell_type": "markdown",
   "id": "2775ae26-4e44-4aaf-a0c6-838454c2e6ed",
   "metadata": {},
   "source": [
    "***c. Moda***"
   ]
  },
  {
   "cell_type": "code",
   "execution_count": 6,
   "id": "7b94ca4c-161c-4885-98a4-d7b04e0d8dad",
   "metadata": {},
   "outputs": [
    {
     "name": "stdout",
     "output_type": "stream",
     "text": [
      "Moda (Matemática) - Turma A: 94, Turma B: 54, Turma C: 78\n",
      "Moda (Ciências) - Turma A: 71, Turma B: 58, Turma C: 42\n"
     ]
    }
   ],
   "source": [
    "moda_matematica_a = df[df['Turma'] == 'A']['Matemática'].mode().values[0]\n",
    "moda_matematica_b = df[df['Turma'] == 'B']['Matemática'].mode().values[0]\n",
    "moda_matematica_c = df[df['Turma'] == 'C']['Matemática'].mode().values[0]\n",
    "\n",
    "moda_ciencias_a = df[df['Turma'] == 'A']['Ciências'].mode().values[0]\n",
    "moda_ciencias_b = df[df['Turma'] == 'B']['Ciências'].mode().values[0]\n",
    "moda_ciencias_c = df[df['Turma'] == 'C']['Ciências'].mode().values[0]\n",
    "\n",
    "print(f\"Moda (Matemática) - Turma A: {moda_matematica_a}, Turma B: {moda_matematica_b}, Turma C: {moda_matematica_c}\")\n",
    "print(f\"Moda (Ciências) - Turma A: {moda_ciencias_a}, Turma B: {moda_ciencias_b}, Turma C: {moda_ciencias_c}\")\n"
   ]
  },
  {
   "cell_type": "markdown",
   "id": "ebedecc7-696b-4ed0-b47e-3b27a7b5cefd",
   "metadata": {},
   "source": [
    "***d. Amplitude (diferença entre a maior e a menor nota)***"
   ]
  },
  {
   "cell_type": "code",
   "execution_count": 7,
   "id": "c02a399c-0a13-4f22-bf05-221509d7e1e1",
   "metadata": {},
   "outputs": [
    {
     "name": "stdout",
     "output_type": "stream",
     "text": [
      "Amplitude (Matemática) - Turma A: 57, Turma B: 53, Turma C: 60\n",
      "Amplitude (Ciências) - Turma A: 58, Turma B: 58, Turma C: 57\n"
     ]
    }
   ],
   "source": [
    "amplitude_matematica_a = df[df['Turma'] == 'A']['Matemática'].max() - df[df['Turma'] == 'A']['Matemática'].min()\n",
    "amplitude_matematica_b = df[df['Turma'] == 'B']['Matemática'].max() - df[df['Turma'] == 'B']['Matemática'].min()\n",
    "amplitude_matematica_c = df[df['Turma'] == 'C']['Matemática'].max() - df[df['Turma'] == 'C']['Matemática'].min()\n",
    "\n",
    "amplitude_ciencias_a = df[df['Turma'] == 'A']['Ciências'].max() - df[df['Turma'] == 'A']['Ciências'].min()\n",
    "amplitude_ciencias_b = df[df['Turma'] == 'B']['Ciências'].max() - df[df['Turma'] == 'B']['Ciências'].min()\n",
    "amplitude_ciencias_c = df[df['Turma'] == 'C']['Ciências'].max() - df[df['Turma'] == 'C']['Ciências'].min()\n",
    "\n",
    "print(f\"Amplitude (Matemática) - Turma A: {amplitude_matematica_a}, Turma B: {amplitude_matematica_b}, Turma C: {amplitude_matematica_c}\")\n",
    "print(f\"Amplitude (Ciências) - Turma A: {amplitude_ciencias_a}, Turma B: {amplitude_ciencias_b}, Turma C: {amplitude_ciencias_c}\")\n"
   ]
  },
  {
   "cell_type": "markdown",
   "id": "c7d80093-c6c6-4946-99d0-f96ae77589b8",
   "metadata": {},
   "source": [
    "***e. Variância***"
   ]
  },
  {
   "cell_type": "code",
   "execution_count": 8,
   "id": "582a1674-e979-4922-9cad-470725b9cbac",
   "metadata": {},
   "outputs": [
    {
     "name": "stdout",
     "output_type": "stream",
     "text": [
      "Variância (Matemática) - Turma A: 325.57007575757575, Turma B: 234.10158730158733, Turma C: 307.99784946236565\n",
      "Variância (Ciências) - Turma A: 345.9962121212121, Turma B: 374.3111111111111, Turma C: 347.31827956989247\n"
     ]
    }
   ],
   "source": [
    "variancia_matematica_a = df[df['Turma'] == 'A']['Matemática'].var()\n",
    "variancia_matematica_b = df[df['Turma'] == 'B']['Matemática'].var()\n",
    "variancia_matematica_c = df[df['Turma'] == 'C']['Matemática'].var()\n",
    "\n",
    "variancia_ciencias_a = df[df['Turma'] == 'A']['Ciências'].var()\n",
    "variancia_ciencias_b = df[df['Turma'] == 'B']['Ciências'].var()\n",
    "variancia_ciencias_c = df[df['Turma'] == 'C']['Ciências'].var()\n",
    "\n",
    "print(f\"Variância (Matemática) - Turma A: {variancia_matematica_a}, Turma B: {variancia_matematica_b}, Turma C: {variancia_matematica_c}\")\n",
    "print(f\"Variância (Ciências) - Turma A: {variancia_ciencias_a}, Turma B: {variancia_ciencias_b}, Turma C: {variancia_ciencias_c}\")\n"
   ]
  },
  {
   "cell_type": "markdown",
   "id": "9a68a520-5a47-4172-bcb2-b5386afc30e3",
   "metadata": {},
   "source": [
    "***f. Desvio Padrão***"
   ]
  },
  {
   "cell_type": "code",
   "execution_count": 9,
   "id": "19396b67-bed1-4d56-a8d9-7cff5417164b",
   "metadata": {},
   "outputs": [
    {
     "name": "stdout",
     "output_type": "stream",
     "text": [
      "Desvio Padrão (Matemática) - Turma A: 18.043560506662086, Turma B: 15.30037866530065, Turma C: 17.549867505550168\n",
      "Desvio Padrão (Ciências) - Turma A: 18.600973418646998, Turma B: 19.347121520037835, Turma C: 18.636477123369975\n"
     ]
    }
   ],
   "source": [
    "desvio_padrao_matematica_a = df[df['Turma'] == 'A']['Matemática'].std()\n",
    "desvio_padrao_matematica_b = df[df['Turma'] == 'B']['Matemática'].std()\n",
    "desvio_padrao_matematica_c = df[df['Turma'] == 'C']['Matemática'].std()\n",
    "\n",
    "desvio_padrao_ciencias_a = df[df['Turma'] == 'A']['Ciências'].std()\n",
    "desvio_padrao_ciencias_b = df[df['Turma'] == 'B']['Ciências'].std()\n",
    "desvio_padrao_ciencias_c = df[df['Turma'] == 'C']['Ciências'].std()\n",
    "\n",
    "print(f\"Desvio Padrão (Matemática) - Turma A: {desvio_padrao_matematica_a}, Turma B: {desvio_padrao_matematica_b}, Turma C: {desvio_padrao_matematica_c}\")\n",
    "print(f\"Desvio Padrão (Ciências) - Turma A: {desvio_padrao_ciencias_a}, Turma B: {desvio_padrao_ciencias_b}, Turma C: {desvio_padrao_ciencias_c}\")\n"
   ]
  },
  {
   "cell_type": "markdown",
   "id": "b86785cd-922a-4ccd-a36c-65ae8300eaa9",
   "metadata": {},
   "source": [
    "***g. Covariância e Correlação entre Matemática e Ciências***"
   ]
  },
  {
   "cell_type": "code",
   "execution_count": 10,
   "id": "05e1f6e5-f21a-41b9-84dc-8140dcea2f13",
   "metadata": {},
   "outputs": [
    {
     "name": "stdout",
     "output_type": "stream",
     "text": [
      "Covariância - Turma A: -68.64678030303028, Turma B: -25.16507936507936, Turma C: 77.0548387096774\n",
      "Correlação - Turma A: -0.20453246864178679, Turma B: -0.08501190842370161, Turma C: 0.23559292984320046\n"
     ]
    }
   ],
   "source": [
    "covariancia_a = df[df['Turma'] == 'A']['Matemática'].cov(df[df['Turma'] == 'A']['Ciências'])\n",
    "covariancia_b = df[df['Turma'] == 'B']['Matemática'].cov(df[df['Turma'] == 'B']['Ciências'])\n",
    "covariancia_c = df[df['Turma'] == 'C']['Matemática'].cov(df[df['Turma'] == 'C']['Ciências'])\n",
    "\n",
    "correlacao_a = df[df['Turma'] == 'A']['Matemática'].corr(df[df['Turma'] == 'A']['Ciências'])\n",
    "correlacao_b = df[df['Turma'] == 'B']['Matemática'].corr(df[df['Turma'] == 'B']['Ciências'])\n",
    "correlacao_c = df[df['Turma'] == 'C']['Matemática'].corr(df[df['Turma'] == 'C']['Ciências'])\n",
    "\n",
    "print(f\"Covariância - Turma A: {covariancia_a}, Turma B: {covariancia_b}, Turma C: {covariancia_c}\")\n",
    "print(f\"Correlação - Turma A: {correlacao_a}, Turma B: {correlacao_b}, Turma C: {correlacao_c}\")\n"
   ]
  },
  {
   "cell_type": "markdown",
   "id": "59753587-758e-4d11-a121-9b51c9b9391c",
   "metadata": {},
   "source": [
    "## Conclusões:"
   ]
  },
  {
   "cell_type": "markdown",
   "id": "323ec31d-93ec-404f-8d2e-daf7e82ac29a",
   "metadata": {},
   "source": [
    "***Com base nas medidas acima, qual turma teve o melhor desempenho geral em Matemática e Ciências?***"
   ]
  },
  {
   "cell_type": "markdown",
   "id": "4c6ccc83-b272-48eb-a6f2-035ff35c991e",
   "metadata": {},
   "source": [
    "***Resposta:*** A Turma B apresentou as maiores médias tanto em Matemática quanto em Ciências."
   ]
  },
  {
   "cell_type": "markdown",
   "id": "d18713f5-44e4-4a1e-9b01-5ca4077ed1f7",
   "metadata": {},
   "source": [
    "***Qual turma tem as notas mais consistentes em termos de desvio padrão?***"
   ]
  },
  {
   "cell_type": "markdown",
   "id": "d3e39a02-97ca-48c9-8942-a35a5a2ef516",
   "metadata": {},
   "source": [
    "***Resposta:*** A Turma B teve o menor desvio padrão em Matemática, indicando maior consistência nas notas."
   ]
  },
  {
   "cell_type": "markdown",
   "id": "b6bf3c85-a8b5-4e18-9c7d-4b7504d63836",
   "metadata": {},
   "source": [
    "***Existe uma correlação entre o desempenho em Matemática e Ciências para cada turma? Essa correlação é positiva ou negativa?***"
   ]
  },
  {
   "cell_type": "markdown",
   "id": "f8645d5f-aab9-46c6-8e87-d3a89e6c6d5d",
   "metadata": {},
   "source": [
    "***Resposta:***  As turmas A e B apresentaram correlação negativa, enquanto a Turma C teve uma correlação positiva."
   ]
  },
  {
   "cell_type": "markdown",
   "id": "eee0d5a9-f2d8-4348-a1bf-a13212b66339",
   "metadata": {},
   "source": [
    "***Qual turma apresenta a maior amplitude de notas? O que isso nos diz sobre a desigualdade de desempenho dentro da turma?***"
   ]
  },
  {
   "cell_type": "markdown",
   "id": "78418524-43ee-492d-8557-1bfcf817704b",
   "metadata": {},
   "source": [
    "***Resposta:*** A Turma C apresentou a maior amplitude em Matemática, sugerindo maior desigualdade no desempenho dentro dessa turma. ​"
   ]
  }
 ],
 "metadata": {
  "kernelspec": {
   "display_name": "Python 3 (ipykernel)",
   "language": "python",
   "name": "python3"
  },
  "language_info": {
   "codemirror_mode": {
    "name": "ipython",
    "version": 3
   },
   "file_extension": ".py",
   "mimetype": "text/x-python",
   "name": "python",
   "nbconvert_exporter": "python",
   "pygments_lexer": "ipython3",
   "version": "3.12.4"
  }
 },
 "nbformat": 4,
 "nbformat_minor": 5
}
