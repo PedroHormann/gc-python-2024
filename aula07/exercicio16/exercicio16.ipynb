{
 "cells": [
  {
   "cell_type": "markdown",
   "id": "259290a7-632c-430d-9eb4-237269d3d9f0",
   "metadata": {},
   "source": [
    "# Exercício 16"
   ]
  },
  {
   "cell_type": "markdown",
   "id": "5c6dc4a4-78d3-439f-8ac0-652c05c84d56",
   "metadata": {},
   "source": [
    "**Considere o dataset 16_dataset_notas_alunos.csv (ver nos recursos da aula no Discord). Então, extraia as seguintes informações:**"
   ]
  },
  {
   "cell_type": "markdown",
   "id": "cd36012c-793c-4836-966a-341beaf21c9f",
   "metadata": {},
   "source": [
    "***Calcule a média das notas em Matemática e Ciências.***"
   ]
  },
  {
   "cell_type": "code",
   "execution_count": 7,
   "id": "f048f98a-761f-4693-880d-cfaad4e728d2",
   "metadata": {},
   "outputs": [],
   "source": [
    "import pandas as pd\n",
    "import numpy as np"
   ]
  },
  {
   "cell_type": "code",
   "execution_count": 8,
   "id": "f68f2bf6-894b-4a98-96b1-54db1d65f8a0",
   "metadata": {},
   "outputs": [
    {
     "name": "stdout",
     "output_type": "stream",
     "text": [
      "   Aluno  Idade  Matemática  Ciências\n",
      "0      1     17          67        60\n",
      "1      2     15          83        78\n",
      "2      3     17          70        61\n",
      "3      4     17          76        85\n",
      "4      5     15          67        91\n"
     ]
    }
   ],
   "source": [
    "df = pd.read_csv('16_dataset_notas_alunos.csv')\n",
    "print(df.head())"
   ]
  },
  {
   "cell_type": "code",
   "execution_count": 10,
   "id": "eae974f8-a79d-40d3-a551-97d405be4c3f",
   "metadata": {},
   "outputs": [
    {
     "name": "stdout",
     "output_type": "stream",
     "text": [
      "Média de Matemática: 81.57\n",
      "Média de Ciências: 80.26\n"
     ]
    }
   ],
   "source": [
    "media_matematica = df['Matemática'].mean()\n",
    "media_ciencias = df['Ciências'].mean()\n",
    "\n",
    "print(f'Média de Matemática: {media_matematica}')\n",
    "print(f'Média de Ciências: {media_ciencias}')"
   ]
  },
  {
   "cell_type": "markdown",
   "id": "3461521b-a6a6-4387-858b-95b7b4a379a0",
   "metadata": {},
   "source": [
    "***Encontre a mediana das notas em Matemática e Ciências.***"
   ]
  },
  {
   "cell_type": "code",
   "execution_count": 12,
   "id": "6420e9dc-4089-4f87-9c34-5dc1e59a9e18",
   "metadata": {},
   "outputs": [
    {
     "name": "stdout",
     "output_type": "stream",
     "text": [
      "Mediana de Matemática: 84.5\n",
      "Mediana de Ciências: 79.5\n"
     ]
    }
   ],
   "source": [
    "mediana_matematica = df['Matemática'].median()\n",
    "mediana_ciencias = df['Ciências'].median()\n",
    "\n",
    "print(f'Mediana de Matemática: {mediana_matematica}')\n",
    "print(f'Mediana de Ciências: {mediana_ciencias}')"
   ]
  },
  {
   "cell_type": "markdown",
   "id": "56cd8f8f-b5c2-4b5a-8553-f536048c1f99",
   "metadata": {},
   "source": [
    "***Determine a moda das notas em Matemática e Ciências.***"
   ]
  },
  {
   "cell_type": "code",
   "execution_count": 15,
   "id": "8be8df98-a774-47f3-ba2b-8599a560ee6f",
   "metadata": {},
   "outputs": [
    {
     "name": "stdout",
     "output_type": "stream",
     "text": [
      "Moda de Matemática: 98\n",
      "Moda de Ciências: 92\n"
     ]
    }
   ],
   "source": [
    "moda_matematica = df['Matemática'].mode()[0]\n",
    "moda_ciencias = df['Ciências'].mode()[0]\n",
    "\n",
    "print(f'Moda de Matemática: {moda_matematica}')\n",
    "print(f'Moda de Ciências: {moda_ciencias}')"
   ]
  },
  {
   "cell_type": "markdown",
   "id": "d55510f1-e487-4e9e-b78c-a9bae8208ec0",
   "metadata": {},
   "source": [
    "***Calcule a amplitude das notas em Matemática e Ciências.***"
   ]
  },
  {
   "cell_type": "code",
   "execution_count": 18,
   "id": "12363943-5226-4dc7-8322-3bbe4275a679",
   "metadata": {},
   "outputs": [
    {
     "name": "stdout",
     "output_type": "stream",
     "text": [
      "Amplitude de Matemática: 40\n",
      "Amplitude de Ciências: 40\n"
     ]
    }
   ],
   "source": [
    "amplitude_matematica = df['Matemática'].max() - df['Matemática'].min()\n",
    "amplitude_ciencias = df['Ciências'].max() - df['Ciências'].min()\n",
    "\n",
    "print(f'Amplitude de Matemática: {amplitude_matematica}')\n",
    "print(f'Amplitude de Ciências: {amplitude_ciencias}')\n"
   ]
  },
  {
   "cell_type": "markdown",
   "id": "2fd0d1b2-8c8d-4b6b-a6b4-06049749a7d1",
   "metadata": {},
   "source": [
    "***Calcule a variância das notas em Matemática e Ciências.***"
   ]
  },
  {
   "cell_type": "code",
   "execution_count": 20,
   "id": "9d2c6e9f-732a-47ea-adfb-e9b7784715d1",
   "metadata": {},
   "outputs": [
    {
     "name": "stdout",
     "output_type": "stream",
     "text": [
      "Variância de Matemática: 160.75262626262628\n",
      "Variância de Ciências: 150.1539393939394\n"
     ]
    }
   ],
   "source": [
    "variancia_matematica = df['Matemática'].var()\n",
    "variancia_ciencias = df['Ciências'].var()\n",
    "\n",
    "print(f'Variância de Matemática: {variancia_matematica}')\n",
    "print(f'Variância de Ciências: {variancia_ciencias}')"
   ]
  },
  {
   "cell_type": "markdown",
   "id": "d5d6a5a6-c55b-4200-a18d-b992fc24af0b",
   "metadata": {},
   "source": [
    "***Calcule o desvio padrão das notas em Matemática e Ciências.***"
   ]
  },
  {
   "cell_type": "code",
   "execution_count": 21,
   "id": "d4c575c7-5b88-4739-80d6-738fbd8712d6",
   "metadata": {},
   "outputs": [
    {
     "name": "stdout",
     "output_type": "stream",
     "text": [
      "Desvio Padrão de Matemática: 12.678825902370704\n",
      "Desvio Padrão de Ciências: 12.253731651784259\n"
     ]
    }
   ],
   "source": [
    "desvio_padrao_matematica = df['Matemática'].std()\n",
    "desvio_padrao_ciencias = df['Ciências'].std()\n",
    "\n",
    "print(f'Desvio Padrão de Matemática: {desvio_padrao_matematica}')\n",
    "print(f'Desvio Padrão de Ciências: {desvio_padrao_ciencias}')"
   ]
  },
  {
   "cell_type": "markdown",
   "id": "b5a24414-006e-497b-9738-3d1c11437724",
   "metadata": {},
   "source": [
    "***Calcule a covariância entre as notas de Matemática e Ciências.*** "
   ]
  },
  {
   "cell_type": "code",
   "execution_count": 23,
   "id": "054a68ff-8080-4625-ad50-ec46805cd192",
   "metadata": {},
   "outputs": [
    {
     "name": "stdout",
     "output_type": "stream",
     "text": [
      "Covariância entre Matemática e Ciências: 9.133131313131308\n"
     ]
    }
   ],
   "source": [
    "covariancia = df[['Matemática', 'Ciências']].cov().iloc[0, 1]\n",
    "\n",
    "print(f'Covariância entre Matemática e Ciências: {covariancia}')"
   ]
  },
  {
   "cell_type": "markdown",
   "id": "204ba4f3-58d4-484b-8bf4-b5c31a53063f",
   "metadata": {},
   "source": [
    "***Calcule a correlação entre as notas de Matemática e Ciências.***"
   ]
  },
  {
   "cell_type": "code",
   "execution_count": 25,
   "id": "557872d6-1646-4e5e-926e-6f500d6f0ab1",
   "metadata": {},
   "outputs": [
    {
     "name": "stdout",
     "output_type": "stream",
     "text": [
      "Correlação entre Matemática e Ciências: 0.058785781765414935\n"
     ]
    }
   ],
   "source": [
    "correlacao = df[['Matemática', 'Ciências']].corr().iloc[0, 1]\n",
    "\n",
    "print(f'Correlação entre Matemática e Ciências: {correlacao}')"
   ]
  }
 ],
 "metadata": {
  "kernelspec": {
   "display_name": "Python 3 (ipykernel)",
   "language": "python",
   "name": "python3"
  },
  "language_info": {
   "codemirror_mode": {
    "name": "ipython",
    "version": 3
   },
   "file_extension": ".py",
   "mimetype": "text/x-python",
   "name": "python",
   "nbconvert_exporter": "python",
   "pygments_lexer": "ipython3",
   "version": "3.12.4"
  }
 },
 "nbformat": 4,
 "nbformat_minor": 5
}
