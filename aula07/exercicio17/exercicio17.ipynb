{
 "cells": [
  {
   "cell_type": "markdown",
   "id": "29322cbf-f71a-44ad-9c78-9fb610787134",
   "metadata": {},
   "source": [
    "# Exercício 17"
   ]
  },
  {
   "cell_type": "markdown",
   "id": "8d5a2cff-9f42-455d-80c3-33fa682d03f8",
   "metadata": {},
   "source": [
    "**Você é um professor que deseja analisar as notas de dois grupos de alunos em um teste de matemática. Carregue o dataset chamado 17_notas_grupos.csv (ver nos recursos da aula no Discord), que contém duas colunas: Grupo_A e Grupo_B, representando as notas dos alunos.**"
   ]
  },
  {
   "cell_type": "markdown",
   "id": "465fc141-5b2a-4f72-b406-d8eb96156ecc",
   "metadata": {},
   "source": [
    "***Calcule e compare:***"
   ]
  },
  {
   "cell_type": "markdown",
   "id": "d369bbb6-b126-4f46-a82b-75c7e6bb177b",
   "metadata": {},
   "source": [
    "***1. a média das notas de ambos os grupos***"
   ]
  },
  {
   "cell_type": "code",
   "execution_count": 1,
   "id": "a263afa9-81f7-4d1c-9c4d-be5a129b3b49",
   "metadata": {},
   "outputs": [],
   "source": [
    "import pandas as pd"
   ]
  },
  {
   "cell_type": "code",
   "execution_count": 3,
   "id": "cf2c3a74-7cde-41b5-af7b-8da1709db23b",
   "metadata": {},
   "outputs": [
    {
     "name": "stdout",
     "output_type": "stream",
     "text": [
      "   Grupo_A  Grupo_B\n",
      "0       51       23\n",
      "1       92       25\n",
      "2       14       88\n",
      "3       71       59\n",
      "4       60       40\n"
     ]
    }
   ],
   "source": [
    "df = pd.read_csv('17_notas_grupos.csv')\n",
    "print(df.head())"
   ]
  },
  {
   "cell_type": "code",
   "execution_count": 5,
   "id": "cfef29da-abeb-4e80-8307-2bb3c6f91218",
   "metadata": {},
   "outputs": [
    {
     "name": "stdout",
     "output_type": "stream",
     "text": [
      "Média do Grupo A: 51.31\n",
      "Média do Grupo B: 48.05\n"
     ]
    }
   ],
   "source": [
    "media_grupo_A = df['Grupo_A'].mean()\n",
    "media_grupo_B = df['Grupo_B'].mean()\n",
    "\n",
    "print(f'Média do Grupo A: {media_grupo_A:.2f}')\n",
    "print(f'Média do Grupo B: {media_grupo_B:.2f}')"
   ]
  },
  {
   "cell_type": "code",
   "execution_count": 6,
   "id": "fe7dc90a-7ea6-4d7a-bf2b-15ea5bac0680",
   "metadata": {},
   "outputs": [
    {
     "name": "stdout",
     "output_type": "stream",
     "text": [
      "O Grupo A teve uma média maior que o Grupo B.\n"
     ]
    }
   ],
   "source": [
    "if media_grupo_A > media_grupo_B:\n",
    "    print(\"O Grupo A teve uma média maior que o Grupo B.\")\n",
    "elif media_grupo_A < media_grupo_B:\n",
    "    print(\"O Grupo B teve uma média maior que o Grupo A.\")\n",
    "else:\n",
    "    print(\"Ambos os grupos têm a mesma média.\")"
   ]
  },
  {
   "cell_type": "markdown",
   "id": "27b9e0ac-ecb9-47e3-a6b0-19fb6b208a2c",
   "metadata": {},
   "source": [
    "***2. a mediana das notas de ambos os grupos***"
   ]
  },
  {
   "cell_type": "code",
   "execution_count": 7,
   "id": "a6e322d0-8499-4e70-83a8-b6adad768ef0",
   "metadata": {},
   "outputs": [
    {
     "name": "stdout",
     "output_type": "stream",
     "text": [
      "\n",
      "Mediana do Grupo A: 53.50\n",
      "Mediana do Grupo B: 43.50\n"
     ]
    }
   ],
   "source": [
    "mediana_grupo_A = df['Grupo_A'].median()\n",
    "mediana_grupo_B = df['Grupo_B'].median()\n",
    "\n",
    "print(f'\\nMediana do Grupo A: {mediana_grupo_A:.2f}')\n",
    "print(f'Mediana do Grupo B: {mediana_grupo_B:.2f}')"
   ]
  },
  {
   "cell_type": "code",
   "execution_count": 8,
   "id": "5e1caa71-3246-4745-b772-05bef8d4da21",
   "metadata": {},
   "outputs": [
    {
     "name": "stdout",
     "output_type": "stream",
     "text": [
      "O Grupo A teve uma mediana maior que o Grupo B.\n"
     ]
    }
   ],
   "source": [
    "if mediana_grupo_A > mediana_grupo_B:\n",
    "    print(\"O Grupo A teve uma mediana maior que o Grupo B.\")\n",
    "elif mediana_grupo_A < mediana_grupo_B:\n",
    "    print(\"O Grupo B teve uma mediana maior que o Grupo A.\")\n",
    "else:\n",
    "    print(\"Ambos os grupos têm a mesma mediana.\")"
   ]
  },
  {
   "cell_type": "markdown",
   "id": "50137055-c9c0-439a-9765-1feffd79e314",
   "metadata": {},
   "source": [
    "***3. o desvio padrão das notas de ambos os grupos..***\n",
    "***Não se esqueça de imprimir os resultados comparando as duas turmas para cada resultado obtido, mas garanta que está em uma forma amigável e fácil de entender.***"
   ]
  },
  {
   "cell_type": "code",
   "execution_count": 9,
   "id": "03c0f255-b708-4dc6-beed-d1ecb8c1120c",
   "metadata": {},
   "outputs": [
    {
     "name": "stdout",
     "output_type": "stream",
     "text": [
      "\n",
      "Desvio Padrão do Grupo A: 29.70\n",
      "Desvio Padrão do Grupo B: 30.74\n"
     ]
    }
   ],
   "source": [
    "desvio_padrao_grupo_A = df['Grupo_A'].std()\n",
    "desvio_padrao_grupo_B = df['Grupo_B'].std()\n",
    "\n",
    "print(f'\\nDesvio Padrão do Grupo A: {desvio_padrao_grupo_A:.2f}')\n",
    "print(f'Desvio Padrão do Grupo B: {desvio_padrao_grupo_B:.2f}')"
   ]
  },
  {
   "cell_type": "code",
   "execution_count": 10,
   "id": "d7745df0-9909-42f2-a067-3dbfe472a579",
   "metadata": {},
   "outputs": [
    {
     "name": "stdout",
     "output_type": "stream",
     "text": [
      "O Grupo B teve um desvio padrão maior, indicando maior variação nas notas.\n"
     ]
    }
   ],
   "source": [
    "if desvio_padrao_grupo_A > desvio_padrao_grupo_B:\n",
    "    print(\"O Grupo A teve um desvio padrão maior, indicando maior variação nas notas.\")\n",
    "elif desvio_padrao_grupo_A < desvio_padrao_grupo_B:\n",
    "    print(\"O Grupo B teve um desvio padrão maior, indicando maior variação nas notas.\")\n",
    "else:\n",
    "    print(\"Ambos os grupos têm o mesmo desvio padrão.\")"
   ]
  }
 ],
 "metadata": {
  "kernelspec": {
   "display_name": "Python 3 (ipykernel)",
   "language": "python",
   "name": "python3"
  },
  "language_info": {
   "codemirror_mode": {
    "name": "ipython",
    "version": 3
   },
   "file_extension": ".py",
   "mimetype": "text/x-python",
   "name": "python",
   "nbconvert_exporter": "python",
   "pygments_lexer": "ipython3",
   "version": "3.12.4"
  }
 },
 "nbformat": 4,
 "nbformat_minor": 5
}
