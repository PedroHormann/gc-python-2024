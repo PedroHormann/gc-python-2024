{
 "cells": [
  {
   "cell_type": "code",
   "execution_count": 1,
   "id": "b80f39a5-c453-4add-b1c2-c9fc571f7e82",
   "metadata": {},
   "outputs": [
    {
     "name": "stdout",
     "output_type": "stream",
     "text": [
      "hello world\n"
     ]
    }
   ],
   "source": [
    "print('hello world')"
   ]
  },
  {
   "cell_type": "markdown",
   "id": "ff7ae3b1-7bb7-452a-b38d-2fd277182506",
   "metadata": {},
   "source": [
    "#Revisão Python"
   ]
  },
  {
   "cell_type": "code",
   "execution_count": null,
   "id": "9aeddd0d-282c-47bc-8bb3-4511c2908d78",
   "metadata": {},
   "outputs": [],
   "source": [
    "nome = 'Pedro' #textos\n",
    "eh_professor = True #False\n",
    "nota = 10 #numeros inteiros\n",
    "dinheiro_na_carteira = 20.00 #numeros quebrados, decimais, ponto flutuante\n"
   ]
  },
  {
   "cell_type": "code",
   "execution_count": null,
   "id": "c205987d-94a3-42cd-8608-159c22b62d67",
   "metadata": {},
   "outputs": [],
   "source": [
    "if 10 < 3:\n",
    "    print('Maior que 3')\n",
    "else:\n",
    "    print('neh não')"
   ]
  },
  {
   "cell_type": "code",
   "execution_count": null,
   "id": "44b228bf-750b-4945-b0f9-0b6c4e485e34",
   "metadata": {},
   "outputs": [],
   "source": [
    "lista_de_compras = ['maca', 'uva', 'leite']\n",
    "\n",
    "for item in lista_de_compras:\n",
    "    print(item)"
   ]
  },
  {
   "cell_type": "code",
   "execution_count": null,
   "id": "91502764-7b69-497f-aee9-8fd567e00f46",
   "metadata": {},
   "outputs": [],
   "source": [
    "lista_tupla = [(12,24), (32,48)]\n",
    "\n",
    "lista_dicionario = {\n",
    "    \n",
    "}"
   ]
  }
 ],
 "metadata": {
  "kernelspec": {
   "display_name": "Python 3 (ipykernel)",
   "language": "python",
   "name": "python3"
  },
  "language_info": {
   "codemirror_mode": {
    "name": "ipython",
    "version": 3
   },
   "file_extension": ".py",
   "mimetype": "text/x-python",
   "name": "python",
   "nbconvert_exporter": "python",
   "pygments_lexer": "ipython3",
   "version": "3.12.4"
  }
 },
 "nbformat": 4,
 "nbformat_minor": 5
}
