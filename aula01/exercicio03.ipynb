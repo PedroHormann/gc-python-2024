{
 "cells": [
  {
   "cell_type": "markdown",
   "id": "370df457-f18e-47fc-96c9-cd943eea48c3",
   "metadata": {},
   "source": [
    "#Exercício 03:"
   ]
  },
  {
   "cell_type": "markdown",
   "id": "6e72e222-c0a0-4871-a044-18b82ad2d85b",
   "metadata": {},
   "source": [
    "***Crie um programa que leia 3 números, imprima o maior, o menor e a média aritmética:***"
   ]
  },
  {
   "cell_type": "code",
   "execution_count": 1,
   "id": "79eb7669-fbe1-43f1-9774-1b5fb8a6c56f",
   "metadata": {},
   "outputs": [
    {
     "name": "stdin",
     "output_type": "stream",
     "text": [
      "Digite o primeiro número:  5\n",
      "Digite o segundo número:  3\n",
      "Digite o terceiro número:  7\n"
     ]
    },
    {
     "name": "stdout",
     "output_type": "stream",
     "text": [
      "O maior número é: 7.0\n",
      "O menor número é: 3.0\n",
      "A média aritmética é: 5.0\n"
     ]
    }
   ],
   "source": [
    "# Lê três números\n",
    "num1 = float(input(\"Digite o primeiro número: \"))\n",
    "num2 = float(input(\"Digite o segundo número: \"))\n",
    "num3 = float(input(\"Digite o terceiro número: \"))\n",
    "\n",
    "# Encontra o maior e o menor número\n",
    "maior = max(num1, num2, num3)\n",
    "menor = min(num1, num2, num3)\n",
    "\n",
    "# Calcula a média aritmética\n",
    "media = (num1 + num2 + num3) / 3\n",
    "\n",
    "# Imprime os resultados\n",
    "print(f\"O maior número é: {maior}\")\n",
    "print(f\"O menor número é: {menor}\")\n",
    "print(f\"A média aritmética é: {media}\")"
   ]
  }
 ],
 "metadata": {
  "kernelspec": {
   "display_name": "Python 3 (ipykernel)",
   "language": "python",
   "name": "python3"
  },
  "language_info": {
   "codemirror_mode": {
    "name": "ipython",
    "version": 3
   },
   "file_extension": ".py",
   "mimetype": "text/x-python",
   "name": "python",
   "nbconvert_exporter": "python",
   "pygments_lexer": "ipython3",
   "version": "3.12.4"
  }
 },
 "nbformat": 4,
 "nbformat_minor": 5
}
