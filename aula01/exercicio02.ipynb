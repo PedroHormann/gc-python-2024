{
 "cells": [
  {
   "cell_type": "markdown",
   "id": "029b51a5-748c-418c-834e-44b4d5538f10",
   "metadata": {},
   "source": [
    "#Exercício 02:"
   ]
  },
  {
   "cell_type": "markdown",
   "id": "36ae6198-200b-4002-ab06-fef50fc0130b",
   "metadata": {},
   "source": [
    "***Crie um programa que receba 2 números e imprima a soma deles na tela:***"
   ]
  },
  {
   "cell_type": "code",
   "execution_count": 1,
   "id": "c2934926-14f2-48fe-abff-8677fa23ffca",
   "metadata": {},
   "outputs": [
    {
     "name": "stdin",
     "output_type": "stream",
     "text": [
      "Digite o primeiro número:  5\n",
      "Digite o segundo número:  2\n"
     ]
    },
    {
     "name": "stdout",
     "output_type": "stream",
     "text": [
      "A soma é 7.0.\n"
     ]
    }
   ],
   "source": [
    "# Lê os dois números e calcula a soma\n",
    "soma = float(input(\"Digite o primeiro número: \")) + float(input(\"Digite o segundo número: \"))\n",
    "\n",
    "# Imprime o resultado na tela\n",
    "print(f\"A soma é {soma}.\")"
   ]
  }
 ],
 "metadata": {
  "kernelspec": {
   "display_name": "Python 3 (ipykernel)",
   "language": "python",
   "name": "python3"
  },
  "language_info": {
   "codemirror_mode": {
    "name": "ipython",
    "version": 3
   },
   "file_extension": ".py",
   "mimetype": "text/x-python",
   "name": "python",
   "nbconvert_exporter": "python",
   "pygments_lexer": "ipython3",
   "version": "3.12.4"
  }
 },
 "nbformat": 4,
 "nbformat_minor": 5
}
