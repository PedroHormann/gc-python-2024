{
 "cells": [
  {
   "cell_type": "markdown",
   "id": "bb0842f4-61a3-4a8a-96e8-88229c26172d",
   "metadata": {},
   "source": [
    "# Exercício 01:"
   ]
  },
  {
   "cell_type": "markdown",
   "id": "54c1b509-44d9-42b8-86a4-90ce17167366",
   "metadata": {},
   "source": [
    "***Crie um programa que leia seu nome e imprima na tela:***"
   ]
  },
  {
   "cell_type": "code",
   "execution_count": 2,
   "id": "bd973564-d47a-4039-af94-f613e813bcfb",
   "metadata": {},
   "outputs": [
    {
     "name": "stdin",
     "output_type": "stream",
     "text": [
      "Digite o seu nome:  Pedro\n"
     ]
    },
    {
     "name": "stdout",
     "output_type": "stream",
     "text": [
      "Olá, Pedro!\n"
     ]
    }
   ],
   "source": [
    "# Lê o nome do usuário\n",
    "nome = input(\"Digite o seu nome: \")\n",
    "\n",
    "# Imprime o nome do usuário\n",
    "print(f\"Olá, {nome}!\")"
   ]
  }
 ],
 "metadata": {
  "kernelspec": {
   "display_name": "Python 3 (ipykernel)",
   "language": "python",
   "name": "python3"
  },
  "language_info": {
   "codemirror_mode": {
    "name": "ipython",
    "version": 3
   },
   "file_extension": ".py",
   "mimetype": "text/x-python",
   "name": "python",
   "nbconvert_exporter": "python",
   "pygments_lexer": "ipython3",
   "version": "3.12.4"
  }
 },
 "nbformat": 4,
 "nbformat_minor": 5
}
