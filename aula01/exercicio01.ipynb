{
 "cells": [
  {
   "cell_type": "markdown",
   "id": "bb0842f4-61a3-4a8a-96e8-88229c26172d",
   "metadata": {},
   "source": [
    "#Exercícios - Aula 01:"
   ]
  },
  {
   "cell_type": "markdown",
   "id": "54c1b509-44d9-42b8-86a4-90ce17167366",
   "metadata": {},
   "source": [
    "***Crie um programa que leia seu nome e imprima na tela:***"
   ]
  },
  {
   "cell_type": "code",
   "execution_count": 2,
   "id": "bd973564-d47a-4039-af94-f613e813bcfb",
   "metadata": {},
   "outputs": [
    {
     "name": "stdin",
     "output_type": "stream",
     "text": [
      "Digite o seu nome:  Pedro\n"
     ]
    },
    {
     "name": "stdout",
     "output_type": "stream",
     "text": [
      "Olá, Pedro!\n"
     ]
    }
   ],
   "source": [
    "# Lê o nome do usuário\n",
    "nome = input(\"Digite o seu nome: \")\n",
    "\n",
    "# Imprime o nome do usuário\n",
    "print(f\"Olá, {nome}!\")"
   ]
  },
  {
   "cell_type": "markdown",
   "id": "6e572e06-2596-4e92-9da8-3088f982b619",
   "metadata": {},
   "source": [
    "***Crie um programa que receba 2 números e imprima a soma deles na tela:***"
   ]
  },
  {
   "cell_type": "code",
   "execution_count": 3,
   "id": "0a2935b0-3db2-44a0-887f-e9fd8a4a6ee2",
   "metadata": {},
   "outputs": [
    {
     "name": "stdin",
     "output_type": "stream",
     "text": [
      "Digite o primeiro número:  5\n",
      "Digite o segundo número:  2\n"
     ]
    },
    {
     "name": "stdout",
     "output_type": "stream",
     "text": [
      "A soma é 7.0.\n"
     ]
    }
   ],
   "source": [
    "# Lê os dois números e calcula a soma\n",
    "soma = float(input(\"Digite o primeiro número: \")) + float(input(\"Digite o segundo número: \"))\n",
    "\n",
    "# Imprime o resultado na tela\n",
    "print(f\"A soma é {soma}.\")"
   ]
  },
  {
   "cell_type": "markdown",
   "id": "c2b96a16-bc82-4a4a-8018-36beab1a631b",
   "metadata": {},
   "source": [
    "***Crie um programa que leia 3 números, imprima o maior, o menor e a média aritmética:***"
   ]
  },
  {
   "cell_type": "code",
   "execution_count": 6,
   "id": "ab6620a7-0b10-43e8-8645-0d5f6af462d6",
   "metadata": {},
   "outputs": [
    {
     "name": "stdin",
     "output_type": "stream",
     "text": [
      "Digite o primeiro número:  5\n",
      "Digite o segundo número:  3\n",
      "Digite o terceiro número:  7\n"
     ]
    },
    {
     "name": "stdout",
     "output_type": "stream",
     "text": [
      "O maior número é: 7.0\n",
      "O menor número é: 3.0\n",
      "A média aritmética é: 5.0\n"
     ]
    }
   ],
   "source": [
    "# Lê três números\n",
    "num1 = float(input(\"Digite o primeiro número: \"))\n",
    "num2 = float(input(\"Digite o segundo número: \"))\n",
    "num3 = float(input(\"Digite o terceiro número: \"))\n",
    "\n",
    "# Encontra o maior e o menor número\n",
    "maior = max(num1, num2, num3)\n",
    "menor = min(num1, num2, num3)\n",
    "\n",
    "# Calcula a média aritmética\n",
    "media = (num1 + num2 + num3) / 3\n",
    "\n",
    "# Imprime os resultados\n",
    "print(f\"O maior número é: {maior}\")\n",
    "print(f\"O menor número é: {menor}\")\n",
    "print(f\"A média aritmética é: {media}\")"
   ]
  }
 ],
 "metadata": {
  "kernelspec": {
   "display_name": "Python 3 (ipykernel)",
   "language": "python",
   "name": "python3"
  },
  "language_info": {
   "codemirror_mode": {
    "name": "ipython",
    "version": 3
   },
   "file_extension": ".py",
   "mimetype": "text/x-python",
   "name": "python",
   "nbconvert_exporter": "python",
   "pygments_lexer": "ipython3",
   "version": "3.12.4"
  }
 },
 "nbformat": 4,
 "nbformat_minor": 5
}
