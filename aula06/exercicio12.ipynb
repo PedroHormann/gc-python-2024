{
 "cells": [
  {
   "cell_type": "markdown",
   "id": "4e017e4a-3399-4ede-be55-1dd748447494",
   "metadata": {},
   "source": [
    "# Exercício 12"
   ]
  },
  {
   "cell_type": "markdown",
   "id": "1d8ee6b3-b2fc-4cd8-b1c8-13056d714ad2",
   "metadata": {},
   "source": [
    "**Objetivo: Unir os DataFrames de livros e empréstimos usando o método inner join e mostrar apenas os livros que foram emprestados.**"
   ]
  },
  {
   "cell_type": "markdown",
   "id": "074e20fb-6663-417f-aac0-a64723e72024",
   "metadata": {},
   "source": [
    "----"
   ]
  },
  {
   "cell_type": "code",
   "execution_count": 1,
   "id": "d6af05b6-d407-4e1e-b273-fa281b3d401f",
   "metadata": {},
   "outputs": [],
   "source": [
    "import pandas as pd"
   ]
  },
  {
   "cell_type": "markdown",
   "id": "e2c4a521-ea3d-4a4a-8e6c-73e24ffde27d",
   "metadata": {},
   "source": [
    "***Carregue os arquivos livros.csv e emprestimos.csv em\n",
    "DataFrames separados.***"
   ]
  },
  {
   "cell_type": "code",
   "execution_count": 3,
   "id": "4492e552-5caa-4b72-9118-eadcab409ab0",
   "metadata": {},
   "outputs": [],
   "source": [
    "df_livros = pd.read_csv('Aula06_arquivos/livros.csv')\n",
    "df_emprestimos = pd.read_csv('Aula06_arquivos/emprestimos.csv')"
   ]
  },
  {
   "cell_type": "markdown",
   "id": "a18fa512-39e7-4725-b123-50a5e3ac216c",
   "metadata": {},
   "source": [
    "***Realize um inner join entre as tabelas, unindo-as pela\n",
    "coluna id_livro.***"
   ]
  },
  {
   "cell_type": "code",
   "execution_count": 4,
   "id": "64064905-fa15-4a7f-a4d3-998ff60e7e7b",
   "metadata": {},
   "outputs": [],
   "source": [
    "df_resultado = pd.merge(df_livros, df_emprestimos, on='id_livro', how='inner')"
   ]
  },
  {
   "cell_type": "markdown",
   "id": "688e7f36-35f3-4479-873d-865c97753f1c",
   "metadata": {},
   "source": [
    "***Exiba o resultado, mostrando as colunas: titulo, autor, nome_leitor, data_emprestimo e data_devolucao.***"
   ]
  },
  {
   "cell_type": "code",
   "execution_count": 5,
   "id": "74a837cc-eb32-4ea9-bae9-6fee63edca7a",
   "metadata": {},
   "outputs": [
    {
     "name": "stdout",
     "output_type": "stream",
     "text": [
      "                           titulo               autor nome_leitor  \\\n",
      "0   Cracking the Coding Interview       Natalie Hayes     Stephen   \n",
      "1   Cracking the Coding Interview       Natalie Hayes      Justin   \n",
      "2               You Don’t Know JS       Ronald Forbes        Kent   \n",
      "3               You Don’t Know JS       Ronald Forbes       Brian   \n",
      "4                  Effective Java       Laurie Fisher      Elijah   \n",
      "5                  Effective Java       Laurie Fisher     Rebekah   \n",
      "6      Introduction to Algorithms      Carl Carson II     Michael   \n",
      "7          The Mythical Man-Month      Sarah Peterson      Thomas   \n",
      "8          The Mythical Man-Month      Sarah Peterson    Danielle   \n",
      "9          The Mythical Man-Month       Kenneth Velez      Walter   \n",
      "10         The Mythical Man-Month       Kenneth Velez       Andre   \n",
      "11     Introduction to Algorithms        Tracy Branch   Katherine   \n",
      "12  Cracking the Coding Interview    Michael Reynolds     Michael   \n",
      "13  Cracking the Coding Interview    Michael Reynolds      Miguel   \n",
      "14                  Code Complete     Francis Bonilla    Mitchell   \n",
      "15                  Code Complete      William Medina       Caleb   \n",
      "16                  Code Complete      Vanessa Porter    Kathleen   \n",
      "17         The Mythical Man-Month         James Black        Lisa   \n",
      "18         The Mythical Man-Month         James Black      Thomas   \n",
      "19                  Code Complete        Brianna Rose      Tracey   \n",
      "20       The Pragmatic Programmer           Amy Davis   Johnathan   \n",
      "21                Design Patterns      Albert Simmons      Martha   \n",
      "22                Design Patterns      Albert Simmons     Annette   \n",
      "23                  Code Complete       Daniel Torres     Tiffany   \n",
      "24                Design Patterns        Billy Brewer      Ashley   \n",
      "25                     Clean Code      Amanda Russell       Peggy   \n",
      "26              You Don’t Know JS         Kyle Graham      Steven   \n",
      "27     Introduction to Algorithms       Kevin Francis   Alexander   \n",
      "28       The Pragmatic Programmer      Thomas Jackson        Paul   \n",
      "29                Design Patterns  Kristina Wilkinson     Cynthia   \n",
      "30                Design Patterns  Kristina Wilkinson       Wendy   \n",
      "31       The Pragmatic Programmer      Suzanne Romero     Colleen   \n",
      "32       The Pragmatic Programmer      Suzanne Romero    Jennifer   \n",
      "33       The Pragmatic Programmer      Suzanne Romero       Aaron   \n",
      "34                    Refactoring        Sean Carroll      Lauren   \n",
      "35                  Code Complete          Juan Lewis    Samantha   \n",
      "36                Design Patterns      Melissa French     Michael   \n",
      "37                Design Patterns      Melissa French     Darrell   \n",
      "38     Head First Design Patterns          Alan Smith    Virginia   \n",
      "39     Head First Design Patterns          Alan Smith        Tina   \n",
      "40                    Refactoring       Kimberly Webb       Logan   \n",
      "41                    Refactoring       Kimberly Webb       Megan   \n",
      "42         The Mythical Man-Month      Dalton Meadows     Vanessa   \n",
      "43  Cracking the Coding Interview     Thomas Mcdaniel     Gregory   \n",
      "44       The Pragmatic Programmer            Amy Berg        Kari   \n",
      "45       The Pragmatic Programmer            Amy Berg      Manuel   \n",
      "46  Cracking the Coding Interview  Christopher Patton      Travis   \n",
      "47                Design Patterns         Robert Rice  Jacqueline   \n",
      "48                Design Patterns         Robert Rice     Richard   \n",
      "49                Design Patterns        Steven Lyons     Richard   \n",
      "\n",
      "   data_emprestimo data_devolucao  \n",
      "0       2024-10-01     2024-10-31  \n",
      "1       2024-08-27            NaN  \n",
      "2       2024-09-08            NaN  \n",
      "3       2024-09-07     2024-10-27  \n",
      "4       2024-08-23     2024-10-15  \n",
      "5       2024-09-15     2024-10-23  \n",
      "6       2024-09-22            NaN  \n",
      "7       2024-08-21     2024-10-22  \n",
      "8       2024-08-06            NaN  \n",
      "9       2024-08-15            NaN  \n",
      "10      2024-09-11            NaN  \n",
      "11      2024-09-30     2024-10-29  \n",
      "12      2024-09-14     2024-10-18  \n",
      "13      2024-09-13            NaN  \n",
      "14      2024-08-07     2024-10-13  \n",
      "15      2024-08-10     2024-10-28  \n",
      "16      2024-08-11     2024-10-21  \n",
      "17      2024-09-25     2024-10-29  \n",
      "18      2024-09-08     2024-10-22  \n",
      "19      2024-09-04     2024-10-17  \n",
      "20      2024-08-10     2024-10-21  \n",
      "21      2024-08-09     2024-10-28  \n",
      "22      2024-09-05     2024-10-25  \n",
      "23      2024-09-09            NaN  \n",
      "24      2024-09-03     2024-10-12  \n",
      "25      2024-08-17     2024-10-15  \n",
      "26      2024-09-05            NaN  \n",
      "27      2024-09-01     2024-10-15  \n",
      "28      2024-09-28     2024-10-18  \n",
      "29      2024-08-25     2024-10-31  \n",
      "30      2024-09-23            NaN  \n",
      "31      2024-08-04            NaN  \n",
      "32      2024-09-28     2024-10-30  \n",
      "33      2024-09-25     2024-10-19  \n",
      "34      2024-08-13            NaN  \n",
      "35      2024-08-08     2024-10-27  \n",
      "36      2024-09-22     2024-10-18  \n",
      "37      2024-09-26     2024-10-31  \n",
      "38      2024-08-08     2024-10-31  \n",
      "39      2024-08-18     2024-10-30  \n",
      "40      2024-08-13            NaN  \n",
      "41      2024-08-07     2024-10-12  \n",
      "42      2024-08-14            NaN  \n",
      "43      2024-09-24     2024-10-25  \n",
      "44      2024-08-25     2024-10-20  \n",
      "45      2024-08-15            NaN  \n",
      "46      2024-09-16     2024-10-13  \n",
      "47      2024-09-02     2024-10-28  \n",
      "48      2024-09-17     2024-10-21  \n",
      "49      2024-08-21     2024-10-19  \n"
     ]
    }
   ],
   "source": [
    "df_resultado = df_resultado[['titulo', 'autor', 'nome_leitor', 'data_emprestimo', 'data_devolucao']]\n",
    "\n",
    "print(df_resultado)"
   ]
  }
 ],
 "metadata": {
  "kernelspec": {
   "display_name": "Python 3 (ipykernel)",
   "language": "python",
   "name": "python3"
  },
  "language_info": {
   "codemirror_mode": {
    "name": "ipython",
    "version": 3
   },
   "file_extension": ".py",
   "mimetype": "text/x-python",
   "name": "python",
   "nbconvert_exporter": "python",
   "pygments_lexer": "ipython3",
   "version": "3.12.4"
  }
 },
 "nbformat": 4,
 "nbformat_minor": 5
}
