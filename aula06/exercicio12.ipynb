{
 "cells": [
  {
   "cell_type": "markdown",
   "id": "4e017e4a-3399-4ede-be55-1dd748447494",
   "metadata": {},
   "source": [
    "# Exercício 12"
   ]
  },
  {
   "cell_type": "markdown",
   "id": "1d8ee6b3-b2fc-4cd8-b1c8-13056d714ad2",
   "metadata": {},
   "source": [
    "**Objetivo: Unir os DataFrames de livros e empréstimos usando o método inner join e mostrar apenas os livros que foram emprestados.**"
   ]
  },
  {
   "cell_type": "markdown",
   "id": "074e20fb-6663-417f-aac0-a64723e72024",
   "metadata": {},
   "source": [
    "----"
   ]
  },
  {
   "cell_type": "markdown",
   "id": "e2c4a521-ea3d-4a4a-8e6c-73e24ffde27d",
   "metadata": {},
   "source": [
    "***Carregue os arquivos livros.csv e emprestimos.csv em\n",
    "DataFrames separados.***"
   ]
  },
  {
   "cell_type": "code",
   "execution_count": null,
   "id": "4492e552-5caa-4b72-9118-eadcab409ab0",
   "metadata": {},
   "outputs": [],
   "source": []
  },
  {
   "cell_type": "markdown",
   "id": "a18fa512-39e7-4725-b123-50a5e3ac216c",
   "metadata": {},
   "source": [
    "***Realize um inner join entre as tabelas, unindo-as pela\n",
    "coluna id_livro.***"
   ]
  },
  {
   "cell_type": "code",
   "execution_count": null,
   "id": "64064905-fa15-4a7f-a4d3-998ff60e7e7b",
   "metadata": {},
   "outputs": [],
   "source": []
  },
  {
   "cell_type": "markdown",
   "id": "688e7f36-35f3-4479-873d-865c97753f1c",
   "metadata": {},
   "source": [
    "***Exiba o resultado, mostrando as colunas: titulo, autor, nome_leitor, data_emprestimo e data_devolucao.***"
   ]
  },
  {
   "cell_type": "code",
   "execution_count": null,
   "id": "74a837cc-eb32-4ea9-bae9-6fee63edca7a",
   "metadata": {},
   "outputs": [],
   "source": []
  }
 ],
 "metadata": {
  "kernelspec": {
   "display_name": "Python 3 (ipykernel)",
   "language": "python",
   "name": "python3"
  },
  "language_info": {
   "codemirror_mode": {
    "name": "ipython",
    "version": 3
   },
   "file_extension": ".py",
   "mimetype": "text/x-python",
   "name": "python",
   "nbconvert_exporter": "python",
   "pygments_lexer": "ipython3",
   "version": "3.12.4"
  }
 },
 "nbformat": 4,
 "nbformat_minor": 5
}
