{
 "cells": [
  {
   "cell_type": "markdown",
   "id": "f15d00c7-2298-4ba7-8f1a-e359512dee92",
   "metadata": {},
   "source": [
    "# Exercício 15"
   ]
  },
  {
   "cell_type": "markdown",
   "id": "15cf87dd-efaa-46aa-9001-e987699aa14d",
   "metadata": {},
   "source": [
    "**Objetivo: Preencher os valores ausentes de forma apropriada.**"
   ]
  },
  {
   "cell_type": "markdown",
   "id": "9cd316e8-185e-4996-b9de-7435c01d1f57",
   "metadata": {},
   "source": [
    "----"
   ]
  },
  {
   "cell_type": "code",
   "execution_count": 1,
   "id": "ffacc40f-8def-4a5e-9a15-812ab50f4f1e",
   "metadata": {},
   "outputs": [],
   "source": [
    "import pandas as pd"
   ]
  },
  {
   "cell_type": "markdown",
   "id": "defe9a3d-d029-4970-9827-b27673f3f2e9",
   "metadata": {},
   "source": [
    "***Carregue o arquivo emprestimos.csv.***"
   ]
  },
  {
   "cell_type": "code",
   "execution_count": 16,
   "id": "6ca24b20-991e-49f0-baf0-4a20f8708d89",
   "metadata": {},
   "outputs": [],
   "source": [
    "emprestimos = pd.read_csv('Aula06_arquivos/emprestimos.csv')"
   ]
  },
  {
   "cell_type": "markdown",
   "id": "f99cb63a-4c8b-4dcc-ad88-27f0de9e5383",
   "metadata": {},
   "source": [
    "***Preencha os valores ausentes da coluna data_devolucao com a string \"Em aberto\" para indicar que o livro ainda não foi devolvido.***"
   ]
  },
  {
   "cell_type": "code",
   "execution_count": 20,
   "id": "4283a639-afdf-410d-b312-8233da583a8d",
   "metadata": {},
   "outputs": [],
   "source": [
    "emprestimos['data_devolucao'].fillna('Em aberto', inplace=True)"
   ]
  },
  {
   "cell_type": "markdown",
   "id": "dbdc9db5-0fa4-42cf-ae3b-a2485322f142",
   "metadata": {},
   "source": [
    "***Exiba o DataFrame resultante com as alterações.***"
   ]
  },
  {
   "cell_type": "code",
   "execution_count": 21,
   "id": "6e348042-c328-4ffa-b9a1-9d6c33c4685f",
   "metadata": {},
   "outputs": [
    {
     "name": "stdout",
     "output_type": "stream",
     "text": [
      "    id_emprestimo  id_livro nome_leitor data_emprestimo data_devolucao\n",
      "0             100        13       Caleb      2024-08-10     2024-10-28\n",
      "1             101        30     Cynthia      2024-08-25     2024-10-31\n",
      "2             102        30       Wendy      2024-09-23      Em aberto\n",
      "3             103         5     Michael      2024-09-22      Em aberto\n",
      "4             104        36    Virginia      2024-08-08     2024-10-31\n",
      "5             105        41     Gregory      2024-09-24     2024-10-25\n",
      "6             106        43      Travis      2024-09-16     2024-10-13\n",
      "7             107         6      Thomas      2024-08-21     2024-10-22\n",
      "8             108        24       Peggy      2024-08-17     2024-10-15\n",
      "9             109        21      Martha      2024-08-09     2024-10-28\n",
      "10            110        12    Mitchell      2024-08-07     2024-10-13\n",
      "11            111         3        Kent      2024-09-08      Em aberto\n",
      "12            112        42        Kari      2024-08-25     2024-10-20\n",
      "13            113        22     Tiffany      2024-09-09      Em aberto\n",
      "14            114         4      Elijah      2024-08-23     2024-10-15\n",
      "15            115        45  Jacqueline      2024-09-02     2024-10-28\n",
      "16            116        14    Kathleen      2024-08-11     2024-10-21\n",
      "17            117        21     Annette      2024-09-05     2024-10-25\n",
      "18            118        31     Colleen      2024-08-04      Em aberto\n",
      "19            119        42      Manuel      2024-08-15      Em aberto\n",
      "20            120        16        Lisa      2024-09-25     2024-10-29\n",
      "21            121        37       Logan      2024-08-13      Em aberto\n",
      "22            122        37       Megan      2024-08-07     2024-10-12\n",
      "23            123         8      Walter      2024-08-15      Em aberto\n",
      "24            124        25      Steven      2024-09-05      Em aberto\n",
      "25            125        23      Ashley      2024-09-03     2024-10-12\n",
      "26            126        31    Jennifer      2024-09-28     2024-10-30\n",
      "27            127        34    Samantha      2024-08-08     2024-10-27\n",
      "28            128        35     Michael      2024-09-22     2024-10-18\n",
      "29            129        18   Johnathan      2024-08-10     2024-10-21\n",
      "30            130        11     Michael      2024-09-14     2024-10-18\n",
      "31            131        17      Tracey      2024-09-04     2024-10-17\n",
      "32            132         4     Rebekah      2024-09-15     2024-10-23\n",
      "33            133        28   Alexander      2024-09-01     2024-10-15\n",
      "34            134         1     Stephen      2024-10-01     2024-10-31\n",
      "35            135         6    Danielle      2024-08-06      Em aberto\n",
      "36            136        35     Darrell      2024-09-26     2024-10-31\n",
      "37            137        45     Richard      2024-09-17     2024-10-21\n",
      "38            138        16      Thomas      2024-09-08     2024-10-22\n",
      "39            139         3       Brian      2024-09-07     2024-10-27\n",
      "40            140         8       Andre      2024-09-11      Em aberto\n",
      "41            141        11      Miguel      2024-09-13      Em aberto\n",
      "42            142         1      Justin      2024-08-27      Em aberto\n",
      "43            143        36        Tina      2024-08-18     2024-10-30\n",
      "44            144        47     Richard      2024-08-21     2024-10-19\n",
      "45            145        31       Aaron      2024-09-25     2024-10-19\n",
      "46            146        32      Lauren      2024-08-13      Em aberto\n",
      "47            147        10   Katherine      2024-09-30     2024-10-29\n",
      "48            148        29        Paul      2024-09-28     2024-10-18\n",
      "49            149        40     Vanessa      2024-08-14      Em aberto\n"
     ]
    }
   ],
   "source": [
    "print(emprestimos)"
   ]
  },
  {
   "cell_type": "code",
   "execution_count": null,
   "id": "d4ee7fce-9a11-4aee-96c4-99f60b03aa45",
   "metadata": {},
   "outputs": [],
   "source": []
  }
 ],
 "metadata": {
  "kernelspec": {
   "display_name": "Python 3 (ipykernel)",
   "language": "python",
   "name": "python3"
  },
  "language_info": {
   "codemirror_mode": {
    "name": "ipython",
    "version": 3
   },
   "file_extension": ".py",
   "mimetype": "text/x-python",
   "name": "python",
   "nbconvert_exporter": "python",
   "pygments_lexer": "ipython3",
   "version": "3.12.4"
  }
 },
 "nbformat": 4,
 "nbformat_minor": 5
}
