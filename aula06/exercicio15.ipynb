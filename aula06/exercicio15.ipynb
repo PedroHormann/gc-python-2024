{
 "cells": [
  {
   "cell_type": "markdown",
   "id": "f15d00c7-2298-4ba7-8f1a-e359512dee92",
   "metadata": {},
   "source": [
    "# Exercício 15"
   ]
  },
  {
   "cell_type": "markdown",
   "id": "15cf87dd-efaa-46aa-9001-e987699aa14d",
   "metadata": {},
   "source": [
    "**Objetivo: Preencher os valores ausentes de forma apropriada.**"
   ]
  },
  {
   "cell_type": "markdown",
   "id": "9cd316e8-185e-4996-b9de-7435c01d1f57",
   "metadata": {},
   "source": [
    "----"
   ]
  },
  {
   "cell_type": "markdown",
   "id": "defe9a3d-d029-4970-9827-b27673f3f2e9",
   "metadata": {},
   "source": [
    "***Carregue o arquivo emprestimos.csv.***"
   ]
  },
  {
   "cell_type": "code",
   "execution_count": null,
   "id": "6ca24b20-991e-49f0-baf0-4a20f8708d89",
   "metadata": {},
   "outputs": [],
   "source": []
  },
  {
   "cell_type": "markdown",
   "id": "f99cb63a-4c8b-4dcc-ad88-27f0de9e5383",
   "metadata": {},
   "source": [
    "***Preencha os valores ausentes da coluna data_devolucao com a string \"Em aberto\" para indicar que o livro ainda não foi devolvido.***"
   ]
  },
  {
   "cell_type": "code",
   "execution_count": null,
   "id": "4283a639-afdf-410d-b312-8233da583a8d",
   "metadata": {},
   "outputs": [],
   "source": []
  },
  {
   "cell_type": "markdown",
   "id": "dbdc9db5-0fa4-42cf-ae3b-a2485322f142",
   "metadata": {},
   "source": [
    "***Exiba o DataFrame resultante com as alterações.***"
   ]
  },
  {
   "cell_type": "code",
   "execution_count": null,
   "id": "6e348042-c328-4ffa-b9a1-9d6c33c4685f",
   "metadata": {},
   "outputs": [],
   "source": []
  }
 ],
 "metadata": {
  "kernelspec": {
   "display_name": "Python 3 (ipykernel)",
   "language": "python",
   "name": "python3"
  },
  "language_info": {
   "codemirror_mode": {
    "name": "ipython",
    "version": 3
   },
   "file_extension": ".py",
   "mimetype": "text/x-python",
   "name": "python",
   "nbconvert_exporter": "python",
   "pygments_lexer": "ipython3",
   "version": "3.12.4"
  }
 },
 "nbformat": 4,
 "nbformat_minor": 5
}
