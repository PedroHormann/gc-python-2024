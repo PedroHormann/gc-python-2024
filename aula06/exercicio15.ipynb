{
 "cells": [
  {
   "cell_type": "markdown",
   "id": "f15d00c7-2298-4ba7-8f1a-e359512dee92",
   "metadata": {},
   "source": [
    "# Exercício 15"
   ]
  },
  {
   "cell_type": "markdown",
   "id": "15cf87dd-efaa-46aa-9001-e987699aa14d",
   "metadata": {},
   "source": [
    "**Objetivo: Preencher os valores ausentes de forma apropriada.**"
   ]
  },
  {
   "cell_type": "markdown",
   "id": "9cd316e8-185e-4996-b9de-7435c01d1f57",
   "metadata": {},
   "source": [
    "----"
   ]
  },
  {
   "cell_type": "code",
   "execution_count": 1,
   "id": "ffacc40f-8def-4a5e-9a15-812ab50f4f1e",
   "metadata": {},
   "outputs": [],
   "source": [
    "import pandas as pd"
   ]
  },
  {
   "cell_type": "markdown",
   "id": "defe9a3d-d029-4970-9827-b27673f3f2e9",
   "metadata": {},
   "source": [
    "***Carregue o arquivo emprestimos.csv.***"
   ]
  },
  {
   "cell_type": "code",
   "execution_count": 5,
   "id": "6ca24b20-991e-49f0-baf0-4a20f8708d89",
   "metadata": {},
   "outputs": [],
   "source": [
    "livros = pd.read_csv('Aula06_arquivos/livros.csv')\n",
    "emprestimos = pd.read_csv('Aula06_arquivos/emprestimos.csv')"
   ]
  },
  {
   "cell_type": "markdown",
   "id": "f99cb63a-4c8b-4dcc-ad88-27f0de9e5383",
   "metadata": {},
   "source": [
    "***Preencha os valores ausentes da coluna data_devolucao com a string \"Em aberto\" para indicar que o livro ainda não foi devolvido.***"
   ]
  },
  {
   "cell_type": "code",
   "execution_count": 9,
   "id": "4283a639-afdf-410d-b312-8233da583a8d",
   "metadata": {},
   "outputs": [],
   "source": [
    "resultado = pd.merge(emprestimos, livros, on='id_livro', how='inner')\n",
    "\n",
    "resultado['data_devolucao'] = resultado['data_devolucao'].fillna('Em aberto')\n",
    "\n",
    "resultado_selecionado = resultado[['titulo', 'autor', 'nome_leitor', 'data_emprestimo', 'data_devolucao']]"
   ]
  },
  {
   "cell_type": "markdown",
   "id": "dbdc9db5-0fa4-42cf-ae3b-a2485322f142",
   "metadata": {},
   "source": [
    "***Exiba o DataFrame resultante com as alterações.***"
   ]
  },
  {
   "cell_type": "code",
   "execution_count": 10,
   "id": "6e348042-c328-4ffa-b9a1-9d6c33c4685f",
   "metadata": {},
   "outputs": [
    {
     "name": "stdout",
     "output_type": "stream",
     "text": [
      "                           titulo               autor nome_leitor  \\\n",
      "0                   Code Complete      William Medina       Caleb   \n",
      "1                 Design Patterns  Kristina Wilkinson     Cynthia   \n",
      "2                 Design Patterns  Kristina Wilkinson       Wendy   \n",
      "3      Introduction to Algorithms      Carl Carson II     Michael   \n",
      "4      Head First Design Patterns          Alan Smith    Virginia   \n",
      "5   Cracking the Coding Interview     Thomas Mcdaniel     Gregory   \n",
      "6   Cracking the Coding Interview  Christopher Patton      Travis   \n",
      "7          The Mythical Man-Month      Sarah Peterson      Thomas   \n",
      "8                      Clean Code      Amanda Russell       Peggy   \n",
      "9                 Design Patterns      Albert Simmons      Martha   \n",
      "10                  Code Complete     Francis Bonilla    Mitchell   \n",
      "11              You Don’t Know JS       Ronald Forbes        Kent   \n",
      "12       The Pragmatic Programmer            Amy Berg        Kari   \n",
      "13                  Code Complete       Daniel Torres     Tiffany   \n",
      "14                 Effective Java       Laurie Fisher      Elijah   \n",
      "15                Design Patterns         Robert Rice  Jacqueline   \n",
      "16                  Code Complete      Vanessa Porter    Kathleen   \n",
      "17                Design Patterns      Albert Simmons     Annette   \n",
      "18       The Pragmatic Programmer      Suzanne Romero     Colleen   \n",
      "19       The Pragmatic Programmer            Amy Berg      Manuel   \n",
      "20         The Mythical Man-Month         James Black        Lisa   \n",
      "21                    Refactoring       Kimberly Webb       Logan   \n",
      "22                    Refactoring       Kimberly Webb       Megan   \n",
      "23         The Mythical Man-Month       Kenneth Velez      Walter   \n",
      "24              You Don’t Know JS         Kyle Graham      Steven   \n",
      "25                Design Patterns        Billy Brewer      Ashley   \n",
      "26       The Pragmatic Programmer      Suzanne Romero    Jennifer   \n",
      "27                  Code Complete          Juan Lewis    Samantha   \n",
      "28                Design Patterns      Melissa French     Michael   \n",
      "29       The Pragmatic Programmer           Amy Davis   Johnathan   \n",
      "30  Cracking the Coding Interview    Michael Reynolds     Michael   \n",
      "31                  Code Complete        Brianna Rose      Tracey   \n",
      "32                 Effective Java       Laurie Fisher     Rebekah   \n",
      "33     Introduction to Algorithms       Kevin Francis   Alexander   \n",
      "34  Cracking the Coding Interview       Natalie Hayes     Stephen   \n",
      "35         The Mythical Man-Month      Sarah Peterson    Danielle   \n",
      "36                Design Patterns      Melissa French     Darrell   \n",
      "37                Design Patterns         Robert Rice     Richard   \n",
      "38         The Mythical Man-Month         James Black      Thomas   \n",
      "39              You Don’t Know JS       Ronald Forbes       Brian   \n",
      "40         The Mythical Man-Month       Kenneth Velez       Andre   \n",
      "41  Cracking the Coding Interview    Michael Reynolds      Miguel   \n",
      "42  Cracking the Coding Interview       Natalie Hayes      Justin   \n",
      "43     Head First Design Patterns          Alan Smith        Tina   \n",
      "44                Design Patterns        Steven Lyons     Richard   \n",
      "45       The Pragmatic Programmer      Suzanne Romero       Aaron   \n",
      "46                    Refactoring        Sean Carroll      Lauren   \n",
      "47     Introduction to Algorithms        Tracy Branch   Katherine   \n",
      "48       The Pragmatic Programmer      Thomas Jackson        Paul   \n",
      "49         The Mythical Man-Month      Dalton Meadows     Vanessa   \n",
      "\n",
      "   data_emprestimo data_devolucao  \n",
      "0       2024-08-10     2024-10-28  \n",
      "1       2024-08-25     2024-10-31  \n",
      "2       2024-09-23      Em aberto  \n",
      "3       2024-09-22      Em aberto  \n",
      "4       2024-08-08     2024-10-31  \n",
      "5       2024-09-24     2024-10-25  \n",
      "6       2024-09-16     2024-10-13  \n",
      "7       2024-08-21     2024-10-22  \n",
      "8       2024-08-17     2024-10-15  \n",
      "9       2024-08-09     2024-10-28  \n",
      "10      2024-08-07     2024-10-13  \n",
      "11      2024-09-08      Em aberto  \n",
      "12      2024-08-25     2024-10-20  \n",
      "13      2024-09-09      Em aberto  \n",
      "14      2024-08-23     2024-10-15  \n",
      "15      2024-09-02     2024-10-28  \n",
      "16      2024-08-11     2024-10-21  \n",
      "17      2024-09-05     2024-10-25  \n",
      "18      2024-08-04      Em aberto  \n",
      "19      2024-08-15      Em aberto  \n",
      "20      2024-09-25     2024-10-29  \n",
      "21      2024-08-13      Em aberto  \n",
      "22      2024-08-07     2024-10-12  \n",
      "23      2024-08-15      Em aberto  \n",
      "24      2024-09-05      Em aberto  \n",
      "25      2024-09-03     2024-10-12  \n",
      "26      2024-09-28     2024-10-30  \n",
      "27      2024-08-08     2024-10-27  \n",
      "28      2024-09-22     2024-10-18  \n",
      "29      2024-08-10     2024-10-21  \n",
      "30      2024-09-14     2024-10-18  \n",
      "31      2024-09-04     2024-10-17  \n",
      "32      2024-09-15     2024-10-23  \n",
      "33      2024-09-01     2024-10-15  \n",
      "34      2024-10-01     2024-10-31  \n",
      "35      2024-08-06      Em aberto  \n",
      "36      2024-09-26     2024-10-31  \n",
      "37      2024-09-17     2024-10-21  \n",
      "38      2024-09-08     2024-10-22  \n",
      "39      2024-09-07     2024-10-27  \n",
      "40      2024-09-11      Em aberto  \n",
      "41      2024-09-13      Em aberto  \n",
      "42      2024-08-27      Em aberto  \n",
      "43      2024-08-18     2024-10-30  \n",
      "44      2024-08-21     2024-10-19  \n",
      "45      2024-09-25     2024-10-19  \n",
      "46      2024-08-13      Em aberto  \n",
      "47      2024-09-30     2024-10-29  \n",
      "48      2024-09-28     2024-10-18  \n",
      "49      2024-08-14      Em aberto  \n"
     ]
    }
   ],
   "source": [
    "print(resultado_selecionado)"
   ]
  }
 ],
 "metadata": {
  "kernelspec": {
   "display_name": "Python 3 (ipykernel)",
   "language": "python",
   "name": "python3"
  },
  "language_info": {
   "codemirror_mode": {
    "name": "ipython",
    "version": 3
   },
   "file_extension": ".py",
   "mimetype": "text/x-python",
   "name": "python",
   "nbconvert_exporter": "python",
   "pygments_lexer": "ipython3",
   "version": "3.12.4"
  }
 },
 "nbformat": 4,
 "nbformat_minor": 5
}
