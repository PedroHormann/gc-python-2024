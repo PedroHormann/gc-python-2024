{
 "cells": [
  {
   "cell_type": "markdown",
   "id": "67f2bfd9-373d-4ad2-8f40-9f5254294737",
   "metadata": {},
   "source": [
    "# Exercicício 13"
   ]
  },
  {
   "cell_type": "markdown",
   "id": "b53b4be0-8ba1-461f-85bd-1ce037479429",
   "metadata": {},
   "source": [
    "**Objetivo: Realizar um left join para exibir todos os livros, independentemente de terem sido emprestados.**"
   ]
  },
  {
   "cell_type": "markdown",
   "id": "f76e2c52-bd54-438e-9cb5-8523da4eb9e6",
   "metadata": {},
   "source": [
    "----"
   ]
  },
  {
   "cell_type": "markdown",
   "id": "d03bc67a-0e6f-4bbf-9524-4da1683fb9bb",
   "metadata": {},
   "source": [
    "***Carregue novamente os arquivos.***"
   ]
  },
  {
   "cell_type": "code",
   "execution_count": null,
   "id": "e01c57a8-7e0d-48b9-8c91-7922865de5b5",
   "metadata": {},
   "outputs": [],
   "source": []
  },
  {
   "cell_type": "markdown",
   "id": "2b9e822c-10a4-446f-b3bf-39bddd51e2fd",
   "metadata": {},
   "source": [
    "***Realize um left join entre as tabelas livros e emprestimos pela coluna id_livro.***"
   ]
  },
  {
   "cell_type": "code",
   "execution_count": null,
   "id": "3b291851-3c37-4496-8012-47f867b7e09b",
   "metadata": {},
   "outputs": [],
   "source": []
  },
  {
   "cell_type": "markdown",
   "id": "ec163840-fefc-4edd-84cf-585a8e11a4a4",
   "metadata": {},
   "source": [
    "***Exiba os livros que não foram emprestados (os que têm valores NaN nas colunas relacionadas aos empréstimos).***"
   ]
  },
  {
   "cell_type": "code",
   "execution_count": null,
   "id": "7962ff73-c58d-461c-b90a-973efb7ee83c",
   "metadata": {},
   "outputs": [],
   "source": []
  }
 ],
 "metadata": {
  "kernelspec": {
   "display_name": "Python 3 (ipykernel)",
   "language": "python",
   "name": "python3"
  },
  "language_info": {
   "codemirror_mode": {
    "name": "ipython",
    "version": 3
   },
   "file_extension": ".py",
   "mimetype": "text/x-python",
   "name": "python",
   "nbconvert_exporter": "python",
   "pygments_lexer": "ipython3",
   "version": "3.12.4"
  }
 },
 "nbformat": 4,
 "nbformat_minor": 5
}
