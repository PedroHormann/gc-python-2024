{
 "cells": [
  {
   "cell_type": "markdown",
   "id": "67f2bfd9-373d-4ad2-8f40-9f5254294737",
   "metadata": {},
   "source": [
    "# Exercicício 13"
   ]
  },
  {
   "cell_type": "markdown",
   "id": "b53b4be0-8ba1-461f-85bd-1ce037479429",
   "metadata": {},
   "source": [
    "**Objetivo: Realizar um left join para exibir todos os livros, independentemente de terem sido emprestados.**"
   ]
  },
  {
   "cell_type": "markdown",
   "id": "f76e2c52-bd54-438e-9cb5-8523da4eb9e6",
   "metadata": {},
   "source": [
    "----"
   ]
  },
  {
   "cell_type": "code",
   "execution_count": 1,
   "id": "da363b19-28d3-4bf4-a6d0-aed671247aed",
   "metadata": {},
   "outputs": [],
   "source": [
    "import pandas as pd"
   ]
  },
  {
   "cell_type": "markdown",
   "id": "d03bc67a-0e6f-4bbf-9524-4da1683fb9bb",
   "metadata": {},
   "source": [
    "***Carregue novamente os arquivos.***"
   ]
  },
  {
   "cell_type": "code",
   "execution_count": 3,
   "id": "e01c57a8-7e0d-48b9-8c91-7922865de5b5",
   "metadata": {},
   "outputs": [],
   "source": [
    "df_livros = pd.read_csv('Aula06_arquivos/livros.csv')\n",
    "df_emprestimos = pd.read_csv('Aula06_arquivos/emprestimos.csv')"
   ]
  },
  {
   "cell_type": "markdown",
   "id": "2b9e822c-10a4-446f-b3bf-39bddd51e2fd",
   "metadata": {},
   "source": [
    "***Realize um left join entre as tabelas livros e emprestimos pela coluna id_livro.***"
   ]
  },
  {
   "cell_type": "code",
   "execution_count": 4,
   "id": "3b291851-3c37-4496-8012-47f867b7e09b",
   "metadata": {},
   "outputs": [],
   "source": [
    "df_left_join = pd.merge(df_livros, df_emprestimos, on='id_livro', how='left')"
   ]
  },
  {
   "cell_type": "markdown",
   "id": "ec163840-fefc-4edd-84cf-585a8e11a4a4",
   "metadata": {},
   "source": [
    "***Exiba os livros que não foram emprestados (os que têm valores NaN nas colunas relacionadas aos empréstimos).***"
   ]
  },
  {
   "cell_type": "code",
   "execution_count": 7,
   "id": "7962ff73-c58d-461c-b90a-973efb7ee83c",
   "metadata": {},
   "outputs": [
    {
     "name": "stdout",
     "output_type": "stream",
     "text": [
      "    id_livro                         titulo              autor  \\\n",
      "2          2  Cracking the Coding Interview      Brittany Paul   \n",
      "10         7              You Don’t Know JS       Vanessa Holt   \n",
      "13         9         The Mythical Man-Month     Maureen Taylor   \n",
      "20        15                 Effective Java  Amanda Stephenson   \n",
      "25        19                  Code Complete    Andrew Williams   \n",
      "26        20                 Effective Java       Amy Robinson   \n",
      "33        26                  Code Complete      Ashley Becker   \n",
      "34        27            Python Crash Course       Samuel Green   \n",
      "43        33                    Refactoring   Jennifer Hawkins   \n",
      "51        38         The Mythical Man-Month   Terrence Barrett   \n",
      "52        39                  Code Complete   Jennifer Wallace   \n",
      "58        44            Python Crash Course        Steven Wood   \n",
      "61        46     Introduction to Algorithms      Eric Crawford   \n",
      "63        48                Design Patterns        Samuel Long   \n",
      "64        49              You Don’t Know JS       Dylan Barnes   \n",
      "65        50                  Code Complete       Sandra Greer   \n",
      "\n",
      "    ano_publicacao                  genero  id_emprestimo nome_leitor  \\\n",
      "2             1998  Engenharia de Software            NaN         NaN   \n",
      "10            2000  Engenharia de Software            NaN         NaN   \n",
      "13            1993  Engenharia de Software            NaN         NaN   \n",
      "20            2015  Engenharia de Software            NaN         NaN   \n",
      "25            2010  Engenharia de Software            NaN         NaN   \n",
      "26            2014  Engenharia de Software            NaN         NaN   \n",
      "33            1994             Programação            NaN         NaN   \n",
      "34            1999              Algoritmos            NaN         NaN   \n",
      "43            1998  Engenharia de Software            NaN         NaN   \n",
      "51            2019             Programação            NaN         NaN   \n",
      "52            1994              Algoritmos            NaN         NaN   \n",
      "58            2016              Algoritmos            NaN         NaN   \n",
      "61            2011   Ciência da Computação            NaN         NaN   \n",
      "63            1991  Engenharia de Software            NaN         NaN   \n",
      "64            2006              Algoritmos            NaN         NaN   \n",
      "65            2006             Programação            NaN         NaN   \n",
      "\n",
      "   data_emprestimo data_devolucao  \n",
      "2              NaN            NaN  \n",
      "10             NaN            NaN  \n",
      "13             NaN            NaN  \n",
      "20             NaN            NaN  \n",
      "25             NaN            NaN  \n",
      "26             NaN            NaN  \n",
      "33             NaN            NaN  \n",
      "34             NaN            NaN  \n",
      "43             NaN            NaN  \n",
      "51             NaN            NaN  \n",
      "52             NaN            NaN  \n",
      "58             NaN            NaN  \n",
      "61             NaN            NaN  \n",
      "63             NaN            NaN  \n",
      "64             NaN            NaN  \n",
      "65             NaN            NaN  \n"
     ]
    }
   ],
   "source": [
    "df_nao_emprestados = df_left_join[df_left_join['nome_leitor'].isna()]\n",
    "\n",
    "print(df_nao_emprestados)"
   ]
  }
 ],
 "metadata": {
  "kernelspec": {
   "display_name": "Python 3 (ipykernel)",
   "language": "python",
   "name": "python3"
  },
  "language_info": {
   "codemirror_mode": {
    "name": "ipython",
    "version": 3
   },
   "file_extension": ".py",
   "mimetype": "text/x-python",
   "name": "python",
   "nbconvert_exporter": "python",
   "pygments_lexer": "ipython3",
   "version": "3.12.4"
  }
 },
 "nbformat": 4,
 "nbformat_minor": 5
}
