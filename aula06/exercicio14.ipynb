{
 "cells": [
  {
   "cell_type": "markdown",
   "id": "735db526-e17f-498f-ae22-ff7b75bc5a14",
   "metadata": {},
   "source": [
    "# Exercício 14"
   ]
  },
  {
   "cell_type": "markdown",
   "id": "bb787304-ea6a-4468-91f1-b6662710b581",
   "metadata": {},
   "source": [
    "**Objetivo: Identificar os valores ausentes no DataFrame de empréstimos.**"
   ]
  },
  {
   "cell_type": "markdown",
   "id": "8e5dcaa6-a3d2-414d-a861-b95345888a6b",
   "metadata": {},
   "source": [
    "----"
   ]
  },
  {
   "cell_type": "code",
   "execution_count": 1,
   "id": "61f212ec-7497-478a-97ff-dab96523aae0",
   "metadata": {},
   "outputs": [],
   "source": [
    "import pandas as pd"
   ]
  },
  {
   "cell_type": "markdown",
   "id": "570b8837-18d4-4f10-b7ea-bf4f78481d6b",
   "metadata": {},
   "source": [
    "***Carregue o arquivo emprestimos.csv em um DataFrame.***"
   ]
  },
  {
   "cell_type": "code",
   "execution_count": 2,
   "id": "5057824e-05d0-49c2-a513-6f7aa91c7ba5",
   "metadata": {},
   "outputs": [],
   "source": [
    "df_emprestimos = pd.read_csv('Aula06_arquivos/emprestimos.csv')"
   ]
  },
  {
   "cell_type": "markdown",
   "id": "244b96f2-be3e-4be8-be74-75aacb99ec6f",
   "metadata": {},
   "source": [
    "***Utilize métodos do pandas para identificar quantos valores ausentes (NaN) existem na coluna data_devolucao.***"
   ]
  },
  {
   "cell_type": "code",
   "execution_count": 4,
   "id": "6e6ba305-d67d-4045-8046-19adced53ee5",
   "metadata": {},
   "outputs": [],
   "source": [
    "valores_ausentes = df_emprestimos['data_devolucao'].isna().sum()"
   ]
  },
  {
   "cell_type": "markdown",
   "id": "f4c4bc23-07a4-411f-8c54-026227769b31",
   "metadata": {},
   "source": [
    "***Exiba a quantidade total de valores ausentes.***"
   ]
  },
  {
   "cell_type": "code",
   "execution_count": 5,
   "id": "786c869d-8aea-440e-9b61-ddd5a827ee44",
   "metadata": {},
   "outputs": [
    {
     "name": "stdout",
     "output_type": "stream",
     "text": [
      "Quantidade total de valores ausentes na coluna 'data_devolucao': 15\n"
     ]
    }
   ],
   "source": [
    "print(f\"Quantidade total de valores ausentes na coluna 'data_devolucao': {valores_ausentes}\")"
   ]
  }
 ],
 "metadata": {
  "kernelspec": {
   "display_name": "Python 3 (ipykernel)",
   "language": "python",
   "name": "python3"
  },
  "language_info": {
   "codemirror_mode": {
    "name": "ipython",
    "version": 3
   },
   "file_extension": ".py",
   "mimetype": "text/x-python",
   "name": "python",
   "nbconvert_exporter": "python",
   "pygments_lexer": "ipython3",
   "version": "3.12.4"
  }
 },
 "nbformat": 4,
 "nbformat_minor": 5
}
