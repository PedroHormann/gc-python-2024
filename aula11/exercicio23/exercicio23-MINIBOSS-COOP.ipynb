{
 "cells": [
  {
   "cell_type": "markdown",
   "id": "55e5d03c-bc5b-470a-9ab2-4605d3ffee8f",
   "metadata": {},
   "source": [
    "# Exercício 23: MiniBoss - Coop"
   ]
  },
  {
   "cell_type": "markdown",
   "id": "0507bd1c-e140-4fef-8e33-e8179da0af17",
   "metadata": {},
   "source": [
    "## Carregar os Dados: credit_scoring_eng"
   ]
  },
  {
   "cell_type": "code",
   "execution_count": null,
   "id": "5b07e53a-ca1c-4710-bfe9-6eec37ff1f9b",
   "metadata": {},
   "outputs": [],
   "source": []
  },
  {
   "cell_type": "markdown",
   "id": "cca09e1a-e4ff-4adf-9c8e-b19f4ebf2906",
   "metadata": {},
   "source": [
    "### Realize a Análise Exploratória:"
   ]
  },
  {
   "cell_type": "markdown",
   "id": "698e9456-f8b7-41cb-b25c-1147f7aea0c9",
   "metadata": {},
   "source": [
    "****Utilize funções para verificar a estrutura do conjunto de dados (ex: head(), info()).****"
   ]
  },
  {
   "cell_type": "code",
   "execution_count": null,
   "id": "0b488dc9-857d-45e8-bdba-523c1eff0e69",
   "metadata": {},
   "outputs": [],
   "source": []
  },
  {
   "cell_type": "markdown",
   "id": "6b178330-bd34-4976-843e-53e25c67ae19",
   "metadata": {},
   "source": [
    "****Descreva brevemente o que cada coluna significa.****"
   ]
  },
  {
   "cell_type": "code",
   "execution_count": null,
   "id": "9d22bad1-bec3-4105-9bbc-c766bb4f415b",
   "metadata": {},
   "outputs": [],
   "source": []
  },
  {
   "cell_type": "markdown",
   "id": "0818367d-d82f-4927-bf72-f4dbf1d88dda",
   "metadata": {},
   "source": [
    "****Limpeza dos Dados: Identifique valores ausentes em cada coluna.****"
   ]
  },
  {
   "cell_type": "code",
   "execution_count": null,
   "id": "8db6d956-a346-4914-a6ec-eb62111715f1",
   "metadata": {},
   "outputs": [],
   "source": []
  },
  {
   "cell_type": "markdown",
   "id": "81b37888-1b10-4b82-835d-d2dd4239a864",
   "metadata": {},
   "source": [
    "### Responda: "
   ]
  },
  {
   "cell_type": "markdown",
   "id": "84a3b5e8-9615-4a89-b39b-bebf64192b14",
   "metadata": {},
   "source": [
    "****Quais colunas tem valores ausentes?****"
   ]
  },
  {
   "cell_type": "markdown",
   "id": "812de584-640f-4b37-ae6d-d16664980b21",
   "metadata": {},
   "source": []
  },
  {
   "cell_type": "markdown",
   "id": "74847afa-7579-4bd4-9540-094d6849d03f",
   "metadata": {},
   "source": [
    "****Qual percentual de valores ausentes para cada coluna? (cof cof df.isna().sum() / len(df) desculpe tossi durante a escrita).****"
   ]
  },
  {
   "cell_type": "markdown",
   "id": "4d8c998c-a70f-4a09-bfe8-0257dd7bc0b8",
   "metadata": {},
   "source": []
  },
  {
   "cell_type": "markdown",
   "id": "c1c68ce7-9dbb-4a93-9e92-c52de92a27a6",
   "metadata": {},
   "source": [
    "****Gere um gráfico heatmap no Seaborn para visualizar os valores ausentes.**** "
   ]
  },
  {
   "cell_type": "code",
   "execution_count": null,
   "id": "f57b8af3-a780-4fee-a3db-a82605bd4fe8",
   "metadata": {},
   "outputs": [],
   "source": []
  },
  {
   "cell_type": "markdown",
   "id": "39944a8b-291c-44e9-b7be-862f658473a6",
   "metadata": {},
   "source": [
    "****Eles seguem algum padrão?**** "
   ]
  },
  {
   "cell_type": "markdown",
   "id": "13b6651a-1552-41fc-bf8b-7292f8defbe3",
   "metadata": {},
   "source": []
  },
  {
   "cell_type": "markdown",
   "id": "3d31b434-631c-46a4-aae8-3cfc66ae6628",
   "metadata": {},
   "source": [
    "****Qual melhor maneira de lidar com esses dados ausentes e pq?****"
   ]
  },
  {
   "cell_type": "markdown",
   "id": "cc01bcd3-61c3-4841-8905-4d5b341bbc96",
   "metadata": {},
   "source": []
  },
  {
   "cell_type": "markdown",
   "id": "076bca10-8c92-4032-902c-cef4f0e51906",
   "metadata": {},
   "source": [
    "### Tratamento de Dados Inválidos:"
   ]
  },
  {
   "cell_type": "markdown",
   "id": "4beb2738-26e6-4d66-bd73-b49b06027089",
   "metadata": {},
   "source": [
    "****Verifique se há Outliers e os dados estatísticos da coluna “children” e “days_employed” trate-os adequadamente.****"
   ]
  },
  {
   "cell_type": "code",
   "execution_count": null,
   "id": "02d21158-db24-4c33-a495-91ddebdadd81",
   "metadata": {},
   "outputs": [],
   "source": []
  },
  {
   "cell_type": "markdown",
   "id": "11f5142c-9f18-4203-9df1-1a338a3def6d",
   "metadata": {},
   "source": [
    "****Qual melhor maneira de lidar com os outliers dessa coluna e pq?****"
   ]
  },
  {
   "cell_type": "markdown",
   "id": "d6e779dd-bf97-4c7d-a12e-1e834a650d19",
   "metadata": {},
   "source": []
  },
  {
   "cell_type": "markdown",
   "id": "f589d553-2742-43de-bf71-87237980c458",
   "metadata": {},
   "source": [
    "### Remova dados duplicados:"
   ]
  },
  {
   "cell_type": "markdown",
   "id": "008f77ae-ac43-4913-9805-d18aeb1c3dd9",
   "metadata": {},
   "source": [
    "****Verifique se há dados duplicados, se tiver remova eles e reset o index.****"
   ]
  },
  {
   "cell_type": "code",
   "execution_count": null,
   "id": "0dc20294-6308-42bc-9efd-53864f1473a7",
   "metadata": {},
   "outputs": [],
   "source": []
  },
  {
   "cell_type": "markdown",
   "id": "b647fbd6-a0da-4a8a-afda-5f816adeaba3",
   "metadata": {},
   "source": [
    "****Existe uma correlação entre ter filhos e pagar o aluguel em dia? Existe uma correlação entre status familiar e pagamento em dia?****"
   ]
  },
  {
   "cell_type": "markdown",
   "id": "9ebda7a9-50fb-40de-a44d-acf8ef33f982",
   "metadata": {},
   "source": []
  },
  {
   "cell_type": "markdown",
   "id": "1efaa5ba-c5d4-4e87-8bb3-c2f6cf3dd4da",
   "metadata": {},
   "source": [
    "## Carregar os Dados: games.cvs"
   ]
  },
  {
   "cell_type": "code",
   "execution_count": null,
   "id": "18d93083-b131-4eb7-8379-46c4c3385cbc",
   "metadata": {},
   "outputs": [],
   "source": []
  },
  {
   "cell_type": "markdown",
   "id": "dabf21cc-14c5-42e3-8ad9-38b8e65bdd2f",
   "metadata": {},
   "source": [
    "****Realize transformação dos dados: Utilize funçõao groupby() para agrupar os dados por platform e year****"
   ]
  },
  {
   "cell_type": "code",
   "execution_count": null,
   "id": "d2f8eb99-b1f6-4702-97ce-8ce026077895",
   "metadata": {},
   "outputs": [],
   "source": []
  },
  {
   "cell_type": "markdown",
   "id": "330302c7-f65d-48bc-a134-1f6cdb18d86c",
   "metadata": {},
   "source": [
    "****Aplique funções de agregação como média, soma, ou contagem para comparar as notas médias com as vendas.****"
   ]
  },
  {
   "cell_type": "code",
   "execution_count": null,
   "id": "8a0ae4d1-cfe5-4308-879d-8b29a472ff40",
   "metadata": {},
   "outputs": [],
   "source": []
  },
  {
   "cell_type": "markdown",
   "id": "dfd330c7-a7a8-4d5e-97cd-b2da4f4d48e1",
   "metadata": {},
   "source": [
    "****Use a função pivot_table() para organizar os dados de forma que as plataformas fiquem nas linhas e as regiões nas colunas.****"
   ]
  },
  {
   "cell_type": "code",
   "execution_count": null,
   "id": "a0794700-53df-414c-b033-62532974d6a8",
   "metadata": {},
   "outputs": [],
   "source": []
  },
  {
   "cell_type": "markdown",
   "id": "0f1256b5-2329-49ac-b0fe-112e7f886d80",
   "metadata": {},
   "source": [
    "****Calcule a soma das vendas por plataforma para cada região.****"
   ]
  },
  {
   "cell_type": "code",
   "execution_count": null,
   "id": "06d5f1dc-0463-42ce-abc4-8f657aacd4a6",
   "metadata": {},
   "outputs": [],
   "source": []
  },
  {
   "cell_type": "markdown",
   "id": "3cbedc80-3fa0-48b3-bf13-9e5292223a05",
   "metadata": {},
   "source": [
    "****Filtre as 5 plataformas mais vendidas e visualize a variação no mercado.****"
   ]
  },
  {
   "cell_type": "code",
   "execution_count": null,
   "id": "a5985f4f-23ab-47ee-a6b7-d382276f49c8",
   "metadata": {},
   "outputs": [],
   "source": []
  },
  {
   "cell_type": "markdown",
   "id": "ba5eb141-a37a-4c58-90b7-9e8a6092a64a",
   "metadata": {},
   "source": [
    "****Quais plataformas apresentaram maior crescimento nas vendas entre 2013 e 2016?****"
   ]
  },
  {
   "cell_type": "markdown",
   "id": "e8a5463c-fb85-4c95-bb46-b8f5aca743db",
   "metadata": {},
   "source": []
  },
  {
   "cell_type": "markdown",
   "id": "8062b0e8-2298-41c8-89f7-b4f55e32174d",
   "metadata": {},
   "source": [
    "****Como as notas de críticos e usuários afetam as vendas na PS4?****"
   ]
  },
  {
   "cell_type": "markdown",
   "id": "8d965929-6bf3-4394-9ab6-1a7e85ff0d6d",
   "metadata": {},
   "source": []
  },
  {
   "cell_type": "markdown",
   "id": "f6b1d355-abe1-458d-b2ab-2b512dc8c1ea",
   "metadata": {},
   "source": [
    "****Avaliações mais altas de críticos correspondem a maiores vendas em todas as plataformas?****"
   ]
  },
  {
   "cell_type": "markdown",
   "id": "03ca3473-0a73-482a-bab5-04386debb0cf",
   "metadata": {},
   "source": []
  }
 ],
 "metadata": {
  "kernelspec": {
   "display_name": "Python 3 (ipykernel)",
   "language": "python",
   "name": "python3"
  },
  "language_info": {
   "codemirror_mode": {
    "name": "ipython",
    "version": 3
   },
   "file_extension": ".py",
   "mimetype": "text/x-python",
   "name": "python",
   "nbconvert_exporter": "python",
   "pygments_lexer": "ipython3",
   "version": "3.12.4"
  }
 },
 "nbformat": 4,
 "nbformat_minor": 5
}
