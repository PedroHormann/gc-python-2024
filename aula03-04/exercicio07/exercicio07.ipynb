{
 "cells": [
  {
   "cell_type": "markdown",
   "id": "b3729dcb-bccb-4b8f-b028-50bd0e240264",
   "metadata": {},
   "source": [
    "#Exercício 07:"
   ]
  },
  {
   "cell_type": "markdown",
   "id": "74acbd57-7297-4e71-b3dc-6f04621a5462",
   "metadata": {},
   "source": [
    "***Crie uma lista com 5 nomes de filmes que você goste.***\n",
    "\n",
    "***Crie uma 2a lista com o ano de lançamento desses 5 filmes (pode pesquisar, eu deixo). Tranforme isso em um dataframe;***\n",
    "\n",
    "***Adicione uma nova coluna com a nota, de 1 a 10, de quanto você gosta deles;***\n",
    "\n",
    "***Crie mais 2 dataframes, de séries e anime/desenhos que você gosta, com as mesmas colunas acima.***\n",
    "\n",
    "***Salve os 3 dataframes em 'csv', 'json' e 'html' e nos envie os arquivos.***\n",
    "\n",
    "***Concatene horizontalmente os 3 dataframes, ficando 9 colunas no final.***"
   ]
  },
  {
   "cell_type": "code",
   "execution_count": 16,
   "id": "0fbe43be-61b9-4250-9fe7-0e1e1263df63",
   "metadata": {},
   "outputs": [],
   "source": [
    "import pandas as pd"
   ]
  },
  {
   "cell_type": "code",
   "execution_count": 17,
   "id": "e65e969b-be67-4f00-ad18-419b24d6eeaf",
   "metadata": {},
   "outputs": [],
   "source": [
    "movie_dados = {\n",
    "        'name': ['Hereditary', 'The Witch', 'Midsommar', 'Ender`s Game', 'Get Out'],\n",
    "        'date': [2018, 2015, 2019, 2013, 2017]\n",
    "}"
   ]
  },
  {
   "cell_type": "code",
   "execution_count": 20,
   "id": "163e9ce9-77e2-4f3c-816c-d35c93384d18",
   "metadata": {},
   "outputs": [
    {
     "name": "stdout",
     "output_type": "stream",
     "text": [
      "           name  date  score\n",
      "0    Hereditary  2018     10\n",
      "1     The Witch  2015      9\n",
      "2     Midsommar  2019      8\n",
      "3  Ender`s Game  2013     10\n",
      "4       Get Out  2017      9\n"
     ]
    }
   ],
   "source": [
    "movies = pd.DataFrame(movie_dados)\n",
    "print(movies)"
   ]
  },
  {
   "cell_type": "code",
   "execution_count": 21,
   "id": "5e5de8ff-5fbf-4486-8dab-2b7fd959fa96",
   "metadata": {},
   "outputs": [],
   "source": [
    "movie_dados['score'] = [10, 9, 8, 10,9]"
   ]
  },
  {
   "cell_type": "code",
   "execution_count": 22,
   "id": "06f761c8-f513-414d-b7d5-a37a2124c39a",
   "metadata": {},
   "outputs": [],
   "source": [
    "serie_dados = {\n",
    "        'name': ['The Office', 'Game of Thrones', 'The Walking Dead', 'Friends', 'The Sopranos'],\n",
    "        'date': [2005, 2011, 2010, 1994, 1999],\n",
    "        'score': [10, 7, 5, 10, 9]\n",
    "}"
   ]
  },
  {
   "cell_type": "code",
   "execution_count": 23,
   "id": "2ec32edc-a521-44fd-b752-763343ff4248",
   "metadata": {},
   "outputs": [
    {
     "name": "stdout",
     "output_type": "stream",
     "text": [
      "               name  date  score\n",
      "0        The Office  2005     10\n",
      "1   Game of Thrones  2011      7\n",
      "2  The Walking Dead  2010      5\n",
      "3           Friends  1994     10\n",
      "4      The Sopranos  1999      9\n"
     ]
    }
   ],
   "source": [
    "series = pd.DataFrame(serie_dados)\n",
    "print(series)"
   ]
  },
  {
   "cell_type": "code",
   "execution_count": 24,
   "id": "2b4fa2e6-6d5f-4685-9ed5-98dd1f5f7b7a",
   "metadata": {},
   "outputs": [],
   "source": [
    "animation_dados = {\n",
    "        'name': ['SpongeBob SquarePants', 'Adventure Time', 'Over the Garden Wall', 'Gravity Falls', 'Rick and Morty'],\n",
    "        'date': [1999, 2010, 2014, 2012, 2013],\n",
    "        'score': [8, 8, 10, 10, 10]\n",
    "}"
   ]
  },
  {
   "cell_type": "code",
   "execution_count": 25,
   "id": "2a704196-3bc0-40b7-a371-026b0020a365",
   "metadata": {},
   "outputs": [
    {
     "name": "stdout",
     "output_type": "stream",
     "text": [
      "                    name  date  score\n",
      "0  SpongeBob SquarePants  1999      8\n",
      "1         Adventure Time  2010      8\n",
      "2   Over the Garden Wall  2014     10\n",
      "3          Gravity Falls  2012     10\n",
      "4         Rick and Morty  2013     10\n"
     ]
    }
   ],
   "source": [
    "animations = pd.DataFrame(animation_dados)\n",
    "print(animations)"
   ]
  },
  {
   "cell_type": "code",
   "execution_count": 26,
   "id": "372e59f1-3607-4a9b-9025-51cf788599ee",
   "metadata": {},
   "outputs": [],
   "source": [
    "def salvar_dataframes(df, nome_base):\n",
    "    df.to_csv(f'{nome_base}.csv', index=False)\n",
    "    df.to_json(f'{nome_base}.json', orient='records', lines=True)\n",
    "    df.to_html(f'{nome_base}.html', index=False)\n",
    "    print(f\"Dataframes salvos como {nome_base}.csv, {nome_base}.json e {nome_base}.html\")"
   ]
  },
  {
   "cell_type": "code",
   "execution_count": 27,
   "id": "84d4e5f8-6694-472d-9ff5-30e65228db50",
   "metadata": {},
   "outputs": [
    {
     "name": "stdout",
     "output_type": "stream",
     "text": [
      "Dataframes salvos como Filmes.csv, Filmes.json e Filmes.html\n",
      "Dataframes salvos como Series.csv, Series.json e Series.html\n",
      "Dataframes salvos como Animações.csv, Animações.json e Animações.html\n"
     ]
    }
   ],
   "source": [
    "salvar_dataframes(movies, 'Filmes')\n",
    "salvar_dataframes(series, 'Series')\n",
    "salvar_dataframes(animations, 'Animações')"
   ]
  },
  {
   "cell_type": "code",
   "execution_count": 30,
   "id": "0e3eb77d-837a-4fe6-b4df-54b286abb430",
   "metadata": {},
   "outputs": [
    {
     "data": {
      "text/html": [
       "<div>\n",
       "<style scoped>\n",
       "    .dataframe tbody tr th:only-of-type {\n",
       "        vertical-align: middle;\n",
       "    }\n",
       "\n",
       "    .dataframe tbody tr th {\n",
       "        vertical-align: top;\n",
       "    }\n",
       "\n",
       "    .dataframe thead th {\n",
       "        text-align: right;\n",
       "    }\n",
       "</style>\n",
       "<table border=\"1\" class=\"dataframe\">\n",
       "  <thead>\n",
       "    <tr style=\"text-align: right;\">\n",
       "      <th></th>\n",
       "      <th>name</th>\n",
       "      <th>date</th>\n",
       "      <th>score</th>\n",
       "      <th>name</th>\n",
       "      <th>date</th>\n",
       "      <th>score</th>\n",
       "      <th>name</th>\n",
       "      <th>date</th>\n",
       "      <th>score</th>\n",
       "    </tr>\n",
       "  </thead>\n",
       "  <tbody>\n",
       "    <tr>\n",
       "      <th>0</th>\n",
       "      <td>Hereditary</td>\n",
       "      <td>2018</td>\n",
       "      <td>10</td>\n",
       "      <td>The Office</td>\n",
       "      <td>2005</td>\n",
       "      <td>10</td>\n",
       "      <td>SpongeBob SquarePants</td>\n",
       "      <td>1999</td>\n",
       "      <td>8</td>\n",
       "    </tr>\n",
       "    <tr>\n",
       "      <th>1</th>\n",
       "      <td>The Witch</td>\n",
       "      <td>2015</td>\n",
       "      <td>9</td>\n",
       "      <td>Game of Thrones</td>\n",
       "      <td>2011</td>\n",
       "      <td>7</td>\n",
       "      <td>Adventure Time</td>\n",
       "      <td>2010</td>\n",
       "      <td>8</td>\n",
       "    </tr>\n",
       "    <tr>\n",
       "      <th>2</th>\n",
       "      <td>Midsommar</td>\n",
       "      <td>2019</td>\n",
       "      <td>8</td>\n",
       "      <td>The Walking Dead</td>\n",
       "      <td>2010</td>\n",
       "      <td>5</td>\n",
       "      <td>Over the Garden Wall</td>\n",
       "      <td>2014</td>\n",
       "      <td>10</td>\n",
       "    </tr>\n",
       "    <tr>\n",
       "      <th>3</th>\n",
       "      <td>Ender`s Game</td>\n",
       "      <td>2013</td>\n",
       "      <td>10</td>\n",
       "      <td>Friends</td>\n",
       "      <td>1994</td>\n",
       "      <td>10</td>\n",
       "      <td>Gravity Falls</td>\n",
       "      <td>2012</td>\n",
       "      <td>10</td>\n",
       "    </tr>\n",
       "    <tr>\n",
       "      <th>4</th>\n",
       "      <td>Get Out</td>\n",
       "      <td>2017</td>\n",
       "      <td>9</td>\n",
       "      <td>The Sopranos</td>\n",
       "      <td>1999</td>\n",
       "      <td>9</td>\n",
       "      <td>Rick and Morty</td>\n",
       "      <td>2013</td>\n",
       "      <td>10</td>\n",
       "    </tr>\n",
       "  </tbody>\n",
       "</table>\n",
       "</div>"
      ],
      "text/plain": [
       "           name  date  score              name  date  score  \\\n",
       "0    Hereditary  2018     10        The Office  2005     10   \n",
       "1     The Witch  2015      9   Game of Thrones  2011      7   \n",
       "2     Midsommar  2019      8  The Walking Dead  2010      5   \n",
       "3  Ender`s Game  2013     10           Friends  1994     10   \n",
       "4       Get Out  2017      9      The Sopranos  1999      9   \n",
       "\n",
       "                    name  date  score  \n",
       "0  SpongeBob SquarePants  1999      8  \n",
       "1         Adventure Time  2010      8  \n",
       "2   Over the Garden Wall  2014     10  \n",
       "3          Gravity Falls  2012     10  \n",
       "4         Rick and Morty  2013     10  "
      ]
     },
     "execution_count": 30,
     "metadata": {},
     "output_type": "execute_result"
    }
   ],
   "source": [
    "df_contatenar = pd.concat([movies, series, animations], axis=1)\n",
    "df_contatenar"
   ]
  }
 ],
 "metadata": {
  "kernelspec": {
   "display_name": "Python 3 (ipykernel)",
   "language": "python",
   "name": "python3"
  },
  "language_info": {
   "codemirror_mode": {
    "name": "ipython",
    "version": 3
   },
   "file_extension": ".py",
   "mimetype": "text/x-python",
   "name": "python",
   "nbconvert_exporter": "python",
   "pygments_lexer": "ipython3",
   "version": "3.12.4"
  }
 },
 "nbformat": 4,
 "nbformat_minor": 5
}
