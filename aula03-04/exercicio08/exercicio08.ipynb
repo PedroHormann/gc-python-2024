{
 "cells": [
  {
   "cell_type": "markdown",
   "id": "2f5f0b84-c2a7-4c38-8f56-fcd9fa6b3bfc",
   "metadata": {},
   "source": [
    "#Exercício 08 |  MiniBoss– Coop:"
   ]
  },
  {
   "cell_type": "markdown",
   "id": "5e98e71a-af84-4af0-85c7-ba34f69a2976",
   "metadata": {},
   "source": [
    "***Leia o arquivo do datase em csv;***\n",
    "\n",
    "***Visualize as primeiras linhas do dataset;***\n",
    "\n",
    "***Visualize informações básicas do dataset, como: nomes das colunas, número de linhas, número de campos nulos, etc;***\n",
    "\n",
    "***Visualize informações sobre os campos numéricos do dataset, como: média, valor minimo e maximo, etc;***\n",
    "\n",
    "***Remova informações nulas;***\n",
    "\n",
    "***Verifique se existem dados duplicados;***\n",
    "\n",
    "***Remova informações duplicadas;***\n",
    "\n",
    "***Remova as colunas 'listed_in' e 'duration'.***"
   ]
  },
  {
   "cell_type": "code",
   "execution_count": null,
   "id": "c3efce17-ea41-4fa1-9def-a818718f4e64",
   "metadata": {},
   "outputs": [],
   "source": []
  }
 ],
 "metadata": {
  "kernelspec": {
   "display_name": "Python 3 (ipykernel)",
   "language": "python",
   "name": "python3"
  },
  "language_info": {
   "codemirror_mode": {
    "name": "ipython",
    "version": 3
   },
   "file_extension": ".py",
   "mimetype": "text/x-python",
   "name": "python",
   "nbconvert_exporter": "python",
   "pygments_lexer": "ipython3",
   "version": "3.12.4"
  }
 },
 "nbformat": 4,
 "nbformat_minor": 5
}
