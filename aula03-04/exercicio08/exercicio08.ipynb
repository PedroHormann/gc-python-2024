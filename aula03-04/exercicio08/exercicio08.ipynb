{
 "cells": [
  {
   "cell_type": "markdown",
   "id": "2f5f0b84-c2a7-4c38-8f56-fcd9fa6b3bfc",
   "metadata": {},
   "source": [
    "#Exercício 08 |  MiniBoss– Coop:"
   ]
  },
  {
   "cell_type": "markdown",
   "id": "5e98e71a-af84-4af0-85c7-ba34f69a2976",
   "metadata": {},
   "source": [
    "***Leia o arquivo do datase em csv;***\n",
    "\n",
    "***Visualize as primeiras linhas do dataset;***\n",
    "\n",
    "***Visualize informações básicas do dataset, como: nomes das colunas, número de linhas, número de campos nulos, etc;***\n",
    "\n",
    "***Visualize informações sobre os campos numéricos do dataset, como: média, valor minimo e maximo, etc;***\n",
    "\n",
    "***Remova informações nulas;***\n",
    "\n",
    "***Verifique se existem dados duplicados;***\n",
    "\n",
    "***Remova informações duplicadas;***\n",
    "\n",
    "***Remova as colunas 'listed_in' e 'duration'.***"
   ]
  },
  {
   "cell_type": "code",
   "execution_count": 2,
   "id": "c3efce17-ea41-4fa1-9def-a818718f4e64",
   "metadata": {},
   "outputs": [],
   "source": [
    "import pandas as pd"
   ]
  },
  {
   "cell_type": "code",
   "execution_count": 3,
   "id": "2fb41276-5182-4cea-a4fe-bb48a0235c8a",
   "metadata": {},
   "outputs": [],
   "source": [
    "# Lê o arquivo csv\n",
    "df = pd.read_csv('netflix.csv')"
   ]
  },
  {
   "cell_type": "code",
   "execution_count": 4,
   "id": "71dd77ef-8d55-45d6-8c45-c12cbdf4e02d",
   "metadata": {},
   "outputs": [
    {
     "name": "stdout",
     "output_type": "stream",
     "text": [
      "  show_id     type                  title         director  \\\n",
      "0      s1    Movie   Dick Johnson Is Dead  Kirsten Johnson   \n",
      "1      s2  TV Show          Blood & Water              NaN   \n",
      "2      s3  TV Show              Ganglands  Julien Leclercq   \n",
      "3      s4  TV Show  Jailbirds New Orleans              NaN   \n",
      "4      s5  TV Show           Kota Factory              NaN   \n",
      "\n",
      "                                                cast        country  \\\n",
      "0                                                NaN  United States   \n",
      "1  Ama Qamata, Khosi Ngema, Gail Mabalane, Thaban...   South Africa   \n",
      "2  Sami Bouajila, Tracy Gotoas, Samuel Jouy, Nabi...            NaN   \n",
      "3                                                NaN            NaN   \n",
      "4  Mayur More, Jitendra Kumar, Ranjan Raj, Alam K...          India   \n",
      "\n",
      "           date_added  release_year rating   duration  \\\n",
      "0  September 25, 2021          2020  PG-13     90 min   \n",
      "1  September 24, 2021          2021  TV-MA  2 Seasons   \n",
      "2  September 24, 2021          2021  TV-MA   1 Season   \n",
      "3  September 24, 2021          2021  TV-MA   1 Season   \n",
      "4  September 24, 2021          2021  TV-MA  2 Seasons   \n",
      "\n",
      "                                           listed_in  \\\n",
      "0                                      Documentaries   \n",
      "1    International TV Shows, TV Dramas, TV Mysteries   \n",
      "2  Crime TV Shows, International TV Shows, TV Act...   \n",
      "3                             Docuseries, Reality TV   \n",
      "4  International TV Shows, Romantic TV Shows, TV ...   \n",
      "\n",
      "                                         description  \n",
      "0  As her father nears the end of his life, filmm...  \n",
      "1  After crossing paths at a party, a Cape Town t...  \n",
      "2  To protect his family from a powerful drug lor...  \n",
      "3  Feuds, flirtations and toilet talk go down amo...  \n",
      "4  In a city of coaching centers known to train I...  \n"
     ]
    }
   ],
   "source": [
    "# Visualiza as primeiras linhas do dataset\n",
    "print(df.head())"
   ]
  },
  {
   "cell_type": "code",
   "execution_count": 5,
   "id": "d49f3a80-2517-4982-b67e-34fa1b5e06da",
   "metadata": {},
   "outputs": [
    {
     "name": "stdout",
     "output_type": "stream",
     "text": [
      "Index(['show_id', 'type', 'title', 'director', 'cast', 'country', 'date_added',\n",
      "       'release_year', 'rating', 'duration', 'listed_in', 'description'],\n",
      "      dtype='object')\n"
     ]
    }
   ],
   "source": [
    "# Visualiza informações basicas: Nome das colunas\n",
    "print(df.columns)"
   ]
  },
  {
   "cell_type": "code",
   "execution_count": 6,
   "id": "51da9489-22bf-48b9-97ef-f27cbd7a7c60",
   "metadata": {},
   "outputs": [
    {
     "name": "stdout",
     "output_type": "stream",
     "text": [
      "(8817, 12)\n"
     ]
    }
   ],
   "source": [
    "# Visualiza informações basicas: Numero de linhas e colunas\n",
    "print(df.shape)"
   ]
  },
  {
   "cell_type": "code",
   "execution_count": 7,
   "id": "195c6f4b-9111-421f-b242-8869cd392967",
   "metadata": {},
   "outputs": [
    {
     "name": "stdout",
     "output_type": "stream",
     "text": [
      "show_id            0\n",
      "type               0\n",
      "title              0\n",
      "director        2638\n",
      "cast             825\n",
      "country          832\n",
      "date_added        10\n",
      "release_year       0\n",
      "rating             4\n",
      "duration           3\n",
      "listed_in          0\n",
      "description        0\n",
      "dtype: int64\n"
     ]
    }
   ],
   "source": [
    "# Visualiza informações basicas: Número de campos nulos em cada coluna\n",
    "print(df.isnull().sum())"
   ]
  },
  {
   "cell_type": "code",
   "execution_count": 8,
   "id": "d6dcedd4-0694-4ef7-9b4e-eb27c43e93e3",
   "metadata": {},
   "outputs": [
    {
     "name": "stdout",
     "output_type": "stream",
     "text": [
      "<class 'pandas.core.frame.DataFrame'>\n",
      "RangeIndex: 8817 entries, 0 to 8816\n",
      "Data columns (total 12 columns):\n",
      " #   Column        Non-Null Count  Dtype \n",
      "---  ------        --------------  ----- \n",
      " 0   show_id       8817 non-null   object\n",
      " 1   type          8817 non-null   object\n",
      " 2   title         8817 non-null   object\n",
      " 3   director      6179 non-null   object\n",
      " 4   cast          7992 non-null   object\n",
      " 5   country       7985 non-null   object\n",
      " 6   date_added    8807 non-null   object\n",
      " 7   release_year  8817 non-null   int64 \n",
      " 8   rating        8813 non-null   object\n",
      " 9   duration      8814 non-null   object\n",
      " 10  listed_in     8817 non-null   object\n",
      " 11  description   8817 non-null   object\n",
      "dtypes: int64(1), object(11)\n",
      "memory usage: 826.7+ KB\n",
      "None\n"
     ]
    }
   ],
   "source": [
    "# Visualiza informações basicas: Informações gerais do dataset\n",
    "print(df.info())"
   ]
  },
  {
   "cell_type": "code",
   "execution_count": 9,
   "id": "57929a1f-af88-4902-b149-9c783fdd9622",
   "metadata": {},
   "outputs": [
    {
     "name": "stdout",
     "output_type": "stream",
     "text": [
      "       release_year\n",
      "count   8817.000000\n",
      "mean    2014.180333\n",
      "std        8.817990\n",
      "min     1925.000000\n",
      "25%     2013.000000\n",
      "50%     2017.000000\n",
      "75%     2019.000000\n",
      "max     2021.000000\n"
     ]
    }
   ],
   "source": [
    "# Visualiza estatísticas descritivas sobre os campos numéricos\n",
    "print(df.describe())"
   ]
  },
  {
   "cell_type": "code",
   "execution_count": 12,
   "id": "63cf5617-ead5-42f7-9339-8ec7b708965a",
   "metadata": {},
   "outputs": [
    {
     "name": "stdout",
     "output_type": "stream",
     "text": [
      "   show_id     type                          title             director  \\\n",
      "7       s8    Movie                        Sankofa         Haile Gerima   \n",
      "8       s9  TV Show  The Great British Baking Show      Andy Devonshire   \n",
      "9      s10    Movie                   The Starling       Theodore Melfi   \n",
      "12     s13    Movie                   Je Suis Karl  Christian Schwochow   \n",
      "24     s25    Movie                          Jeans           S. Shankar   \n",
      "\n",
      "                                                 cast  \\\n",
      "7   Kofi Ghanaba, Oyafunmike Ogunlano, Alexandra D...   \n",
      "8   Mel Giedroyc, Sue Perkins, Mary Berry, Paul Ho...   \n",
      "9   Melissa McCarthy, Chris O'Dowd, Kevin Kline, T...   \n",
      "12  Luna Wedler, Jannis Niewöhner, Milan Peschel, ...   \n",
      "24  Prashanth, Aishwarya Rai Bachchan, Sri Lakshmi...   \n",
      "\n",
      "                                              country          date_added  \\\n",
      "7   United States, Ghana, Burkina Faso, United Kin...  September 24, 2021   \n",
      "8                                      United Kingdom  September 24, 2021   \n",
      "9                                       United States  September 24, 2021   \n",
      "12                            Germany, Czech Republic  September 23, 2021   \n",
      "24                                              India  September 21, 2021   \n",
      "\n",
      "    release_year rating   duration  \\\n",
      "7           1993  TV-MA    125 min   \n",
      "8           2021  TV-14  9 Seasons   \n",
      "9           2021  PG-13    104 min   \n",
      "12          2021  TV-MA    127 min   \n",
      "24          1998  TV-14    166 min   \n",
      "\n",
      "                                           listed_in  \\\n",
      "7   Dramas, Independent Movies, International Movies   \n",
      "8                       British TV Shows, Reality TV   \n",
      "9                                   Comedies, Dramas   \n",
      "12                      Dramas, International Movies   \n",
      "24   Comedies, International Movies, Romantic Movies   \n",
      "\n",
      "                                          description  \n",
      "7   On a photo shoot in Ghana, an American model s...  \n",
      "8   A talented batch of amateur bakers face off in...  \n",
      "9   A woman adjusting to life after a loss contend...  \n",
      "12  After most of her family is murdered in a terr...  \n",
      "24  When the father of the man she loves insists t...  \n"
     ]
    }
   ],
   "source": [
    "# Remove informações nulas\n",
    "df_cleaned = df.dropna()\n",
    "print(df_cleaned.head())"
   ]
  },
  {
   "cell_type": "markdown",
   "id": "b6468f87-3351-45e9-bda8-35087bf74a73",
   "metadata": {},
   "source": [
    "**NESTOR**"
   ]
  },
  {
   "cell_type": "code",
   "execution_count": null,
   "id": "70d6db4b-fb7d-46cd-94c1-408587de5f9b",
   "metadata": {},
   "outputs": [],
   "source": []
  },
  {
   "cell_type": "code",
   "execution_count": null,
   "id": "4a84bcdb-25d0-48f4-acf5-87559a674a3f",
   "metadata": {},
   "outputs": [],
   "source": []
  }
 ],
 "metadata": {
  "kernelspec": {
   "display_name": "Python 3 (ipykernel)",
   "language": "python",
   "name": "python3"
  },
  "language_info": {
   "codemirror_mode": {
    "name": "ipython",
    "version": 3
   },
   "file_extension": ".py",
   "mimetype": "text/x-python",
   "name": "python",
   "nbconvert_exporter": "python",
   "pygments_lexer": "ipython3",
   "version": "3.12.4"
  }
 },
 "nbformat": 4,
 "nbformat_minor": 5
}
