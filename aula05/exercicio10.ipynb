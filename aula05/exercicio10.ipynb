{
 "cells": [
  {
   "cell_type": "markdown",
   "id": "66b7bd29-d73b-49f8-bc83-9a2092fe7ae0",
   "metadata": {},
   "source": [
    "# Exercicio feito junto ao Luiz Flávio e Gabriel R.\n",
    "# Questões no repósitorio do Luiz: LuizTech01"
   ]
  },
  {
   "cell_type": "markdown",
   "id": "7b121c7d-4f8c-4e7e-b5b5-755045861a67",
   "metadata": {},
   "source": [
    "---"
   ]
  },
  {
   "cell_type": "code",
   "execution_count": 1,
   "id": "aa21c702-4d74-40d6-b618-05d4220a3433",
   "metadata": {},
   "outputs": [],
   "source": [
    "import pandas as pd"
   ]
  },
  {
   "cell_type": "markdown",
   "id": "7dc2d492-ebe5-4b97-9343-27bf8bbad0d4",
   "metadata": {},
   "source": [
    "#### Explique como a relação entre duas tabelas com chaves primárias e estrangeiras pode ser representada com dataframes no Pandas."
   ]
  },
  {
   "cell_type": "markdown",
   "id": "e1cd08d4-0c6c-4e59-bcb9-0f228932a2fb",
   "metadata": {},
   "source": [
    "Em Pandas, a relação entre duas tabelas que têm uma chave primária (PK) e uma chave estrangeira (FK) pode ser representada através de um join (união) entre dois dataframes."
   ]
  },
  {
   "cell_type": "markdown",
   "id": "4f7074ba-6d6d-42fd-b9a7-be8db1a95453",
   "metadata": {},
   "source": [
    "#### Em um dataframe do Pandas, como você pode identificar uma coluna que atua como uma chave primária?"
   ]
  },
  {
   "cell_type": "markdown",
   "id": "04fb3446-d767-47a3-99a6-8924b7c8df3e",
   "metadata": {},
   "source": [
    "É possivel identificar uma coluna que atue como uma chave primaria em pandas passando colchetes, pelo indice usando iloc, exemplo:\n",
    "\n",
    "DataFrame de exemplo:"
   ]
  },
  {
   "cell_type": "code",
   "execution_count": 2,
   "id": "da2d17de-6d6d-4597-8a94-8e12a6481ee3",
   "metadata": {},
   "outputs": [
    {
     "name": "stdout",
     "output_type": "stream",
     "text": [
      "   a\n",
      "0  2\n",
      "1  3\n"
     ]
    }
   ],
   "source": [
    "df = pd.DataFrame({\n",
    "    'a': [2, 3],\n",
    "    'b': [3, 4],\n",
    "    'c': [4, 5]\n",
    "})\n",
    "\n",
    "df1 = df[['a']]\n",
    "\n",
    "print(df1)"
   ]
  },
  {
   "cell_type": "markdown",
   "id": "54fb987b-3b78-40a1-ba9d-8ee1d79ea167",
   "metadata": {},
   "source": [
    "#### O que são chaves estrangeiras e como elas se relacionam com as chaves primárias?"
   ]
  },
  {
   "cell_type": "markdown",
   "id": "d650790e-015e-4c62-abad-183510d713cb",
   "metadata": {},
   "source": [
    "Chaves estrangeiras são colunas que estão presentes em outras tabelas mas que é usada para relacionar outras tabelas, Chaves primárias identificam registros únicos em uma tabela, enquanto chaves estrangeiras referenciam essas chaves em outras tabelas, criando relacionamentos. Elas garantem a integridade referencial, evitando dados \"orfãos\". Essas relações são essenciais para a estruturação e consulta eficaz de dados em bancos relacionais."
   ]
  },
  {
   "cell_type": "markdown",
   "id": "44297531-2a60-444b-b90e-c6f4bffc62ce",
   "metadata": {},
   "source": [
    "#### O que é uma chave primária em um banco de dados? Por que é importante que cada tabela tenha uma chave primária?"
   ]
  },
  {
   "cell_type": "markdown",
   "id": "9cc7d843-9864-4193-ada6-dbee716822e0",
   "metadata": {},
   "source": [
    "A chave primaria é usada no banco de dados para referir cada linha de forma única e sua importancia se deve ao fato de que ela é necessária para definir uma tabela de banco de dados"
   ]
  },
  {
   "cell_type": "markdown",
   "id": "fa146c2a-24f4-4db7-b674-392c740edf78",
   "metadata": {},
   "source": [
    "#### Qual a diferença entre os métodos .merge() e .join() no Pandas?"
   ]
  },
  {
   "cell_type": "markdown",
   "id": "603a9332-a8cf-44e5-ab67-4f24bc01750c",
   "metadata": {},
   "source": [
    "merge():\n",
    "É usado principalmente para combinar dois dataframes com base em uma ou mais colunas comuns.\n",
    "\n",
    "join():\n",
    "É usado para combinar dois dataframes com base no índice (index) ou colunas específicas."
   ]
  },
  {
   "cell_type": "markdown",
   "id": "7c605c06-a955-4a07-8463-3e7df76932d0",
   "metadata": {},
   "source": [
    "#### Quando você usaria um inner join ao invés de um left join? Explique com exemplos."
   ]
  },
  {
   "cell_type": "markdown",
   "id": "da34da06-3905-4af4-8dac-b251f40fe0f5",
   "metadata": {},
   "source": [
    "inner join retorna apenas as linhas que têm correspondências em ambas as tabelas.\n",
    "left join retorna todas as linhas da tabela à esquerda, junto com as correspondências da tabela à direita. Se não houver correspondência na tabela da direita, o resultado será NaN para essas colunas."
   ]
  },
  {
   "cell_type": "code",
   "execution_count": 5,
   "id": "c9c9c32b-2c75-4c75-badc-f822b2c3df87",
   "metadata": {},
   "outputs": [],
   "source": [
    "clientes = pd.DataFrame({\n",
    "    'cliente_id': [1, 2, 3, 4],\n",
    "    'nome': ['João', 'Maria', 'Pedro', 'Ana'],\n",
    "    'cidade': ['São Paulo', 'Rio de Janeiro', 'Belo Horizonte', 'Curitiba']\n",
    "})\n",
    "\n",
    "pedidos = pd.DataFrame({\n",
    "    'cliente_id': [1, 2, 2, 5],\n",
    "    'produto': ['Camiseta', 'Calça', 'Tênis', 'Livro'],\n",
    "    'valor': [50, 100, 80, 30]\n",
    "})"
   ]
  },
  {
   "cell_type": "code",
   "execution_count": 6,
   "id": "5aa57ad9-2617-4ac2-8aa0-552fcd41abb2",
   "metadata": {},
   "outputs": [
    {
     "name": "stdout",
     "output_type": "stream",
     "text": [
      "   cliente_id   nome          cidade   produto  valor\n",
      "0           1   João       São Paulo  Camiseta     50\n",
      "1           2  Maria  Rio de Janeiro     Calça    100\n",
      "2           2  Maria  Rio de Janeiro     Tênis     80\n"
     ]
    }
   ],
   "source": [
    "df_merged_inner = pd.merge(clientes, pedidos, on='cliente_id', how='inner')\n",
    "print(df_merged_inner)"
   ]
  },
  {
   "cell_type": "code",
   "execution_count": 7,
   "id": "60c5d604-d130-4da0-9813-276b9b83cfa5",
   "metadata": {},
   "outputs": [
    {
     "name": "stdout",
     "output_type": "stream",
     "text": [
      "   cliente_id   nome          cidade   produto  valor\n",
      "0           1   João       São Paulo  Camiseta   50.0\n",
      "1           2  Maria  Rio de Janeiro     Calça  100.0\n",
      "2           2  Maria  Rio de Janeiro     Tênis   80.0\n",
      "3           3  Pedro  Belo Horizonte       NaN    NaN\n",
      "4           4    Ana        Curitiba       NaN    NaN\n"
     ]
    }
   ],
   "source": [
    "df_merged_left = pd.merge(clientes, pedidos, on='cliente_id', how='left')\n",
    "print(df_merged_left)"
   ]
  },
  {
   "cell_type": "markdown",
   "id": "77b77708-acb6-420a-ac89-439e75d9d0f4",
   "metadata": {},
   "source": [
    "#### Em que situação um merge resultaria em valores faltantes? Como podemos lidar com esses valores?"
   ]
  },
  {
   "cell_type": "markdown",
   "id": "23d6c086-a8ee-488e-89a7-161fb1d2f26d",
   "metadata": {},
   "source": [
    "Um merge pode resultar em valores faltantes (NaN) quando fazemos uma junção que inclui todas as linhas de uma tabela, mas nem todas as linhas têm correspondências na outra tabela. Isso acontece, por exemplo, em um left join, onde mantemos todas as linhas da tabela da esquerda e, se não houver correspondência na tabela da direita, os valores das colunas da direita serão preenchidos como NaN."
   ]
  },
  {
   "cell_type": "markdown",
   "id": "8857de3b-4947-4011-94b4-cd80132c2cc0",
   "metadata": {},
   "source": [
    "#### Quais são as maneiras de tratar dados faltantes no Pandas? Explique os métodos .dropna() e .fillna()."
   ]
  },
  {
   "cell_type": "markdown",
   "id": "292fd93f-5fd3-438e-93f7-33979bc1b871",
   "metadata": {},
   "source": [
    "No Pandas, existem várias maneiras de tratar dados faltantes. As duas mais comuns são os métodos .dropna() e .fillna():\n",
    "\n",
    ".dropna(): é usado para remover linhas ou colunas que contenham valores faltantes (NaN).\n",
    "\n",
    ".fillna(): Esse método é usado para substituir os valores faltantes por um valor específico."
   ]
  }
 ],
 "metadata": {
  "kernelspec": {
   "display_name": "Python 3 (ipykernel)",
   "language": "python",
   "name": "python3"
  },
  "language_info": {
   "codemirror_mode": {
    "name": "ipython",
    "version": 3
   },
   "file_extension": ".py",
   "mimetype": "text/x-python",
   "name": "python",
   "nbconvert_exporter": "python",
   "pygments_lexer": "ipython3",
   "version": "3.12.4"
  }
 },
 "nbformat": 4,
 "nbformat_minor": 5
}
