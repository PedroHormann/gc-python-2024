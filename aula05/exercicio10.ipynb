{
 "cells": [
  {
   "cell_type": "markdown",
   "id": "66b7bd29-d73b-49f8-bc83-9a2092fe7ae0",
   "metadata": {},
   "source": [
    "# Exercicio feito junto ao Luiz Flávio e Gabriel R.\n",
    "# Questões no repósitorio do Luiz: LuizTech01"
   ]
  }
 ],
 "metadata": {
  "kernelspec": {
   "display_name": "Python 3 (ipykernel)",
   "language": "python",
   "name": "python3"
  },
  "language_info": {
   "codemirror_mode": {
    "name": "ipython",
    "version": 3
   },
   "file_extension": ".py",
   "mimetype": "text/x-python",
   "name": "python",
   "nbconvert_exporter": "python",
   "pygments_lexer": "ipython3",
   "version": "3.12.4"
  }
 },
 "nbformat": 4,
 "nbformat_minor": 5
}
