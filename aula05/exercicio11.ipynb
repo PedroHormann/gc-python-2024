{
 "cells": [
  {
   "cell_type": "markdown",
   "id": "451ecd4a-c3c7-47f0-a30d-af12cadef4a5",
   "metadata": {},
   "source": [
    "# Exercicio feito junto ao Luiz Flávio e Gabriel R.\n",
    "# Questões no repósitorio do Luiz: LuizTech01"
   ]
  },
  {
   "cell_type": "markdown",
   "id": "b7d7b22d-ea86-4374-bd46-48a41a82277d",
   "metadata": {},
   "source": [
    "---"
   ]
  },
  {
   "cell_type": "code",
   "execution_count": 1,
   "id": "8f2ed6ba-65eb-4ccc-92c9-d2b8bd2622de",
   "metadata": {},
   "outputs": [],
   "source": [
    "import pandas as pd\n",
    "import numpy as np"
   ]
  },
  {
   "cell_type": "markdown",
   "id": "930c688d-37fd-4d14-a8f9-8cf1c6280416",
   "metadata": {},
   "source": [
    "***Crie e exiba um dataframe musicas com informações sobre suas músicas favoritas ( 5 músicas ):***\n",
    "* id_musica– identificador da música.\n",
    "* nome_musica–nome da música.\n",
    "* artista– nome do artista ou banda\n",
    "* genero–gênero musical (Pop, Rock, Jazz, etc.)\n",
    "* duracao–duração da música em minutos."
   ]
  },
  {
   "cell_type": "code",
   "execution_count": 2,
   "id": "1c9f7a4e-3d5d-4fc1-91de-51cc8b7eac60",
   "metadata": {},
   "outputs": [
    {
     "data": {
      "text/html": [
       "<div>\n",
       "<style scoped>\n",
       "    .dataframe tbody tr th:only-of-type {\n",
       "        vertical-align: middle;\n",
       "    }\n",
       "\n",
       "    .dataframe tbody tr th {\n",
       "        vertical-align: top;\n",
       "    }\n",
       "\n",
       "    .dataframe thead th {\n",
       "        text-align: right;\n",
       "    }\n",
       "</style>\n",
       "<table border=\"1\" class=\"dataframe\">\n",
       "  <thead>\n",
       "    <tr style=\"text-align: right;\">\n",
       "      <th></th>\n",
       "      <th>id_musica</th>\n",
       "      <th>nome_musica</th>\n",
       "      <th>artista</th>\n",
       "      <th>genero</th>\n",
       "      <th>duracao</th>\n",
       "    </tr>\n",
       "  </thead>\n",
       "  <tbody>\n",
       "    <tr>\n",
       "      <th>0</th>\n",
       "      <td>122.0</td>\n",
       "      <td>Olhos de tigre</td>\n",
       "      <td>Djonga</td>\n",
       "      <td>Rap</td>\n",
       "      <td>4:44</td>\n",
       "    </tr>\n",
       "    <tr>\n",
       "      <th>1</th>\n",
       "      <td>103.0</td>\n",
       "      <td>Ate jesus chorou</td>\n",
       "      <td>Racionai`s MC`s</td>\n",
       "      <td>Rap</td>\n",
       "      <td>7:52</td>\n",
       "    </tr>\n",
       "    <tr>\n",
       "      <th>2</th>\n",
       "      <td>132.0</td>\n",
       "      <td>Corporacao capsula</td>\n",
       "      <td>Major RD</td>\n",
       "      <td>Rock</td>\n",
       "      <td>2:12</td>\n",
       "    </tr>\n",
       "    <tr>\n",
       "      <th>3</th>\n",
       "      <td>14.0</td>\n",
       "      <td>Negro Drama</td>\n",
       "      <td>Racionai`s MC`s</td>\n",
       "      <td>Rap</td>\n",
       "      <td>5:36</td>\n",
       "    </tr>\n",
       "    <tr>\n",
       "      <th>4</th>\n",
       "      <td>22.0</td>\n",
       "      <td>UFA</td>\n",
       "      <td>Djonga</td>\n",
       "      <td>Rap</td>\n",
       "      <td>5:55</td>\n",
       "    </tr>\n",
       "    <tr>\n",
       "      <th>5</th>\n",
       "      <td>NaN</td>\n",
       "      <td>None</td>\n",
       "      <td>None</td>\n",
       "      <td>None</td>\n",
       "      <td>None</td>\n",
       "    </tr>\n",
       "  </tbody>\n",
       "</table>\n",
       "</div>"
      ],
      "text/plain": [
       "   id_musica         nome_musica          artista genero duracao\n",
       "0      122.0      Olhos de tigre           Djonga    Rap    4:44\n",
       "1      103.0    Ate jesus chorou  Racionai`s MC`s    Rap    7:52\n",
       "2      132.0  Corporacao capsula         Major RD   Rock    2:12\n",
       "3       14.0         Negro Drama  Racionai`s MC`s    Rap    5:36\n",
       "4       22.0                 UFA           Djonga    Rap    5:55\n",
       "5        NaN                None             None   None    None"
      ]
     },
     "execution_count": 2,
     "metadata": {},
     "output_type": "execute_result"
    }
   ],
   "source": [
    "music = {\n",
    "    'id_musica': [122, 103, 132, 14, 22, None],\n",
    "    'nome_musica': ['Olhos de tigre', 'Ate jesus chorou', 'Corporacao capsula', 'Negro Drama', 'UFA', None],\n",
    "    'artista': ['Djonga', 'Racionai`s MC`s', 'Major RD', 'Racionai`s MC`s', 'Djonga', None],\n",
    "    'genero': ['Rap', 'Rap', 'Rock', 'Rap', 'Rap', None],\n",
    "    'duracao': ['4:44', '7:52', '2:12', '5:36','5:55', None]\n",
    "}\n",
    "\n",
    "df_music = pd.DataFrame(music)\n",
    "df_music"
   ]
  },
  {
   "cell_type": "markdown",
   "id": "12efdffb-78ff-45a4-9664-01e3966edea9",
   "metadata": {},
   "source": [
    "***Crie e exiba um dataframe reproducoes dessas musicas:***\n",
    "* id_reproducao– identificador único da reprodução.\n",
    "* id_musica– identificador da música reproduzida.\n",
    "* data_reproducao– data da reprodução.\n",
    "* duracao_reproducao– duração da reprodução (caso o usuário não ouça a música completa)."
   ]
  },
  {
   "cell_type": "code",
   "execution_count": 3,
   "id": "2b38ef3d-2ec2-4a06-9044-3b30a5d213c5",
   "metadata": {},
   "outputs": [
    {
     "data": {
      "text/html": [
       "<div>\n",
       "<style scoped>\n",
       "    .dataframe tbody tr th:only-of-type {\n",
       "        vertical-align: middle;\n",
       "    }\n",
       "\n",
       "    .dataframe tbody tr th {\n",
       "        vertical-align: top;\n",
       "    }\n",
       "\n",
       "    .dataframe thead th {\n",
       "        text-align: right;\n",
       "    }\n",
       "</style>\n",
       "<table border=\"1\" class=\"dataframe\">\n",
       "  <thead>\n",
       "    <tr style=\"text-align: right;\">\n",
       "      <th></th>\n",
       "      <th>id_musica</th>\n",
       "      <th>id_reproducao</th>\n",
       "      <th>data_reproducao</th>\n",
       "      <th>duracao_reproducao</th>\n",
       "    </tr>\n",
       "  </thead>\n",
       "  <tbody>\n",
       "    <tr>\n",
       "      <th>0</th>\n",
       "      <td>122.0</td>\n",
       "      <td>1.0</td>\n",
       "      <td>2024-09-26</td>\n",
       "      <td>300.0</td>\n",
       "    </tr>\n",
       "    <tr>\n",
       "      <th>1</th>\n",
       "      <td>103.0</td>\n",
       "      <td>2.0</td>\n",
       "      <td>2024-09-27</td>\n",
       "      <td>180.0</td>\n",
       "    </tr>\n",
       "    <tr>\n",
       "      <th>2</th>\n",
       "      <td>132.0</td>\n",
       "      <td>3.0</td>\n",
       "      <td>2024-09-28</td>\n",
       "      <td>120.0</td>\n",
       "    </tr>\n",
       "    <tr>\n",
       "      <th>3</th>\n",
       "      <td>14.0</td>\n",
       "      <td>4.0</td>\n",
       "      <td>2024-09-29</td>\n",
       "      <td>240.0</td>\n",
       "    </tr>\n",
       "    <tr>\n",
       "      <th>4</th>\n",
       "      <td>22.0</td>\n",
       "      <td>5.0</td>\n",
       "      <td>2024-09-30</td>\n",
       "      <td>280.0</td>\n",
       "    </tr>\n",
       "    <tr>\n",
       "      <th>5</th>\n",
       "      <td>NaN</td>\n",
       "      <td>NaN</td>\n",
       "      <td>None</td>\n",
       "      <td>NaN</td>\n",
       "    </tr>\n",
       "  </tbody>\n",
       "</table>\n",
       "</div>"
      ],
      "text/plain": [
       "   id_musica  id_reproducao data_reproducao  duracao_reproducao\n",
       "0      122.0            1.0      2024-09-26               300.0\n",
       "1      103.0            2.0      2024-09-27               180.0\n",
       "2      132.0            3.0      2024-09-28               120.0\n",
       "3       14.0            4.0      2024-09-29               240.0\n",
       "4       22.0            5.0      2024-09-30               280.0\n",
       "5        NaN            NaN            None                 NaN"
      ]
     },
     "execution_count": 3,
     "metadata": {},
     "output_type": "execute_result"
    }
   ],
   "source": [
    "reproducoes = {\n",
    "    'id_musica': [122, 103, 132, 14, 22, None],\n",
    "    'id_reproducao': [1, 2, 3, 4, 5, None],\n",
    "    'data_reproducao': ['2024-09-26', '2024-09-27', '2024-09-28', '2024-09-29', '2024-09-30', None],\n",
    "    'duracao_reproducao': [300, 180, 120, 240, 280, None]\n",
    "}\n",
    "\n",
    "df_reproducao = pd.DataFrame(reproducoes)\n",
    "df_reproducao"
   ]
  },
  {
   "cell_type": "markdown",
   "id": "6212ef24-d520-4b08-942d-2ab7b5b9bee9",
   "metadata": {},
   "source": [
    "***Simule 5 reproduções de diferentes músicas, associando o id_musica com a data e a duração reproduzida.***"
   ]
  },
  {
   "cell_type": "code",
   "execution_count": 4,
   "id": "0cde8c5f-694b-49e4-9df7-131f7a8367ad",
   "metadata": {},
   "outputs": [
    {
     "data": {
      "text/html": [
       "<div>\n",
       "<style scoped>\n",
       "    .dataframe tbody tr th:only-of-type {\n",
       "        vertical-align: middle;\n",
       "    }\n",
       "\n",
       "    .dataframe tbody tr th {\n",
       "        vertical-align: top;\n",
       "    }\n",
       "\n",
       "    .dataframe thead th {\n",
       "        text-align: right;\n",
       "    }\n",
       "</style>\n",
       "<table border=\"1\" class=\"dataframe\">\n",
       "  <thead>\n",
       "    <tr style=\"text-align: right;\">\n",
       "      <th></th>\n",
       "      <th>id_musica</th>\n",
       "      <th>id_reproducao</th>\n",
       "      <th>data_reproducao</th>\n",
       "      <th>duracao_reproducao</th>\n",
       "      <th>id_musica</th>\n",
       "      <th>nome_musica</th>\n",
       "      <th>artista</th>\n",
       "      <th>genero</th>\n",
       "      <th>duracao</th>\n",
       "    </tr>\n",
       "  </thead>\n",
       "  <tbody>\n",
       "    <tr>\n",
       "      <th>0</th>\n",
       "      <td>122.0</td>\n",
       "      <td>1.0</td>\n",
       "      <td>2024-09-26</td>\n",
       "      <td>300.0</td>\n",
       "      <td>122.0</td>\n",
       "      <td>Olhos de tigre</td>\n",
       "      <td>Djonga</td>\n",
       "      <td>Rap</td>\n",
       "      <td>4:44</td>\n",
       "    </tr>\n",
       "    <tr>\n",
       "      <th>1</th>\n",
       "      <td>103.0</td>\n",
       "      <td>2.0</td>\n",
       "      <td>2024-09-27</td>\n",
       "      <td>180.0</td>\n",
       "      <td>103.0</td>\n",
       "      <td>Ate jesus chorou</td>\n",
       "      <td>Racionai`s MC`s</td>\n",
       "      <td>Rap</td>\n",
       "      <td>7:52</td>\n",
       "    </tr>\n",
       "    <tr>\n",
       "      <th>2</th>\n",
       "      <td>132.0</td>\n",
       "      <td>3.0</td>\n",
       "      <td>2024-09-28</td>\n",
       "      <td>120.0</td>\n",
       "      <td>132.0</td>\n",
       "      <td>Corporacao capsula</td>\n",
       "      <td>Major RD</td>\n",
       "      <td>Rock</td>\n",
       "      <td>2:12</td>\n",
       "    </tr>\n",
       "    <tr>\n",
       "      <th>3</th>\n",
       "      <td>14.0</td>\n",
       "      <td>4.0</td>\n",
       "      <td>2024-09-29</td>\n",
       "      <td>240.0</td>\n",
       "      <td>14.0</td>\n",
       "      <td>Negro Drama</td>\n",
       "      <td>Racionai`s MC`s</td>\n",
       "      <td>Rap</td>\n",
       "      <td>5:36</td>\n",
       "    </tr>\n",
       "    <tr>\n",
       "      <th>4</th>\n",
       "      <td>22.0</td>\n",
       "      <td>5.0</td>\n",
       "      <td>2024-09-30</td>\n",
       "      <td>280.0</td>\n",
       "      <td>22.0</td>\n",
       "      <td>UFA</td>\n",
       "      <td>Djonga</td>\n",
       "      <td>Rap</td>\n",
       "      <td>5:55</td>\n",
       "    </tr>\n",
       "    <tr>\n",
       "      <th>5</th>\n",
       "      <td>NaN</td>\n",
       "      <td>NaN</td>\n",
       "      <td>None</td>\n",
       "      <td>NaN</td>\n",
       "      <td>NaN</td>\n",
       "      <td>None</td>\n",
       "      <td>None</td>\n",
       "      <td>None</td>\n",
       "      <td>None</td>\n",
       "    </tr>\n",
       "  </tbody>\n",
       "</table>\n",
       "</div>"
      ],
      "text/plain": [
       "   id_musica  id_reproducao data_reproducao  duracao_reproducao  id_musica  \\\n",
       "0      122.0            1.0      2024-09-26               300.0      122.0   \n",
       "1      103.0            2.0      2024-09-27               180.0      103.0   \n",
       "2      132.0            3.0      2024-09-28               120.0      132.0   \n",
       "3       14.0            4.0      2024-09-29               240.0       14.0   \n",
       "4       22.0            5.0      2024-09-30               280.0       22.0   \n",
       "5        NaN            NaN            None                 NaN        NaN   \n",
       "\n",
       "          nome_musica          artista genero duracao  \n",
       "0      Olhos de tigre           Djonga    Rap    4:44  \n",
       "1    Ate jesus chorou  Racionai`s MC`s    Rap    7:52  \n",
       "2  Corporacao capsula         Major RD   Rock    2:12  \n",
       "3         Negro Drama  Racionai`s MC`s    Rap    5:36  \n",
       "4                 UFA           Djonga    Rap    5:55  \n",
       "5                None             None   None    None  "
      ]
     },
     "execution_count": 4,
     "metadata": {},
     "output_type": "execute_result"
    }
   ],
   "source": [
    "simula_5 = pd.concat([df_reproducao, df_music], axis=1)\n",
    "simula_5"
   ]
  },
  {
   "cell_type": "markdown",
   "id": "a3516dbb-5e3e-4e04-8f0a-3ed5e06a2080",
   "metadata": {},
   "source": [
    "***Realize um merge entre os dataframes musicas e reproducoes, combinando-os pela coluna id_musica.***"
   ]
  },
  {
   "cell_type": "code",
   "execution_count": 5,
   "id": "28dcd5d1-723e-48f5-be2b-54be32efe1a8",
   "metadata": {},
   "outputs": [
    {
     "data": {
      "text/html": [
       "<div>\n",
       "<style scoped>\n",
       "    .dataframe tbody tr th:only-of-type {\n",
       "        vertical-align: middle;\n",
       "    }\n",
       "\n",
       "    .dataframe tbody tr th {\n",
       "        vertical-align: top;\n",
       "    }\n",
       "\n",
       "    .dataframe thead th {\n",
       "        text-align: right;\n",
       "    }\n",
       "</style>\n",
       "<table border=\"1\" class=\"dataframe\">\n",
       "  <thead>\n",
       "    <tr style=\"text-align: right;\">\n",
       "      <th></th>\n",
       "      <th>id_musica</th>\n",
       "      <th>data_reproducao</th>\n",
       "      <th>duracao_reproducao</th>\n",
       "    </tr>\n",
       "  </thead>\n",
       "  <tbody>\n",
       "    <tr>\n",
       "      <th>0</th>\n",
       "      <td>122.0</td>\n",
       "      <td>2024-09-26</td>\n",
       "      <td>300.0</td>\n",
       "    </tr>\n",
       "    <tr>\n",
       "      <th>1</th>\n",
       "      <td>103.0</td>\n",
       "      <td>2024-09-27</td>\n",
       "      <td>180.0</td>\n",
       "    </tr>\n",
       "    <tr>\n",
       "      <th>2</th>\n",
       "      <td>132.0</td>\n",
       "      <td>2024-09-28</td>\n",
       "      <td>120.0</td>\n",
       "    </tr>\n",
       "    <tr>\n",
       "      <th>3</th>\n",
       "      <td>14.0</td>\n",
       "      <td>2024-09-29</td>\n",
       "      <td>240.0</td>\n",
       "    </tr>\n",
       "    <tr>\n",
       "      <th>4</th>\n",
       "      <td>22.0</td>\n",
       "      <td>2024-09-30</td>\n",
       "      <td>280.0</td>\n",
       "    </tr>\n",
       "    <tr>\n",
       "      <th>5</th>\n",
       "      <td>NaN</td>\n",
       "      <td>None</td>\n",
       "      <td>NaN</td>\n",
       "    </tr>\n",
       "  </tbody>\n",
       "</table>\n",
       "</div>"
      ],
      "text/plain": [
       "   id_musica data_reproducao  duracao_reproducao\n",
       "0      122.0      2024-09-26               300.0\n",
       "1      103.0      2024-09-27               180.0\n",
       "2      132.0      2024-09-28               120.0\n",
       "3       14.0      2024-09-29               240.0\n",
       "4       22.0      2024-09-30               280.0\n",
       "5        NaN            None                 NaN"
      ]
     },
     "execution_count": 5,
     "metadata": {},
     "output_type": "execute_result"
    }
   ],
   "source": [
    "simula = pd.merge(df_reproducao, df_music, on='id_musica', how='inner')[['id_musica', 'data_reproducao', 'duracao_reproducao']]\n",
    "simula"
   ]
  },
  {
   "cell_type": "markdown",
   "id": "fbcadfa2-8462-4d56-a2d5-185f55cadbdb",
   "metadata": {},
   "source": [
    "***Exiba o nome da música, o artista e a duração reproduzida para cada reprodução***"
   ]
  },
  {
   "cell_type": "code",
   "execution_count": 8,
   "id": "9bb936ea-1db1-4f8a-874a-e1ac33f74473",
   "metadata": {},
   "outputs": [
    {
     "name": "stdout",
     "output_type": "stream",
     "text": [
      "          nome_musica          artista  duracao_reproducao\n",
      "0      Olhos de tigre           Djonga               300.0\n",
      "1    Ate jesus chorou  Racionai`s MC`s               180.0\n",
      "2  Corporacao capsula         Major RD               120.0\n",
      "3         Negro Drama  Racionai`s MC`s               240.0\n",
      "4                 UFA           Djonga               280.0\n",
      "5                None             None                 NaN\n"
     ]
    }
   ],
   "source": [
    "df_joined = pd.merge(df_reproducao, df_music, on='id_musica', how='left')\n",
    "print(df_joined[['nome_musica', 'artista', 'duracao_reproducao']])"
   ]
  },
  {
   "cell_type": "markdown",
   "id": "d7f9fb07-be43-4c03-a60e-9112e684db8c",
   "metadata": {},
   "source": [
    "***Atualize o dataframe de reproducoes, removendo um registro para simular que nem todas as músicas foram reproduzidas.***"
   ]
  },
  {
   "cell_type": "code",
   "execution_count": 9,
   "id": "5c1da506-15aa-4650-b05d-b15ce194ac7d",
   "metadata": {},
   "outputs": [
    {
     "name": "stdout",
     "output_type": "stream",
     "text": [
      "          nome_musica          artista  duracao_reproducao\n",
      "0      Olhos de tigre           Djonga               300.0\n",
      "1    Ate jesus chorou  Racionai`s MC`s               180.0\n",
      "2  Corporacao capsula         Major RD               120.0\n",
      "3         Negro Drama  Racionai`s MC`s                 NaN\n",
      "4                 UFA           Djonga               280.0\n",
      "5                None             None                 NaN\n"
     ]
    }
   ],
   "source": [
    "# Remove um registro do dataframe de reproducoes\n",
    "df_reproducao = df_reproducao.drop(df_reproducao.index[3])\n",
    "\n",
    "# Realiza a junção entre os DataFrames\n",
    "df_joined = pd.merge(df_music, df_reproducao, on='id_musica', how='left')\n",
    "\n",
    "# Exibe o nome da música, o artista e a duração reproduzida para cada reprodução\n",
    "print(df_joined[['nome_musica', 'artista', 'duracao_reproducao']])"
   ]
  },
  {
   "cell_type": "markdown",
   "id": "78a36f13-70e0-4057-8e14-1c7272f1c671",
   "metadata": {},
   "source": [
    "***Realize o merge novamente e identifique os valores faltantes.***"
   ]
  },
  {
   "cell_type": "code",
   "execution_count": 10,
   "id": "da08b268-25be-4e1f-b3ac-9b8b2c7e6ae8",
   "metadata": {},
   "outputs": [
    {
     "name": "stdout",
     "output_type": "stream",
     "text": [
      "DataFrame resultante do merge:\n",
      "   id_musica  id_reproducao data_reproducao  duracao_reproducao  \\\n",
      "0       14.0            NaN             NaN                 NaN   \n",
      "1       22.0            5.0      2024-09-30               280.0   \n",
      "2      103.0            2.0      2024-09-27               180.0   \n",
      "3      122.0            1.0      2024-09-26               300.0   \n",
      "4      132.0            3.0      2024-09-28               120.0   \n",
      "5        NaN            NaN            None                 NaN   \n",
      "\n",
      "          nome_musica          artista genero duracao  \n",
      "0         Negro Drama  Racionai`s MC`s    Rap    5:36  \n",
      "1                 UFA           Djonga    Rap    5:55  \n",
      "2    Ate jesus chorou  Racionai`s MC`s    Rap    7:52  \n",
      "3      Olhos de tigre           Djonga    Rap    4:44  \n",
      "4  Corporacao capsula         Major RD   Rock    2:12  \n",
      "5                None             None   None    None  \n",
      "\n",
      "Valores faltantes em cada coluna:\n",
      "id_musica             1\n",
      "id_reproducao         2\n",
      "data_reproducao       2\n",
      "duracao_reproducao    2\n",
      "nome_musica           1\n",
      "artista               1\n",
      "genero                1\n",
      "duracao               1\n",
      "dtype: int64\n"
     ]
    }
   ],
   "source": [
    "# Realizanda o merge entre os DataFrames\n",
    "df_resultado = pd.merge(df_reproducao, df_music, on='id_musica', how='outer')\n",
    "\n",
    "# Identifica valores faltantes\n",
    "valores_faltantes = df_resultado.isnull().sum()\n",
    "\n",
    "# Exibinde o DataFrame resultante e os valores faltantes\n",
    "print(\"DataFrame resultante do merge:\")\n",
    "print(df_resultado)\n",
    "\n",
    "print(\"\\nValores faltantes em cada coluna:\")\n",
    "print(valores_faltantes)"
   ]
  },
  {
   "cell_type": "markdown",
   "id": "f517b38e-b7c3-4c4d-b0ca-f7a21b8d5fde",
   "metadata": {},
   "source": [
    "***Preencha os valores faltantes com \"Não Reproduzida\".***"
   ]
  },
  {
   "cell_type": "code",
   "execution_count": 12,
   "id": "aa2b4d13-5efd-4da1-a5ef-0f7e7fb7ffd4",
   "metadata": {},
   "outputs": [
    {
     "name": "stdout",
     "output_type": "stream",
     "text": [
      "         id_musica    id_reproducao  data_reproducao duracao_reproducao  \\\n",
      "0             14.0  Não Reproduzida  Não Reproduzida    Não Reproduzida   \n",
      "1             22.0              5.0       2024-09-30              280.0   \n",
      "2            103.0              2.0       2024-09-27              180.0   \n",
      "3            122.0              1.0       2024-09-26              300.0   \n",
      "4            132.0              3.0       2024-09-28              120.0   \n",
      "5  Não Reproduzida  Não Reproduzida  Não Reproduzida    Não Reproduzida   \n",
      "\n",
      "          nome_musica          artista           genero          duracao  \n",
      "0         Negro Drama  Racionai`s MC`s              Rap             5:36  \n",
      "1                 UFA           Djonga              Rap             5:55  \n",
      "2    Ate jesus chorou  Racionai`s MC`s              Rap             7:52  \n",
      "3      Olhos de tigre           Djonga              Rap             4:44  \n",
      "4  Corporacao capsula         Major RD             Rock             2:12  \n",
      "5     Não Reproduzida  Não Reproduzida  Não Reproduzida  Não Reproduzida  \n"
     ]
    }
   ],
   "source": [
    "df_resultado.fillna(\"Não Reproduzida\", inplace=True)\n",
    "print(df_resultado)"
   ]
  },
  {
   "cell_type": "markdown",
   "id": "5010fcf6-163c-48b6-9b4b-a1cfa3da26b7",
   "metadata": {},
   "source": [
    "***Qual o gênero de música mais reproduzido? Use agrupamento para calcular isso.***"
   ]
  },
  {
   "cell_type": "code",
   "execution_count": 13,
   "id": "e9d691d7-0b9c-4d1d-b38f-cf17c094c9a7",
   "metadata": {},
   "outputs": [
    {
     "name": "stdout",
     "output_type": "stream",
     "text": [
      "Mais tocadas genero\n",
      "Rap     4\n",
      "Rock    1\n",
      "Name: count, dtype: int64\n"
     ]
    }
   ],
   "source": [
    "mais_tocadas = df_music['genero'].value_counts()\n",
    "print(f'Mais tocadas {mais_tocadas}')"
   ]
  },
  {
   "cell_type": "markdown",
   "id": "efacc0c4-4afa-4e63-95bc-2d7e562b9e22",
   "metadata": {},
   "source": [
    "***Qual o total de minutos de música reproduzidos?***"
   ]
  },
  {
   "cell_type": "code",
   "execution_count": 14,
   "id": "0daf33b0-4a6e-4978-ac88-5ec5661ef581",
   "metadata": {},
   "outputs": [
    {
     "name": "stdout",
     "output_type": "stream",
     "text": [
      "Total de tempo reproduzido 880.0\n"
     ]
    }
   ],
   "source": [
    "soma_duracao = df_reproducao['duracao_reproducao'].sum()\n",
    "print(f'Total de tempo reproduzido {soma_duracao}')"
   ]
  },
  {
   "cell_type": "markdown",
   "id": "608811dc-fb1c-4d74-a9b4-ca02f636fd85",
   "metadata": {},
   "source": [
    "Crie uma nova coluna chamada avaliacao e atribua uma classificação de 1 a 5 para cada música com base em quanto você gosta dela."
   ]
  },
  {
   "cell_type": "code",
   "execution_count": 20,
   "id": "e8b2c14a-47af-4ab3-936d-dc283cb3a7b3",
   "metadata": {},
   "outputs": [
    {
     "data": {
      "text/html": [
       "<div>\n",
       "<style scoped>\n",
       "    .dataframe tbody tr th:only-of-type {\n",
       "        vertical-align: middle;\n",
       "    }\n",
       "\n",
       "    .dataframe tbody tr th {\n",
       "        vertical-align: top;\n",
       "    }\n",
       "\n",
       "    .dataframe thead th {\n",
       "        text-align: right;\n",
       "    }\n",
       "</style>\n",
       "<table border=\"1\" class=\"dataframe\">\n",
       "  <thead>\n",
       "    <tr style=\"text-align: right;\">\n",
       "      <th></th>\n",
       "      <th>id_musica</th>\n",
       "      <th>nome_musica</th>\n",
       "      <th>artista</th>\n",
       "      <th>genero</th>\n",
       "      <th>duracao</th>\n",
       "      <th>avaliacao</th>\n",
       "    </tr>\n",
       "  </thead>\n",
       "  <tbody>\n",
       "    <tr>\n",
       "      <th>0</th>\n",
       "      <td>122.0</td>\n",
       "      <td>Olhos de tigre</td>\n",
       "      <td>Djonga</td>\n",
       "      <td>Rap</td>\n",
       "      <td>4:44</td>\n",
       "      <td>5.0</td>\n",
       "    </tr>\n",
       "    <tr>\n",
       "      <th>1</th>\n",
       "      <td>103.0</td>\n",
       "      <td>Ate jesus chorou</td>\n",
       "      <td>Racionai`s MC`s</td>\n",
       "      <td>Rap</td>\n",
       "      <td>7:52</td>\n",
       "      <td>5.0</td>\n",
       "    </tr>\n",
       "    <tr>\n",
       "      <th>2</th>\n",
       "      <td>132.0</td>\n",
       "      <td>Corporacao capsula</td>\n",
       "      <td>Major RD</td>\n",
       "      <td>Rock</td>\n",
       "      <td>2:12</td>\n",
       "      <td>5.0</td>\n",
       "    </tr>\n",
       "    <tr>\n",
       "      <th>3</th>\n",
       "      <td>14.0</td>\n",
       "      <td>Negro Drama</td>\n",
       "      <td>Racionai`s MC`s</td>\n",
       "      <td>Rap</td>\n",
       "      <td>5:36</td>\n",
       "      <td>5.0</td>\n",
       "    </tr>\n",
       "    <tr>\n",
       "      <th>4</th>\n",
       "      <td>22.0</td>\n",
       "      <td>UFA</td>\n",
       "      <td>Djonga</td>\n",
       "      <td>Rap</td>\n",
       "      <td>5:55</td>\n",
       "      <td>5.0</td>\n",
       "    </tr>\n",
       "    <tr>\n",
       "      <th>5</th>\n",
       "      <td>NaN</td>\n",
       "      <td>None</td>\n",
       "      <td>None</td>\n",
       "      <td>None</td>\n",
       "      <td>None</td>\n",
       "      <td>NaN</td>\n",
       "    </tr>\n",
       "  </tbody>\n",
       "</table>\n",
       "</div>"
      ],
      "text/plain": [
       "   id_musica         nome_musica          artista genero duracao  avaliacao\n",
       "0      122.0      Olhos de tigre           Djonga    Rap    4:44        5.0\n",
       "1      103.0    Ate jesus chorou  Racionai`s MC`s    Rap    7:52        5.0\n",
       "2      132.0  Corporacao capsula         Major RD   Rock    2:12        5.0\n",
       "3       14.0         Negro Drama  Racionai`s MC`s    Rap    5:36        5.0\n",
       "4       22.0                 UFA           Djonga    Rap    5:55        5.0\n",
       "5        NaN                None             None   None    None        NaN"
      ]
     },
     "execution_count": 20,
     "metadata": {},
     "output_type": "execute_result"
    }
   ],
   "source": [
    "avaliacoes = [5, 5, 5, 5, 5]\n",
    "df_music['avaliacao'] = avaliacoes + [None]\n",
    "\n",
    "df_music"
   ]
  }
 ],
 "metadata": {
  "kernelspec": {
   "display_name": "Python 3 (ipykernel)",
   "language": "python",
   "name": "python3"
  },
  "language_info": {
   "codemirror_mode": {
    "name": "ipython",
    "version": 3
   },
   "file_extension": ".py",
   "mimetype": "text/x-python",
   "name": "python",
   "nbconvert_exporter": "python",
   "pygments_lexer": "ipython3",
   "version": "3.12.4"
  }
 },
 "nbformat": 4,
 "nbformat_minor": 5
}
