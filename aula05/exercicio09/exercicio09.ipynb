{
 "cells": [
  {
   "cell_type": "markdown",
   "id": "d5a6d1ac-9f9e-4923-a3f0-b4e9daa31a17",
   "metadata": {},
   "source": [
    "# Exercício 09:"
   ]
  },
  {
   "cell_type": "markdown",
   "id": "581c673d-be06-4c68-acd1-80c70287cc95",
   "metadata": {},
   "source": [
    "***Use 3 dataframes criados na aula anterior, mostre\n",
    "apenas o filme/série/anime com maior pontuação.***"
   ]
  },
  {
   "cell_type": "code",
   "execution_count": 3,
   "id": "b84c83eb-6617-4ea8-ac70-4ed7bfb99918",
   "metadata": {},
   "outputs": [],
   "source": [
    "import pandas as pd"
   ]
  },
  {
   "cell_type": "code",
   "execution_count": 4,
   "id": "c6fd091e-36ac-46e6-849c-5590f60eeca5",
   "metadata": {},
   "outputs": [],
   "source": [
    "# Dicionários da aula anterior\n",
    "movie_dados = {\n",
    "        'name': ['Hereditary', 'The Witch', 'Midsommar', 'Ender`s Game', 'Get Out'],\n",
    "        'date': [2018, 2015, 2019, 2013, 2017],\n",
    "        'score': [10, 9, 8, 10,9]\n",
    "}\n",
    "serie_dados = {\n",
    "        'name': ['The Office', 'Game of Thrones', 'The Walking Dead', 'Friends', 'The Sopranos'],\n",
    "        'date': [2005, 2011, 2010, 1994, 1999],\n",
    "        'score': [10, 7, 5, 10, 9]\n",
    "}\n",
    "animation_dados = {\n",
    "        'name': ['SpongeBob SquarePants', 'Adventure Time', 'Over the Garden Wall', 'Gravity Falls', 'Rick and Morty'],\n",
    "        'date': [1999, 2010, 2014, 2012, 2013],\n",
    "        'score': [8, 8, 10, 10, 10]\n",
    "}"
   ]
  },
  {
   "cell_type": "code",
   "execution_count": 5,
   "id": "9ea37933-5674-4a0c-9b3a-3e9f632f7bc2",
   "metadata": {},
   "outputs": [],
   "source": [
    "# Convertendo os dicionários em DataFrames\n",
    "df_movies = pd.DataFrame(movie_dados)\n",
    "df_series = pd.DataFrame(serie_dados)\n",
    "df_animations = pd.DataFrame(animation_dados)"
   ]
  },
  {
   "cell_type": "code",
   "execution_count": 6,
   "id": "29916447-d5eb-4ba0-9f2a-d7282fa06689",
   "metadata": {},
   "outputs": [],
   "source": [
    "# Filme com a maior pontuação\n",
    "best_movie = df_movies.loc[df_movies['score'].idxmax()]"
   ]
  },
  {
   "cell_type": "code",
   "execution_count": 7,
   "id": "da277e0d-4931-483f-8f8b-c5bc82e6e3fb",
   "metadata": {},
   "outputs": [],
   "source": [
    "# Série com a maior pontuação\n",
    "best_serie = df_series.loc[df_series['score'].idxmax()]"
   ]
  },
  {
   "cell_type": "code",
   "execution_count": 8,
   "id": "c61092a9-0285-47f5-8ed6-56e21363ffdd",
   "metadata": {},
   "outputs": [],
   "source": [
    "# Animação com a maior pontuação\n",
    "best_animation = df_animations.loc[df_animations['score'].idxmax()]"
   ]
  },
  {
   "cell_type": "code",
   "execution_count": 9,
   "id": "24668065-ff02-4de4-9b26-74cc04c8ae90",
   "metadata": {},
   "outputs": [
    {
     "name": "stdout",
     "output_type": "stream",
     "text": [
      "Melhor filme:\n",
      "name     Hereditary\n",
      "date           2018\n",
      "score            10\n",
      "Name: 0, dtype: object\n",
      "\n",
      "Melhor série:\n",
      "name     The Office\n",
      "date           2005\n",
      "score            10\n",
      "Name: 0, dtype: object\n",
      "\n",
      "Melhor animação:\n",
      "name     Over the Garden Wall\n",
      "date                     2014\n",
      "score                      10\n",
      "Name: 2, dtype: object\n"
     ]
    }
   ],
   "source": [
    "# Resultados\n",
    "print(\"Melhor filme:\")\n",
    "print(best_movie)\n",
    "\n",
    "print(\"\\nMelhor série:\")\n",
    "print(best_serie)\n",
    "\n",
    "print(\"\\nMelhor animação:\")\n",
    "print(best_animation)"
   ]
  },
  {
   "cell_type": "markdown",
   "id": "b9d9c591-88f9-4094-92bf-b0340941cc90",
   "metadata": {},
   "source": [
    "***Leia o arquivo do dataset em json.***"
   ]
  },
  {
   "cell_type": "code",
   "execution_count": 10,
   "id": "35e7416f-c016-4bd7-9adc-36674f586227",
   "metadata": {},
   "outputs": [],
   "source": [
    "# Concatenando os DataFrames em um único DataFrame\n",
    "df_combined = pd.concat([df_movies, df_series, df_animations], ignore_index=True)"
   ]
  },
  {
   "cell_type": "code",
   "execution_count": 11,
   "id": "1f2972c3-ae70-4d57-8298-b98a0b4e217f",
   "metadata": {},
   "outputs": [],
   "source": [
    "# Convertendo o DataFrame para JSON\n",
    "df_combined.to_json('json_exercicio09.json', orient='records', indent=4)"
   ]
  },
  {
   "cell_type": "code",
   "execution_count": 14,
   "id": "2d397336-174d-4845-adb7-559ec001c203",
   "metadata": {},
   "outputs": [
    {
     "name": "stdout",
     "output_type": "stream",
     "text": [
      "                     name  date  score\n",
      "0              Hereditary  2018     10\n",
      "1               The Witch  2015      9\n",
      "2               Midsommar  2019      8\n",
      "3            Ender`s Game  2013     10\n",
      "4                 Get Out  2017      9\n",
      "5              The Office  2005     10\n",
      "6         Game of Thrones  2011      7\n",
      "7        The Walking Dead  2010      5\n",
      "8                 Friends  1994     10\n",
      "9            The Sopranos  1999      9\n",
      "10  SpongeBob SquarePants  1999      8\n",
      "11         Adventure Time  2010      8\n",
      "12   Over the Garden Wall  2014     10\n",
      "13          Gravity Falls  2012     10\n",
      "14         Rick and Morty  2013     10\n"
     ]
    }
   ],
   "source": [
    "# Lendo o arquivo JSON\n",
    "df_lido = pd.read_json('json_exercicio09.json')\n",
    "print(df_lido)"
   ]
  },
  {
   "cell_type": "markdown",
   "id": "c69deb3f-5773-4aa2-a07c-f18174fd471d",
   "metadata": {},
   "source": [
    "***Selecione apenas as 3 primeiras colunas do dataset***"
   ]
  },
  {
   "cell_type": "code",
   "execution_count": 44,
   "id": "ae058bb8-b3a1-4872-ad53-11400e8d820f",
   "metadata": {},
   "outputs": [
    {
     "name": "stdout",
     "output_type": "stream",
     "text": [
      "                     name  date  score\n",
      "0              Hereditary  2018     10\n",
      "1               The Witch  2015      9\n",
      "2               Midsommar  2019      8\n",
      "3            Ender`s Game  2013     10\n",
      "4                 Get Out  2017      9\n",
      "5              The Office  2005     10\n",
      "6         Game of Thrones  2011      7\n",
      "7        The Walking Dead  2010      5\n",
      "8                 Friends  1994     10\n",
      "9            The Sopranos  1999      9\n",
      "10  SpongeBob SquarePants  1999      8\n",
      "11         Adventure Time  2010      8\n",
      "12   Over the Garden Wall  2014     10\n",
      "13          Gravity Falls  2012     10\n",
      "14         Rick and Morty  2013     10\n"
     ]
    }
   ],
   "source": [
    "df_selecionado = df_lido[['name', 'date', 'score']]\n",
    "print(df_selecionado)"
   ]
  },
  {
   "cell_type": "markdown",
   "id": "ea412fd4-5239-4e8c-9080-ce85c77a018d",
   "metadata": {},
   "source": [
    "***Selecione apenas as 10 primeiras linhas do dataset***"
   ]
  },
  {
   "cell_type": "code",
   "execution_count": 45,
   "id": "13c2edfd-6218-497a-b435-ef3b795a198c",
   "metadata": {},
   "outputs": [
    {
     "name": "stdout",
     "output_type": "stream",
     "text": [
      "               name  date  score\n",
      "0        Hereditary  2018     10\n",
      "1         The Witch  2015      9\n",
      "2         Midsommar  2019      8\n",
      "3      Ender`s Game  2013     10\n",
      "4           Get Out  2017      9\n",
      "5        The Office  2005     10\n",
      "6   Game of Thrones  2011      7\n",
      "7  The Walking Dead  2010      5\n",
      "8           Friends  1994     10\n",
      "9      The Sopranos  1999      9\n"
     ]
    }
   ],
   "source": [
    "df_primeiras_linhas = df_lido.head(10)\n",
    "print(df_primeiras_linhas)"
   ]
  },
  {
   "cell_type": "markdown",
   "id": "b2e57e4b-344a-4679-af2b-37ec00971e42",
   "metadata": {},
   "source": [
    "***Utilize uma função para identificar o valor médio\n",
    "da 1° coluna***"
   ]
  },
  {
   "cell_type": "code",
   "execution_count": 39,
   "id": "fec3abd8-581f-4bc2-88d1-2a359ae84999",
   "metadata": {},
   "outputs": [],
   "source": [
    "def calcular_media_score(dataframe):\n",
    "    media = dataframe['score'].mean()\n",
    "    return media"
   ]
  },
  {
   "cell_type": "code",
   "execution_count": 41,
   "id": "3a22b86d-4cd3-4c54-b45e-4736b97434ef",
   "metadata": {},
   "outputs": [
    {
     "name": "stdout",
     "output_type": "stream",
     "text": [
      "A média da coluna 'score' é: 8.866666666666667\n"
     ]
    }
   ],
   "source": [
    "media_score = calcular_media_score(df_lido)\n",
    "print(f\"A média da coluna 'score' é: {media_score}\")"
   ]
  },
  {
   "cell_type": "markdown",
   "id": "02520ea7-24b9-41a4-8471-f51f29c9e845",
   "metadata": {},
   "source": [
    "***Filtre o dataframe pegando apenas as linhas com valores maiores que essa média.***"
   ]
  },
  {
   "cell_type": "code",
   "execution_count": 43,
   "id": "e6feb56a-f905-48b4-bf4d-8542bc26bbc8",
   "metadata": {},
   "outputs": [
    {
     "name": "stdout",
     "output_type": "stream",
     "text": [
      "                    name  date  score\n",
      "0             Hereditary  2018     10\n",
      "1              The Witch  2015      9\n",
      "3           Ender`s Game  2013     10\n",
      "4                Get Out  2017      9\n",
      "5             The Office  2005     10\n",
      "8                Friends  1994     10\n",
      "9           The Sopranos  1999      9\n",
      "12  Over the Garden Wall  2014     10\n",
      "13         Gravity Falls  2012     10\n",
      "14        Rick and Morty  2013     10\n"
     ]
    }
   ],
   "source": [
    "df_filtrado = df_lido[df_lido['score'] > media_score]\n",
    "print(df_filtrado)"
   ]
  },
  {
   "cell_type": "markdown",
   "id": "33f7e8f5-43ed-459f-81cb-3eeb92312643",
   "metadata": {},
   "source": [
    "***Escolha uma coluna com valores textuais e filtre o dataframe pelo 1º valor***"
   ]
  },
  {
   "cell_type": "code",
   "execution_count": 49,
   "id": "c0a8cc88-5657-4978-a4a8-2df1abd00d3f",
   "metadata": {},
   "outputs": [],
   "source": [
    "primeiro_nome = df_lido['name'].iloc[0]"
   ]
  },
  {
   "cell_type": "code",
   "execution_count": 50,
   "id": "686bbc16-2059-4494-9751-c0e0fb636c6f",
   "metadata": {},
   "outputs": [
    {
     "name": "stdout",
     "output_type": "stream",
     "text": [
      "         name  date  score\n",
      "0  Hereditary  2018     10\n"
     ]
    }
   ],
   "source": [
    "df_filtrado = df_lido[df_lido['name'] == primeiro_nome]\n",
    "print(df_filtrado)"
   ]
  },
  {
   "cell_type": "markdown",
   "id": "bf27bbd2-d8d9-4c5a-87a3-1938b2433488",
   "metadata": {},
   "source": [
    "***Escolha uma coluna, como ano, titulo, etc e ordene seu dataframe tanto de forma crescente quanto decrescente***"
   ]
  },
  {
   "cell_type": "code",
   "execution_count": 51,
   "id": "51799aa3-9707-4f37-897d-c51d4ae9c14f",
   "metadata": {},
   "outputs": [
    {
     "name": "stdout",
     "output_type": "stream",
     "text": [
      "                     name  date  score\n",
      "8                 Friends  1994     10\n",
      "9            The Sopranos  1999      9\n",
      "10  SpongeBob SquarePants  1999      8\n",
      "5              The Office  2005     10\n",
      "11         Adventure Time  2010      8\n",
      "7        The Walking Dead  2010      5\n",
      "6         Game of Thrones  2011      7\n",
      "13          Gravity Falls  2012     10\n",
      "3            Ender`s Game  2013     10\n",
      "14         Rick and Morty  2013     10\n",
      "12   Over the Garden Wall  2014     10\n",
      "1               The Witch  2015      9\n",
      "4                 Get Out  2017      9\n",
      "0              Hereditary  2018     10\n",
      "2               Midsommar  2019      8\n"
     ]
    }
   ],
   "source": [
    "# Ordenando o DataFrame pela coluna 'date' (ano) de forma crescente\n",
    "df_ordenado_crescente = df_lido.sort_values(by='date', ascending=True)\n",
    "print(df_ordenado_crescente)"
   ]
  },
  {
   "cell_type": "code",
   "execution_count": 52,
   "id": "746d9e21-d6ba-4c2c-9f9a-a07cda58d43a",
   "metadata": {},
   "outputs": [
    {
     "name": "stdout",
     "output_type": "stream",
     "text": [
      "Ordenado de forma decrescente pela coluna 'date':\n",
      "                     name  date  score\n",
      "2               Midsommar  2019      8\n",
      "0              Hereditary  2018     10\n",
      "4                 Get Out  2017      9\n",
      "1               The Witch  2015      9\n",
      "12   Over the Garden Wall  2014     10\n",
      "14         Rick and Morty  2013     10\n",
      "3            Ender`s Game  2013     10\n",
      "13          Gravity Falls  2012     10\n",
      "6         Game of Thrones  2011      7\n",
      "11         Adventure Time  2010      8\n",
      "7        The Walking Dead  2010      5\n",
      "5              The Office  2005     10\n",
      "9            The Sopranos  1999      9\n",
      "10  SpongeBob SquarePants  1999      8\n",
      "8                 Friends  1994     10\n"
     ]
    }
   ],
   "source": [
    "# Ordenando o DataFrame pela coluna 'date' (ano) de forma decrescente\n",
    "df_ordenado_decrescente = df_lido.sort_values(by='date', ascending=False)\n",
    "print(\"Ordenado de forma decrescente pela coluna 'date':\")\n",
    "print(df_ordenado_decrescente)"
   ]
  }
 ],
 "metadata": {
  "kernelspec": {
   "display_name": "Python 3 (ipykernel)",
   "language": "python",
   "name": "python3"
  },
  "language_info": {
   "codemirror_mode": {
    "name": "ipython",
    "version": 3
   },
   "file_extension": ".py",
   "mimetype": "text/x-python",
   "name": "python",
   "nbconvert_exporter": "python",
   "pygments_lexer": "ipython3",
   "version": "3.12.4"
  }
 },
 "nbformat": 4,
 "nbformat_minor": 5
}
